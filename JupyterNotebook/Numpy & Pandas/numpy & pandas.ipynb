{
 "cells": [
  {
   "cell_type": "code",
   "execution_count": 1,
   "metadata": {},
   "outputs": [
    {
     "name": "stdout",
     "output_type": "stream",
     "text": [
      "[[1 2 3]\n",
      " [2 3 4]]\n",
      "number of dim: 2\n",
      "shape (2, 3)\n",
      "size 6\n"
     ]
    }
   ],
   "source": [
    "#numpy 属性\n",
    "import numpy as np\n",
    "array = np.array([[1,2,3],\n",
    "                  [2,3,4]])\n",
    "print(array)\n",
    "print('number of dim:',array.ndim)#纬度\n",
    "print('shape',array.shape)\n",
    "print('size',array.size)"
   ]
  },
  {
   "cell_type": "code",
   "execution_count": 2,
   "metadata": {},
   "outputs": [
    {
     "name": "stdout",
     "output_type": "stream",
     "text": [
      "[[2 3 4]\n",
      " [4 5 6]]\n",
      "[[0 0 0]\n",
      " [0 0 0]\n",
      " [0 0 0]]\n",
      "[[1 1 1]\n",
      " [1 1 1]\n",
      " [1 1 1]]\n",
      "[[1. 0. 0.]\n",
      " [0. 1. 0.]\n",
      " [0. 0. 1.]]\n",
      "[[10 12 14]\n",
      " [16 18 20]]\n",
      "[[ 1.          1.81818182  2.63636364  3.45454545]\n",
      " [ 4.27272727  5.09090909  5.90909091  6.72727273]\n",
      " [ 7.54545455  8.36363636  9.18181818 10.        ]]\n"
     ]
    }
   ],
   "source": [
    "#numpy的创建array\n",
    "import numpy as np\n",
    "\n",
    "a = np.array([[2,3,4],\n",
    "              [4,5,6]],\n",
    "              dtype=np.int)\n",
    "print(a)\n",
    "b = np.zeros((3,3),dtype=np.int)\n",
    "print(b)\n",
    "c = np.ones((3,3),dtype=np.int)\n",
    "print(c)\n",
    "d = np.eye(3)\n",
    "print(d)\n",
    "e = np.arange(10,22,2).reshape(2,3)\n",
    "print(e)\n",
    "f = np.linspace(1,10,12).reshape((3,4))\n",
    "print(f)"
   ]
  },
  {
   "cell_type": "code",
   "execution_count": 3,
   "metadata": {},
   "outputs": [
    {
     "name": "stdout",
     "output_type": "stream",
     "text": [
      "[10 20 30 40] [0 1 2 3]\n",
      "[10 21 32 43]\n",
      "[0 1 4 9]\n",
      "[-0.54402111  0.91294525 -0.98803162  0.74511316]\n",
      "[ True  True  True False]\n",
      "[[0 1]\n",
      " [0 3]]\n",
      "[[2 4]\n",
      " [2 3]]\n",
      "[[0.38801344 0.23989827 0.78614263 0.87124349]\n",
      " [0.24053696 0.75799983 0.44504303 0.3001702 ]]\n",
      "4.029047844084089\n",
      "[0.6285504  0.9978981  1.23118566 1.17141368]\n",
      "[2.28529783 1.74375002]\n"
     ]
    }
   ],
   "source": [
    "#numpy 基本运算\n",
    "import numpy as np\n",
    "a = np.array([10,20,30,40])\n",
    "b = np.arange(4)\n",
    "print(a,b)\n",
    "c = a+b\n",
    "print(c)\n",
    "d = b**2\n",
    "print(d)\n",
    "e = np.sin(a)\n",
    "print(e)\n",
    "print(b<3)\n",
    "f = np.array([[1,1],[0,1]])\n",
    "g = np.arange(4).reshape(2,2)\n",
    "\n",
    "h = f*g\n",
    "i = np.dot(f,g)\n",
    "print(h)\n",
    "print(i)\n",
    "\n",
    "j = np.random.random((2,4))\n",
    "print(j)\n",
    "print(np.sum(j))\n",
    "print(np.sum(j,axis=0))\n",
    "print(np.sum(j,axis=1))"
   ]
  },
  {
   "cell_type": "code",
   "execution_count": 4,
   "metadata": {},
   "outputs": [
    {
     "name": "stdout",
     "output_type": "stream",
     "text": [
      "[[14 13 12 11]\n",
      " [10  9  8  7]\n",
      " [ 6  5  4  3]]\n",
      "11\n",
      "0\n",
      "8.5\n",
      "[10.  9.  8.  7.]\n",
      "[12.5  8.5  4.5]\n",
      "8.5\n",
      "[ 14  27  39  50  60  69  77  84  90  95  99 102]\n",
      "[[-1 -1 -1]\n",
      " [-1 -1 -1]\n",
      " [-1 -1 -1]]\n",
      "(array([0, 0, 0, 0, 1, 1, 1, 1, 2, 2, 2, 2]), array([0, 1, 2, 3, 0, 1, 2, 3, 0, 1, 2, 3]))\n",
      "[[11 12 13 14]\n",
      " [ 7  8  9 10]\n",
      " [ 3  4  5  6]]\n",
      "[[14 10  6]\n",
      " [13  9  5]\n",
      " [12  8  4]\n",
      " [11  7  3]]\n",
      "[[14 10  6]\n",
      " [13  9  5]\n",
      " [12  8  4]\n",
      " [11  7  3]]\n",
      "[[9 9 9 9]\n",
      " [9 9 8 7]\n",
      " [6 5 5 5]]\n"
     ]
    }
   ],
   "source": [
    "#numpy的基本运算2\n",
    "import numpy as np\n",
    "A = np.arange(14,2,-1).reshape(3,4)\n",
    "print(A)\n",
    "print(np.argmin(A))#最小值索引\n",
    "print(np.argmax(A))#最大值索引\n",
    "print(np.mean(A))#求平均值\n",
    "print(np.mean(A,axis=0))#对列进行计算\n",
    "print(np.mean(A,axis=1))#对行进行计算\n",
    "print(np.median(A))#中位数\n",
    "print(np.cumsum(A))#逐项累加\n",
    "print(np.diff(A))#累差\n",
    "print(np.nonzero(A))#非零数的位置\n",
    "print(np.sort(A))#逐行排序\n",
    "print(np.transpose(A))#求A的转置\n",
    "print(A.T)#求A的转置\n",
    "print(np.clip(A,5,9))#小于5等于5，大于9等于9，中间不变"
   ]
  },
  {
   "cell_type": "code",
   "execution_count": 5,
   "metadata": {},
   "outputs": [
    {
     "name": "stdout",
     "output_type": "stream",
     "text": [
      "[[ 3  4  5  6]\n",
      " [ 7  8  9 10]\n",
      " [11 12 13 14]]\n",
      "[11 12 13 14]\n",
      "[11 12 13 14]\n",
      "[ 4  8 12]\n",
      "8\n",
      "8\n",
      "[[ 3  4]\n",
      " [ 7  8]\n",
      " [11 12]]\n"
     ]
    }
   ],
   "source": [
    "#numpy的索引\n",
    "import numpy as np\n",
    "A = np.arange(3,15).reshape((3,4))\n",
    "print(A)\n",
    "print(A[2])#索引第二行\n",
    "print(A[2,:])#索引第二行\n",
    "print(A[:,1])#索引第二列\n",
    "print(A[1][1])#精确位置索引\n",
    "print(A[1,1])#精确位置索引\n",
    "print(A[:,0:2])#索引第一列和第二列"
   ]
  },
  {
   "cell_type": "code",
   "execution_count": 6,
   "metadata": {},
   "outputs": [
    {
     "name": "stdout",
     "output_type": "stream",
     "text": [
      "[[1 1 1]\n",
      " [2 2 2]]\n",
      "(3,) (2, 3)\n",
      "[1 1 1 2 2 2]\n",
      "(6,)\n",
      "[[1 1 1]]\n",
      "[[1]\n",
      " [1]\n",
      " [1]]\n",
      "[[1 2]\n",
      " [1 2]\n",
      " [1 2]]\n",
      "[[1]\n",
      " [1]\n",
      " [1]\n",
      " [2]\n",
      " [2]\n",
      " [2]\n",
      " [2]\n",
      " [2]\n",
      " [2]\n",
      " [1]\n",
      " [1]\n",
      " [1]]\n",
      "[[1 2 2 1]\n",
      " [1 2 2 1]\n",
      " [1 2 2 1]]\n"
     ]
    }
   ],
   "source": [
    "#numpy的array合并\n",
    "import numpy as np\n",
    "A = np.array([1,1,1])\n",
    "B = np.array([2,2,2])\n",
    "C = np.vstack((A,B))#vertical stack\n",
    "print(C)\n",
    "print(A.shape,C.shape)\n",
    "\n",
    "D = np.hstack((A,B))#horizontal stack\n",
    "print(D)\n",
    "print(D.shape)\n",
    "\n",
    "print(A[np.newaxis,:])\n",
    "print(A[:,np.newaxis])\n",
    "A = A[:,np.newaxis]\n",
    "B = B[:,np.newaxis]\n",
    "print(np.hstack((A,B)))\n",
    "\n",
    "print(np.concatenate((A,B,B,A),axis=0))\n",
    "print(np.concatenate((A,B,B,A),axis=1))"
   ]
  },
  {
   "cell_type": "code",
   "execution_count": 7,
   "metadata": {},
   "outputs": [
    {
     "name": "stdout",
     "output_type": "stream",
     "text": [
      "[[ 0  1  2  3]\n",
      " [ 4  5  6  7]\n",
      " [ 8  9 10 11]]\n",
      "[array([[0, 1],\n",
      "       [4, 5],\n",
      "       [8, 9]]), array([[ 2,  3],\n",
      "       [ 6,  7],\n",
      "       [10, 11]])]\n",
      "[array([[0, 1, 2, 3]]), array([[4, 5, 6, 7]]), array([[ 8,  9, 10, 11]])]\n",
      "[array([[0, 1, 2, 3]]), array([[4, 5, 6, 7]]), array([[ 8,  9, 10, 11]])]\n",
      "[array([[0, 1],\n",
      "       [4, 5],\n",
      "       [8, 9]]), array([[ 2,  3],\n",
      "       [ 6,  7],\n",
      "       [10, 11]])]\n"
     ]
    }
   ],
   "source": [
    "#numpy的array分割\n",
    "import numpy as np\n",
    "A = np.arange(12).reshape(3,4)\n",
    "print(A)\n",
    "#横向分割\n",
    "print(np.split(A,2,axis= 1))\n",
    "#纵向分割\n",
    "print(np.split(A,3,axis = 0))\n",
    "\n",
    "print(np.vsplit(A,3))\n",
    "print(np.hsplit(A,2))"
   ]
  },
  {
   "cell_type": "code",
   "execution_count": 8,
   "metadata": {},
   "outputs": [
    {
     "name": "stdout",
     "output_type": "stream",
     "text": [
      "[11  1  2  3]\n",
      "[11  1  2  3]\n",
      "[11  1  2  3]\n",
      "[11  1  2  3]\n",
      "True True True\n",
      "[ 11   1   2 112]\n",
      "[11  1  2  3]\n",
      "False\n"
     ]
    }
   ],
   "source": [
    "#numpy的copy和deep copy\n",
    "import numpy as np\n",
    "#copy同一个地址\n",
    "a = np.arange(4)\n",
    "b = a\n",
    "c = a\n",
    "d = a\n",
    "a[0] = 11\n",
    "print(a)\n",
    "print(b)\n",
    "print(c)\n",
    "print(d)\n",
    "print(a is b,a is c,a is d)#判断a,b是否相同\n",
    "#深拷贝\n",
    "b = a.copy()#deep copy\n",
    "a[3] = 112\n",
    "print(a)\n",
    "print(b)\n",
    "print(b is a)"
   ]
  },
  {
   "cell_type": "code",
   "execution_count": 9,
   "metadata": {},
   "outputs": [
    {
     "name": "stdout",
     "output_type": "stream",
     "text": [
      "0     1.0\n",
      "1     3.0\n",
      "2     6.0\n",
      "3     NaN\n",
      "4    44.0\n",
      "5     1.0\n",
      "dtype: float64\n",
      "DatetimeIndex(['2019-11-03', '2019-11-04', '2019-11-05', '2019-11-06',\n",
      "               '2019-11-07', '2019-11-08'],\n",
      "              dtype='datetime64[ns]', freq='D')\n",
      "                   a         b         c         d\n",
      "2019-11-03  0.174174 -1.046148 -0.625180 -0.567852\n",
      "2019-11-04  0.132066  1.291773 -0.618194  0.200362\n",
      "2019-11-05  0.840465  0.012166 -0.115932  0.806861\n",
      "2019-11-06 -0.999422  0.725687  0.221763 -0.453734\n",
      "2019-11-07 -0.326275 -0.784403 -0.054296 -0.724296\n",
      "2019-11-08  0.247827 -0.893586  1.084946  0.050737\n",
      "          0         1         2         3\n",
      "0  0.102324 -0.114756  3.068756 -0.004732\n",
      "1 -1.544223  0.374187 -0.959454 -0.307959\n",
      "2  0.184184 -0.042437 -0.633328  0.207863\n",
      "3 -0.598823 -1.385855 -0.479812 -0.194738\n",
      "4 -0.589660 -0.221720 -0.189617 -1.852981\n",
      "5  1.461903  0.536447  0.669152  1.431380\n",
      "a    float64\n",
      "b    float64\n",
      "c    float64\n",
      "d    float64\n",
      "dtype: object\n",
      "DatetimeIndex(['2019-11-03', '2019-11-04', '2019-11-05', '2019-11-06',\n",
      "               '2019-11-07', '2019-11-08'],\n",
      "              dtype='datetime64[ns]', freq='D')\n",
      "Index(['a', 'b', 'c', 'd'], dtype='object')\n",
      "[[ 0.174174   -1.04614808 -0.6251798  -0.56785211]\n",
      " [ 0.13206568  1.29177297 -0.61819432  0.20036249]\n",
      " [ 0.84046471  0.01216645 -0.11593212  0.80686069]\n",
      " [-0.99942182  0.72568698  0.22176342 -0.4537342 ]\n",
      " [-0.32627519 -0.78440343 -0.05429567 -0.72429643]\n",
      " [ 0.24782696 -0.89358639  1.08494572  0.05073692]]\n",
      "              a         b         c         d\n",
      "count  6.000000  6.000000  6.000000  6.000000\n",
      "mean   0.011472 -0.115752 -0.017815 -0.114654\n",
      "std    0.619691  0.961589  0.634631  0.577548\n",
      "min   -0.999422 -1.046148 -0.625180 -0.724296\n",
      "25%   -0.211690 -0.866291 -0.492629 -0.539323\n",
      "50%    0.153120 -0.386118 -0.085114 -0.201499\n",
      "75%    0.229414  0.547307  0.152749  0.162956\n",
      "max    0.840465  1.291773  1.084946  0.806861\n",
      "   2019-11-03  2019-11-04  2019-11-05  2019-11-06  2019-11-07  2019-11-08\n",
      "a    0.174174    0.132066    0.840465   -0.999422   -0.326275    0.247827\n",
      "b   -1.046148    1.291773    0.012166    0.725687   -0.784403   -0.893586\n",
      "c   -0.625180   -0.618194   -0.115932    0.221763   -0.054296    1.084946\n",
      "d   -0.567852    0.200362    0.806861   -0.453734   -0.724296    0.050737\n",
      "                   d         c         b         a\n",
      "2019-11-03 -0.567852 -0.625180 -1.046148  0.174174\n",
      "2019-11-04  0.200362 -0.618194  1.291773  0.132066\n",
      "2019-11-05  0.806861 -0.115932  0.012166  0.840465\n",
      "2019-11-06 -0.453734  0.221763  0.725687 -0.999422\n",
      "2019-11-07 -0.724296 -0.054296 -0.784403 -0.326275\n",
      "2019-11-08  0.050737  1.084946 -0.893586  0.247827\n",
      "                   a         b         c         d\n",
      "2019-11-08  0.247827 -0.893586  1.084946  0.050737\n",
      "2019-11-07 -0.326275 -0.784403 -0.054296 -0.724296\n",
      "2019-11-06 -0.999422  0.725687  0.221763 -0.453734\n",
      "2019-11-05  0.840465  0.012166 -0.115932  0.806861\n",
      "2019-11-04  0.132066  1.291773 -0.618194  0.200362\n",
      "2019-11-03  0.174174 -1.046148 -0.625180 -0.567852\n",
      "                   a         b         c         d\n",
      "2019-11-03  0.174174 -1.046148 -0.625180 -0.567852\n",
      "2019-11-08  0.247827 -0.893586  1.084946  0.050737\n",
      "2019-11-07 -0.326275 -0.784403 -0.054296 -0.724296\n",
      "2019-11-05  0.840465  0.012166 -0.115932  0.806861\n",
      "2019-11-06 -0.999422  0.725687  0.221763 -0.453734\n",
      "2019-11-04  0.132066  1.291773 -0.618194  0.200362\n"
     ]
    }
   ],
   "source": [
    "#pandas基本介绍\n",
    "'''\n",
    "numpy 和 pandas的区别\n",
    "numpy：序列化的排列\n",
    "pandas：字典型的numpy\n",
    "'''\n",
    "import numpy as np\n",
    "import pandas as pd\n",
    "s = pd.Series([1,3,6,np.nan,44,1])\n",
    "print(s)\n",
    "dates = pd.date_range('20191103',periods=6)\n",
    "print(dates)\n",
    "df = pd.DataFrame(np.random.randn(6,4),index = dates,columns=['a','b','c','d'])\n",
    "print(df)\n",
    "df1 = pd.DataFrame(np.random.randn(6,4))\n",
    "print(df1)\n",
    "df2 = pd.DataFrame()\n",
    "print(df.dtypes)\n",
    "print(df.index)\n",
    "print(df.columns)\n",
    "print(df.values)\n",
    "print(df.describe())\n",
    "print(df.T)\n",
    "print(df.sort_index(axis=1,ascending=False))\n",
    "print(df.sort_index(axis=0,ascending=False))\n",
    "print(df.sort_values(by='b'))"
   ]
  },
  {
   "cell_type": "code",
   "execution_count": 10,
   "metadata": {},
   "outputs": [
    {
     "name": "stdout",
     "output_type": "stream",
     "text": [
      "DatetimeIndex(['2019-11-03', '2019-11-04', '2019-11-05', '2019-11-06',\n",
      "               '2019-11-07', '2019-11-08'],\n",
      "              dtype='datetime64[ns]', freq='D')\n",
      "A    12\n",
      "B    13\n",
      "C    14\n",
      "D    15\n",
      "Name: 2019-11-06 00:00:00, dtype: int64\n",
      "             A   B   C   D\n",
      "2019-11-06  12  13  14  15\n",
      "2019-11-07  16  17  18  19\n",
      "2019-11-08  20  21  22  23\n"
     ]
    }
   ],
   "source": [
    "#pandas选择数据\n",
    "import numpy as np\n",
    "import pandas as pd\n",
    "dates = pd.date_range('20191103',periods=6)\n",
    "print(dates)\n",
    "df = pd.DataFrame(np.arange(24).reshape((6,4)),index = dates,columns=['A','B','C','D'])\n",
    "#print(df['A'],df.A)\n",
    "#print(df[0:3],df['2019-11-03': '2019-11-06'])\n",
    "\n",
    "#select by label:loc\n",
    "#print(df.loc['20191104'])\n",
    "#print(df.loc[:,['A','B']])\n",
    "#print(df.loc['20191105',['A','B']])\n",
    "\n",
    "#select by position:iloc\n",
    "print(df.iloc[3,:])\n",
    "\n",
    "#mixed selection:ix\n",
    "#print(df.ix[:3,['A','C']])\n",
    "\n",
    "#Boolean indexing\n",
    "print(df[df.A > 8])"
   ]
  },
  {
   "cell_type": "code",
   "execution_count": 23,
   "metadata": {},
   "outputs": [
    {
     "name": "stdout",
     "output_type": "stream",
     "text": [
      "             A   B     C   D\n",
      "2019-11-03   0   1     2   3\n",
      "2019-11-04   4   5     6   7\n",
      "2019-11-05   8   9  1111  11\n",
      "2019-11-06  12  13    14  15\n",
      "2019-11-07  16  17    18  19\n",
      "2019-11-08  20  21    22  23\n",
      "            A   B     C   D\n",
      "2019-11-03  0   1     2   3\n",
      "2019-11-04  4   5     6   7\n",
      "2019-11-05  0   9  1111  11\n",
      "2019-11-06  0  13    14  15\n",
      "2019-11-07  0  17    18  19\n",
      "2019-11-08  0  21    22  23\n",
      "            A   B     C   D   F  E\n",
      "2019-11-03  0   1     2   3 NaN  1\n",
      "2019-11-04  4   5     6   7 NaN  2\n",
      "2019-11-05  0   9  1111  11 NaN  3\n",
      "2019-11-06  0  13    14  15 NaN  4\n",
      "2019-11-07  0  17    18  19 NaN  5\n",
      "2019-11-08  0  21    22  23 NaN  6\n"
     ]
    }
   ],
   "source": [
    "#pandas设置值\n",
    "import numpy as np\n",
    "import pandas as pd\n",
    "dates = pd.date_range('20191103',periods=6)\n",
    "df = pd.DataFrame(np.arange(24).reshape((6,4)),index = dates,columns=['A','B','C','D'])\n",
    "df.iloc[2,2]=1111\n",
    "print(df)\n",
    "df.A[df.A>4]=0\n",
    "print(df)\n",
    "df['F'] = np.nan\n",
    "df['E'] = pd.Series([1,2,3,4,5,6],index=pd.date_range('20191103',periods=6))\n",
    "print(df)"
   ]
  },
  {
   "cell_type": "code",
   "execution_count": 28,
   "metadata": {},
   "outputs": [
    {
     "name": "stdout",
     "output_type": "stream",
     "text": [
      "             A     B     C   D\n",
      "2019-11-03   0   NaN   2.0   3\n",
      "2019-11-04   4   5.0   NaN   7\n",
      "2019-11-05   8   9.0  10.0  11\n",
      "2019-11-06  12  13.0  14.0  15\n",
      "2019-11-07  16  17.0  18.0  19\n",
      "2019-11-08  20  21.0  22.0  23\n",
      "             A     B     C   D\n",
      "2019-11-05   8   9.0  10.0  11\n",
      "2019-11-06  12  13.0  14.0  15\n",
      "2019-11-07  16  17.0  18.0  19\n",
      "2019-11-08  20  21.0  22.0  23\n",
      "             A     B     C   D\n",
      "2019-11-03   0   0.0   2.0   3\n",
      "2019-11-04   4   5.0   0.0   7\n",
      "2019-11-05   8   9.0  10.0  11\n",
      "2019-11-06  12  13.0  14.0  15\n",
      "2019-11-07  16  17.0  18.0  19\n",
      "2019-11-08  20  21.0  22.0  23\n",
      "                A      B      C      D\n",
      "2019-11-03  False   True  False  False\n",
      "2019-11-04  False  False   True  False\n",
      "2019-11-05  False  False  False  False\n",
      "2019-11-06  False  False  False  False\n",
      "2019-11-07  False  False  False  False\n",
      "2019-11-08  False  False  False  False\n"
     ]
    }
   ],
   "source": [
    "#pandas处理数据\n",
    "import numpy as np\n",
    "import pandas as pd\n",
    "dates = pd.date_range('20191103',periods=6)\n",
    "df = pd.DataFrame(np.arange(24).reshape((6,4)),index = dates,columns=['A','B','C','D'])\n",
    "df.iloc[0,1] = np.nan\n",
    "df.iloc[1,2] = np.nan\n",
    "print(df)\n",
    "print(df.dropna(axis = 0,how='any'))#how = {'any','all'}\n",
    "print(df.fillna(value=0))\n",
    "print(df.isnull())"
   ]
  },
  {
   "cell_type": "code",
   "execution_count": null,
   "metadata": {},
   "outputs": [],
   "source": [
    "#pandas导入导出\n",
    "import pandas as pd\n",
    "data = pd.read_csv('path',name=[])\n",
    "data.to_excel('path')"
   ]
  },
  {
   "cell_type": "code",
   "execution_count": 42,
   "metadata": {},
   "outputs": [
    {
     "name": "stdout",
     "output_type": "stream",
     "text": [
      "     a    b    c    d    e\n",
      "0  0.0  0.0  0.0  0.0  NaN\n",
      "1  0.0  0.0  0.0  0.0  NaN\n",
      "2  0.0  0.0  0.0  0.0  NaN\n",
      "3  NaN  1.0  1.0  1.0  1.0\n",
      "4  NaN  1.0  1.0  1.0  1.0\n",
      "5  NaN  1.0  1.0  1.0  1.0\n",
      "     a    b    c    d    e\n",
      "0  0.0  0.0  0.0  0.0  NaN\n",
      "1  0.0  0.0  0.0  0.0  NaN\n",
      "2  0.0  0.0  0.0  0.0  NaN\n",
      "0  NaN  1.0  1.0  1.0  1.0\n",
      "1  NaN  1.0  1.0  1.0  1.0\n",
      "2  NaN  1.0  1.0  1.0  1.0\n",
      "2  NaN  1.0  1.0  1.0  1.0\n",
      "3  NaN  1.0  1.0  1.0  1.0\n",
      "4  NaN  1.0  1.0  1.0  1.0\n",
      "     a    b    c    d\n",
      "0  0.0  0.0  0.0  0.0\n",
      "1  0.0  0.0  0.0  0.0\n",
      "2  0.0  0.0  0.0  0.0\n",
      "3  1.0  2.0  3.0  4.0\n"
     ]
    }
   ],
   "source": [
    "#pandas合并concat\n",
    "import pandas as pd\n",
    "import numpy as np\n",
    "'''\n",
    "#concatenating\n",
    "df1 = pd.DataFrame(np.ones((3,4))*0,columns=['a','b','c','d'])\n",
    "df2 = pd.DataFrame(np.ones((3,4))*1,columns=['a','b','c','d'])\n",
    "df3 = pd.DataFrame(np.ones((3,4))*2,columns=['a','b','c','d'])\n",
    "\n",
    "res = pd.concat([df1,df2,df3],axis=0,ignore_index=True)\n",
    "print(res)\n",
    "res = pd.concat([df1,df2,df3],axis=1,ignore_index=True)\n",
    "print(res)\n",
    "#join,[inner,outer]\n",
    "df1 = pd.DataFrame(np.ones((3,4))*0,columns=['a','b','c','d'],index=[1,2,3])\n",
    "df2 = pd.DataFrame(np.ones((3,4))*1,columns=['b','c','d','e'],index=[2,3,4])\n",
    "res=pd.concat([df1,df2],join='inner',ignore_index=True)\n",
    "print(res)\n",
    "#join_axes\n",
    "df1 = pd.DataFrame(np.ones((3,4))*0,columns=['a','b','c','d'],index=[1,2,3])\n",
    "df2 = pd.DataFrame(np.ones((3,4))*1,columns=['b','c','d','e'],index=[2,3,4])\n",
    "res=pd.concat([df1,df2],axis=1,join_axes=[df1.index])\n",
    "print(res)\n",
    "'''\n",
    "#append\n",
    "df1 = pd.DataFrame(np.ones((3,4))*0,columns=['a','b','c','d'])\n",
    "df2 = pd.DataFrame(np.ones((3,4))*1,columns=['b','c','d','e'])\n",
    "df3 = pd.DataFrame(np.ones((3,4))*1,columns=['b','c','d','e'],index=[2,3,4])\n",
    "res = df1.append(df2,ignore_index=True)\n",
    "print(res)\n",
    "res = df1.append([df2,df3])\n",
    "print(res)\n",
    "s1 = pd.Series([1,2,3,4],index=['a','b','c','d'])\n",
    "res = df1.append(s1,ignore_index=True)\n",
    "\n",
    "print(res)"
   ]
  },
  {
   "cell_type": "code",
   "execution_count": 51,
   "metadata": {},
   "outputs": [
    {
     "name": "stdout",
     "output_type": "stream",
     "text": [
      "   col1 col_left\n",
      "0     0        a\n",
      "1     1        b\n",
      "   col1  col_right\n",
      "0     1          2\n",
      "1     2          2\n",
      "2     2          2\n",
      "   col1 col_left  col_right      _merge\n",
      "0     0        a        NaN   left_only\n",
      "1     1        b        2.0        both\n",
      "2     2      NaN        2.0  right_only\n",
      "3     2      NaN        2.0  right_only\n"
     ]
    }
   ],
   "source": [
    "#pandas合并merge\n",
    "import pandas as pd\n",
    "'''\n",
    "left = pd.DataFrame({'key':['K0','K1','K2','K3'],\n",
    "                     'A':['A0','A1','A2','A3',],\n",
    "                     'B':['B0','B1','B2','B3',]})\n",
    "right = pd.DataFrame({'key':['K0','K1','K2','K3'],\n",
    "                     'C':['C0','C1','C2','C3',],\n",
    "                     'D':['D0','D1','D2','D3',]})\n",
    "print(left)\n",
    "print(right)\n",
    "res = pd.merge(left,right,on='key')\n",
    "print(res)\n",
    "\n",
    "#two consider\n",
    "left = pd.DataFrame({'key1':['K0','K0','K1','K2'],\n",
    "                     'key2':['K0','K1','K0','K1'],\n",
    "                     'A':['A0','A1','A2','A3',],\n",
    "                     'B':['B0','B1','B2','B3',]})\n",
    "right = pd.DataFrame({'key1':['K0','K1','K1','K2'],\n",
    "                      'key2':['K0','K0','K0','K0'],\n",
    "                     'C':['C0','C1','C2','C3',],\n",
    "                     'D':['D0','D1','D2','D3',]})\n",
    "print(left)\n",
    "print(right)\n",
    "res = pd.merge(left,right,on=['key1','key2'],how='inner')\n",
    "print(res)\n",
    "'''\n",
    "#indicator\n",
    "df1 = pd.DataFrame({'col1':[0,1],'col_left':['a','b']})\n",
    "df2 = pd.DataFrame({'col1':[1,2,2],'col_right':[2,2,2]})\n",
    "print(df1)\n",
    "print(df2)\n",
    "res = pd.merge(df1,df2,on='col1',how='outer',indicator=True)\n",
    "print(res)"
   ]
  },
  {
   "cell_type": "code",
   "execution_count": 58,
   "metadata": {},
   "outputs": [
    {
     "name": "stdout",
     "output_type": "stream",
     "text": [
      "             A          B          C         D\n",
      "0    -0.933085  -1.181272   0.988347 -0.641699\n",
      "1    -1.854113  -2.474144   0.836859 -2.001279\n",
      "2    -0.315892  -3.930862   0.108830 -0.858049\n",
      "3    -1.358396  -3.308404   1.614061 -1.846159\n",
      "4    -1.371733  -2.858752   0.761480 -2.875357\n",
      "..         ...        ...        ...       ...\n",
      "995  23.198608 -16.463113 -39.077249  3.135449\n",
      "996  23.298750 -15.992890 -38.415350  2.822583\n",
      "997  22.370552 -17.388460 -37.513584  3.565225\n",
      "998  22.463088 -17.309858 -37.027610  2.424488\n",
      "999  22.029724 -16.089000 -34.870086  0.910581\n",
      "\n",
      "[1000 rows x 4 columns]\n"
     ]
    },
    {
     "data": {
      "image/png": "[encoded data removed]",
      "text/plain": [
       "<Figure size 432x288 with 1 Axes>"
      ]
     },
     "metadata": {
      "needs_background": "light"
     },
     "output_type": "display_data"
    }
   ],
   "source": [
    "#pandas plot画图\n",
    "import numpy as np\n",
    "import pandas as pd\n",
    "import matplotlib.pyplot as plt\n",
    "\n",
    "#plot data\n",
    "\n",
    "#Series\n",
    "data = pd.Series(np.random.randn(1000),index=np.arange(1000))\n",
    "data = data.cumsum()\n",
    "\n",
    "#DataFrame\n",
    "data = pd.DataFrame(np.random.randn(1000,4),index=np.arange(1000),columns=list(\"ABCD\"))\n",
    "data = data.cumsum()\n",
    "print(data)\n",
    "data.plot()\n",
    "plt.show()"
   ]
  },
  {
   "cell_type": "code",
   "execution_count": null,
   "metadata": {},
   "outputs": [],
   "source": []
  },
  {
   "cell_type": "code",
   "execution_count": null,
   "metadata": {},
   "outputs": [],
   "source": []
  },
  {
   "cell_type": "code",
   "execution_count": null,
   "metadata": {},
   "outputs": [],
   "source": []
  },
  {
   "cell_type": "code",
   "execution_count": null,
   "metadata": {},
   "outputs": [],
   "source": []
  },
  {
   "cell_type": "code",
   "execution_count": null,
   "metadata": {},
   "outputs": [],
   "source": []
  },
  {
   "cell_type": "code",
   "execution_count": null,
   "metadata": {},
   "outputs": [],
   "source": []
  },
  {
   "cell_type": "code",
   "execution_count": null,
   "metadata": {},
   "outputs": [],
   "source": []
  },
  {
   "cell_type": "code",
   "execution_count": null,
   "metadata": {},
   "outputs": [],
   "source": []
  },
  {
   "cell_type": "code",
   "execution_count": null,
   "metadata": {},
   "outputs": [],
   "source": []
  },
  {
   "cell_type": "code",
   "execution_count": null,
   "metadata": {},
   "outputs": [],
   "source": []
  },
  {
   "cell_type": "code",
   "execution_count": null,
   "metadata": {},
   "outputs": [],
   "source": []
  },
  {
   "cell_type": "code",
   "execution_count": null,
   "metadata": {},
   "outputs": [],
   "source": []
  },
  {
   "cell_type": "code",
   "execution_count": null,
   "metadata": {},
   "outputs": [],
   "source": []
  },
  {
   "cell_type": "code",
   "execution_count": null,
   "metadata": {},
   "outputs": [],
   "source": []
  },
  {
   "cell_type": "code",
   "execution_count": null,
   "metadata": {},
   "outputs": [],
   "source": []
  },
  {
   "cell_type": "code",
   "execution_count": null,
   "metadata": {},
   "outputs": [],
   "source": []
  },
  {
   "cell_type": "code",
   "execution_count": null,
   "metadata": {},
   "outputs": [],
   "source": []
  },
  {
   "cell_type": "code",
   "execution_count": null,
   "metadata": {},
   "outputs": [],
   "source": []
  },
  {
   "cell_type": "code",
   "execution_count": null,
   "metadata": {},
   "outputs": [],
   "source": []
  },
  {
   "cell_type": "code",
   "execution_count": null,
   "metadata": {},
   "outputs": [],
   "source": []
  },
  {
   "cell_type": "code",
   "execution_count": null,
   "metadata": {},
   "outputs": [],
   "source": []
  },
  {
   "cell_type": "code",
   "execution_count": null,
   "metadata": {},
   "outputs": [],
   "source": []
  },
  {
   "cell_type": "code",
   "execution_count": null,
   "metadata": {},
   "outputs": [],
   "source": []
  }
 ],
 "metadata": {
  "kernelspec": {
   "display_name": "Python 3",
   "language": "python",
   "name": "python3"
  },
  "language_info": {
   "codemirror_mode": {
    "name": "ipython",
    "version": 3
   },
   "file_extension": ".py",
   "mimetype": "text/x-python",
   "name": "python",
   "nbconvert_exporter": "python",
   "pygments_lexer": "ipython3",
   "version": "3.7.4"
  }
 },
 "nbformat": 4,
 "nbformat_minor": 2
}
