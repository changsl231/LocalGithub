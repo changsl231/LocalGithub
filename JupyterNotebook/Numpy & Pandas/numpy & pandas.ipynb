{
 "cells": [
  {
   "cell_type": "code",
   "execution_count": 3,
   "metadata": {},
   "outputs": [
    {
     "name": "stdout",
     "output_type": "stream",
     "text": [
      "[[1 2 3]\n",
      " [2 3 4]]\n",
      "number of dim: 2\n",
      "shape (2, 3)\n",
      "size 6\n"
     ]
    }
   ],
   "source": [
    "#numpy 属性\n",
    "import numpy as np\n",
    "array = np.array([[1,2,3],\n",
    "                  [2,3,4]])\n",
    "print(array)\n",
    "print('number of dim:',array.ndim)#纬度\n",
    "print('shape',array.shape)\n",
    "print('size',array.size)"
   ]
  },
  {
   "cell_type": "code",
   "execution_count": 29,
   "metadata": {},
   "outputs": [
    {
     "name": "stdout",
     "output_type": "stream",
     "text": [
      "[[2 3 4]\n",
      " [4 5 6]]\n",
      "[[0 0 0]\n",
      " [0 0 0]\n",
      " [0 0 0]]\n",
      "[[1 1 1]\n",
      " [1 1 1]\n",
      " [1 1 1]]\n",
      "[[1. 0. 0.]\n",
      " [0. 1. 0.]\n",
      " [0. 0. 1.]]\n",
      "[[10 12 14]\n",
      " [16 18 20]]\n",
      "[[ 1.          1.81818182  2.63636364  3.45454545]\n",
      " [ 4.27272727  5.09090909  5.90909091  6.72727273]\n",
      " [ 7.54545455  8.36363636  9.18181818 10.        ]]\n"
     ]
    }
   ],
   "source": [
    "#numpy的创建array\n",
    "import numpy as np\n",
    "\n",
    "a = np.array([[2,3,4],\n",
    "              [4,5,6]],\n",
    "              dtype=np.int)\n",
    "print(a)\n",
    "b = np.zeros((3,3),dtype=np.int)\n",
    "print(b)\n",
    "c = np.ones((3,3),dtype=np.int)\n",
    "print(c)\n",
    "d = np.eye(3)\n",
    "print(d)\n",
    "e = np.arange(10,22,2).reshape(2,3)\n",
    "print(e)\n",
    "f = np.linspace(1,10,12).reshape((3,4))\n",
    "print(f)"
   ]
  },
  {
   "cell_type": "code",
   "execution_count": 41,
   "metadata": {},
   "outputs": [
    {
     "name": "stdout",
     "output_type": "stream",
     "text": [
      "[10 20 30 40] [0 1 2 3]\n",
      "[10 21 32 43]\n",
      "[0 1 4 9]\n",
      "[-0.54402111  0.91294525 -0.98803162  0.74511316]\n",
      "[ True  True  True False]\n",
      "[[0 1]\n",
      " [0 3]]\n",
      "[[2 4]\n",
      " [2 3]]\n",
      "[[0.66067431 0.9004411  0.15867928 0.14265259]\n",
      " [0.82809341 0.3399452  0.8934748  0.12295546]]\n",
      "4.046916156013488\n",
      "[1.48876772 1.24038631 1.05215408 0.26560805]\n",
      "[1.86244728 2.18446887]\n"
     ]
    }
   ],
   "source": [
    "#numpy 基本运算\n",
    "import numpy as np\n",
    "a = np.array([10,20,30,40])\n",
    "b = np.arange(4)\n",
    "print(a,b)\n",
    "c = a+b\n",
    "print(c)\n",
    "d = b**2\n",
    "print(d)\n",
    "e = np.sin(a)\n",
    "print(e)\n",
    "print(b<3)\n",
    "f = np.array([[1,1],[0,1]])\n",
    "g = np.arange(4).reshape(2,2)\n",
    "\n",
    "h = f*g\n",
    "i = np.dot(f,g)\n",
    "print(h)\n",
    "print(i)\n",
    "\n",
    "j = np.random.random((2,4))\n",
    "print(j)\n",
    "print(np.sum(j))\n",
    "print(np.sum(j,axis=0))\n",
    "print(np.sum(j,axis=1))"
   ]
  },
  {
   "cell_type": "code",
   "execution_count": null,
   "metadata": {},
   "outputs": [],
   "source": []
  },
  {
   "cell_type": "code",
   "execution_count": null,
   "metadata": {},
   "outputs": [],
   "source": []
  },
  {
   "cell_type": "code",
   "execution_count": null,
   "metadata": {},
   "outputs": [],
   "source": []
  },
  {
   "cell_type": "code",
   "execution_count": null,
   "metadata": {},
   "outputs": [],
   "source": []
  },
  {
   "cell_type": "code",
   "execution_count": null,
   "metadata": {},
   "outputs": [],
   "source": []
  },
  {
   "cell_type": "code",
   "execution_count": null,
   "metadata": {},
   "outputs": [],
   "source": []
  },
  {
   "cell_type": "code",
   "execution_count": null,
   "metadata": {},
   "outputs": [],
   "source": []
  },
  {
   "cell_type": "code",
   "execution_count": null,
   "metadata": {},
   "outputs": [],
   "source": []
  },
  {
   "cell_type": "code",
   "execution_count": null,
   "metadata": {},
   "outputs": [],
   "source": []
  },
  {
   "cell_type": "code",
   "execution_count": null,
   "metadata": {},
   "outputs": [],
   "source": []
  },
  {
   "cell_type": "code",
   "execution_count": null,
   "metadata": {},
   "outputs": [],
   "source": []
  },
  {
   "cell_type": "code",
   "execution_count": null,
   "metadata": {},
   "outputs": [],
   "source": []
  },
  {
   "cell_type": "code",
   "execution_count": null,
   "metadata": {},
   "outputs": [],
   "source": []
  }
 ],
 "metadata": {
  "kernelspec": {
   "display_name": "Python 3",
   "language": "python",
   "name": "python3"
  },
  "language_info": {
   "codemirror_mode": {
    "name": "ipython",
    "version": 3
   },
   "file_extension": ".py",
   "mimetype": "text/x-python",
   "name": "python",
   "nbconvert_exporter": "python",
   "pygments_lexer": "ipython3",
   "version": "3.7.4"
  }
 },
 "nbformat": 4,
 "nbformat_minor": 2
}
