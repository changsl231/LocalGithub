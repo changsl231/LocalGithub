{
 "cells": [
  {
   "cell_type": "markdown",
   "metadata": {},
   "source": [
    "# 12. Numpy 数组操作"
   ]
  },
  {
   "cell_type": "markdown",
   "metadata": {},
   "source": [
    "修改数组形状\n",
    "\n",
    "reshape 不改变数据的条件下修改形状\n",
    "flat \t数组元素迭代器\n",
    "flatten 返回一份数组拷贝，对拷贝所做的修改不会影响原         始数组\n",
    "ravel \t返回展开数组"
   ]
  },
  {
   "cell_type": "code",
   "execution_count": 2,
   "metadata": {},
   "outputs": [
    {
     "name": "stdout",
     "output_type": "stream",
     "text": [
      "原始数组：\n",
      "[0 1 2 3 4 5 6 7]\n",
      "\n",
      "\n",
      "修改后的数组：\n",
      "[[0 1]\n",
      " [2 3]\n",
      " [4 5]\n",
      " [6 7]]\n"
     ]
    }
   ],
   "source": [
    "#numpy.reshape\n",
    "\n",
    "import numpy as np\n",
    "a = np.arange(8)\n",
    "print(\"原始数组：\")\n",
    "print(a)\n",
    "print(\"\\n\")\n",
    "\n",
    "b = a.reshape(4,2)\n",
    "print(\"修改后的数组：\")\n",
    "print(b)"
   ]
  },
  {
   "cell_type": "code",
   "execution_count": 3,
   "metadata": {},
   "outputs": [
    {
     "name": "stdout",
     "output_type": "stream",
     "text": [
      "原始数组：\n",
      "[0 1 2]\n",
      "[3 4 5]\n",
      "[6 7 8]\n",
      "迭代后的数组：\n",
      "0\n",
      "1\n",
      "2\n",
      "3\n",
      "4\n",
      "5\n",
      "6\n",
      "7\n",
      "8\n"
     ]
    }
   ],
   "source": [
    "a = np.arange(9).reshape(3,3)\n",
    "print(\"原始数组：\")\n",
    "for row in a:\n",
    "    print(row)\n",
    "\n",
    "#对数组中每个元素都进行处理，可以使用flat属性，该属性是一个数组元素迭代器\n",
    "print(\"迭代后的数组：\")\n",
    "for element in a.flat:\n",
    "        print(element)"
   ]
  },
  {
   "cell_type": "markdown",
   "metadata": {},
   "source": [
    "numpy.ndarray.flatten 返回一份数组拷贝，对拷贝所做的修改不会影响原始数组，格式如下：\n",
    "ndarray.flatten(order='C')\n",
    "order：'C' -- 按行，'F' -- 按列，'A' -- 原顺序，'K' -- 元素在内存中的出现顺序"
   ]
  },
  {
   "cell_type": "code",
   "execution_count": 6,
   "metadata": {},
   "outputs": [
    {
     "name": "stdout",
     "output_type": "stream",
     "text": [
      "原始数组：\n",
      "[[0 1 2 3]\n",
      " [4 5 6 7]]\n",
      "\n",
      "\n",
      "展开数组：\n",
      "[0 1 2 3 4 5 6 7]\n",
      "\n",
      "\n",
      "以F风格顺序展开的数组：\n",
      "[0 4 1 5 2 6 3 7]\n"
     ]
    }
   ],
   "source": [
    "a = np.arange(8).reshape(2,4)\n",
    "\n",
    "print(\"原始数组：\")\n",
    "print(a)\n",
    "print(\"\\n\")\n",
    "\n",
    "#默认行\n",
    "print(\"展开数组：\")\n",
    "print(a.flatten())\n",
    "print(\"\\n\")\n",
    "\n",
    "#按列格式\n",
    "print(\"以F风格顺序展开的数组：\")\n",
    "print(a.flatten(order = 'F'))"
   ]
  },
  {
   "cell_type": "markdown",
   "metadata": {},
   "source": [
    "numpy.ravel() 展平的数组元素，顺序通常是\"C风格\"，返回的是数组视图（view，有点类似 C/C++引用reference的意味），修改会影响原始数组。\n",
    "该函数接收两个参数：\n",
    "numpy.ravel(a, order='C')\n",
    "参数说明：\n",
    "order：'C' -- 按行，'F' -- 按列，'A' -- 原顺序，'K' -- 元素在内存中的出现顺序"
   ]
  },
  {
   "cell_type": "code",
   "execution_count": 7,
   "metadata": {},
   "outputs": [
    {
     "name": "stdout",
     "output_type": "stream",
     "text": [
      "调用ravel函数之后：\n",
      "[0 1 2 3 4 5 6 7]\n",
      "\n",
      "\n",
      "以F风格顺序调用ravel函数之后：\n",
      "[0 4 1 5 2 6 3 7]\n"
     ]
    }
   ],
   "source": [
    "print(\"调用ravel函数之后：\")\n",
    "print(a.ravel())\n",
    "print(\"\\n\")\n",
    "\n",
    "print(\"以F风格顺序调用ravel函数之后：\")\n",
    "print(a.ravel(order = 'F'))"
   ]
  },
  {
   "cell_type": "markdown",
   "metadata": {},
   "source": [
    "翻转数组\n",
    "函数 \t描述\n",
    "transpose \t对换数组的维度\n",
    "ndarray.T \t和 self.transpose() 相同\n",
    "rollaxis \t向后滚动指定的轴\n",
    "swapaxes \t对换数组的两个轴"
   ]
  },
  {
   "cell_type": "code",
   "execution_count": 9,
   "metadata": {},
   "outputs": [
    {
     "name": "stdout",
     "output_type": "stream",
     "text": [
      "原始数组：\n",
      "[[ 0  1  2  3]\n",
      " [ 4  5  6  7]\n",
      " [ 8  9 10 11]]\n",
      "\n",
      "\n",
      "对换数组：\n",
      "[[ 0  4  8]\n",
      " [ 1  5  9]\n",
      " [ 2  6 10]\n",
      " [ 3  7 11]]\n"
     ]
    }
   ],
   "source": [
    "#numpy.transpose函数用于对换数组的维度，格式如下：\n",
    "#arr：要操作的数组\n",
    "#axes：整数列表，对应维度，通常所有维度都会对换。\n",
    "\n",
    "a = np.arange(12).reshape(3,4)\n",
    "print(\"原始数组：\")\n",
    "print(a)\n",
    "print(\"\\n\")\n",
    "\n",
    "print(\"对换数组：\")\n",
    "print(np.transpose(a))\n",
    "\n"
   ]
  },
  {
   "cell_type": "code",
   "execution_count": 10,
   "metadata": {
    "scrolled": true
   },
   "outputs": [
    {
     "name": "stdout",
     "output_type": "stream",
     "text": [
      "转置数组：\n",
      "[[ 0  4  8]\n",
      " [ 1  5  9]\n",
      " [ 2  6 10]\n",
      " [ 3  7 11]]\n"
     ]
    }
   ],
   "source": [
    "#numpy.ndarry.T类似于numpy.transpose\n",
    "print(\"转置数组：\")\n",
    "print(a.T)"
   ]
  },
  {
   "cell_type": "markdown",
   "metadata": {},
   "source": [
    "numpy.rollaxis\n",
    "numpy.rollaxis 函数向后滚动特定的轴到一个特定位置，格式如下：\n",
    "numpy.rollaxis(arr, axis, start)\n",
    "参数说明：\n",
    "arr：数组\n",
    "axis：要向后滚动的轴，其它轴的相对位置不会改变\n",
    "start：默认为零，表示完整的滚动。会滚动到特定位置。"
   ]
  },
  {
   "cell_type": "code",
   "execution_count": 11,
   "metadata": {},
   "outputs": [
    {
     "name": "stdout",
     "output_type": "stream",
     "text": [
      "原始数组：\n",
      "[[[0 1]\n",
      "  [2 3]]\n",
      "\n",
      " [[4 5]\n",
      "  [6 7]]]\n",
      "\n",
      "\n",
      "调用rollaxis函数：\n",
      "[[[0 2]\n",
      "  [4 6]]\n",
      "\n",
      " [[1 3]\n",
      "  [5 7]]]\n",
      "\n",
      "\n",
      "调用rollaxis函数：\n",
      "[[[0 2]\n",
      "  [1 3]]\n",
      "\n",
      " [[4 6]\n",
      "  [5 7]]]\n"
     ]
    }
   ],
   "source": [
    "#创建了三维的ndarray\n",
    "a = np.arange(8).reshape(2,2,2)\n",
    "\n",
    "print(\"原始数组：\")\n",
    "print(a)\n",
    "print(\"\\n\")\n",
    "\n",
    "#将轴2滚动到轴0(宽度到深度)\n",
    "print(\"调用rollaxis函数：\")\n",
    "print(np.rollaxis(a,2))\n",
    "#将轴0滚动到轴1(宽度到高度)\n",
    "print(\"\\n\")\n",
    "print(\"调用rollaxis函数：\")\n",
    "print(np.rollaxis(a,2,1))"
   ]
  },
  {
   "cell_type": "markdown",
   "metadata": {},
   "source": [
    "numpy.swapaxes\n",
    "numpy.swapaxes 函数用于交换数组的两个轴，格式如下：\n",
    "numpy.swapaxes(arr, axis1, axis2)\n",
    "arr：输入的数组\n",
    "axis1：对应第一个轴的整数\n",
    "axis2：对应第二个轴的整数"
   ]
  },
  {
   "cell_type": "code",
   "execution_count": 15,
   "metadata": {},
   "outputs": [
    {
     "name": "stdout",
     "output_type": "stream",
     "text": [
      "[[[0 4]\n",
      "  [2 6]]\n",
      "\n",
      " [[1 5]\n",
      "  [3 7]]]\n"
     ]
    }
   ],
   "source": [
    "a = np.arange(8).reshape(2,2,2)\n",
    "#现在交换轴0(深度方向)到轴2（宽度方向）\n",
    "print(np.swapaxes(a,2,0))"
   ]
  },
  {
   "cell_type": "markdown",
   "metadata": {},
   "source": [
    "修改数组维度\n",
    "维度 \t          描述\n",
    "broadcast \t    产生模仿广播的对象\n",
    "broadcast_to \t将数组广播到新形状\n",
    "expand_dims \t扩展数组的形状\n",
    "squeeze \t    从数组的形状中删除一维条目"
   ]
  },
  {
   "cell_type": "code",
   "execution_count": 2,
   "metadata": {},
   "outputs": [
    {
     "name": "stdout",
     "output_type": "stream",
     "text": [
      "对y广播x:\n",
      "1 4\n",
      "1 5\n",
      "\n",
      "\n",
      "广播对象的形状：\n",
      "(3, 3)\n",
      "\n",
      "\n",
      "手动使用broadcast将x与y相加：\n",
      "(3, 3)\n",
      "\n",
      "\n",
      "调用flat函数：\n",
      "[[5. 6. 7.]\n",
      " [6. 7. 8.]\n",
      " [7. 8. 9.]]\n",
      "\n",
      "\n",
      "x与y的和：\n",
      "[[5 6 7]\n",
      " [6 7 8]\n",
      " [7 8 9]]\n"
     ]
    }
   ],
   "source": [
    "#numpy.broadcast 用于模仿广播的对象，它返回一个对象，该对象封装了将一个数组广播到另一个数组的结果。\n",
    "import numpy as np\n",
    "x = np.array([[1],[2],[3]])\n",
    "y = np.array([4,5,6])\n",
    "\n",
    "#对y广播x\n",
    "b = np.broadcast(x,y)\n",
    "#它拥有iterator属性，基于自身组件的迭代器元组\n",
    "\n",
    "print(\"对y广播x:\")\n",
    "r,c = b.iters\n",
    "\n",
    "print(next(r),next(c))\n",
    "print(next(r),next(c))\n",
    "print(\"\\n\")\n",
    "\n",
    "#shape属性返回广播对象的形状\n",
    "print(\"广播对象的形状：\")\n",
    "print(b.shape)\n",
    "print(\"\\n\")\n",
    "\n",
    "#手动使用broadcast将x与y相加\n",
    "b = np.broadcast(x,y)\n",
    "c = np.empty(b.shape)\n",
    "\n",
    "print(\"手动使用broadcast将x与y相加：\")\n",
    "print(c.shape)\n",
    "print(\"\\n\")\n",
    "c.flat = [u + v for(u,v)in b]\n",
    "\n",
    "print(\"调用flat函数：\")\n",
    "print(c)\n",
    "print(\"\\n\")\n",
    "\n",
    "#获得了和numpy内建的广播支持相同的结果\n",
    "print(\"x与y的和：\")\n",
    "print(x+y)\n"
   ]
  },
  {
   "cell_type": "code",
   "execution_count": 4,
   "metadata": {},
   "outputs": [
    {
     "name": "stdout",
     "output_type": "stream",
     "text": [
      "原始数组：\n",
      "[[0 1 2 3]]\n",
      "\n",
      "\n",
      "调用broadcast_to函数之后：\n",
      "[[0 1 2 3]\n",
      " [0 1 2 3]\n",
      " [0 1 2 3]\n",
      " [0 1 2 3]]\n"
     ]
    }
   ],
   "source": [
    "#numpy.broadcast_to 函数将数组广播到新形状。它在原始数组上返回只读视图。\n",
    "a = np.arange(4).reshape(1,4)\n",
    "\n",
    "print(\"原始数组：\")\n",
    "print(a)\n",
    "print(\"\\n\")\n",
    "\n",
    "print(\"调用broadcast_to函数之后：\")\n",
    "print(np.broadcast_to(a,(4,4)))"
   ]
  },
  {
   "cell_type": "markdown",
   "metadata": {},
   "source": [
    "numpy.expand_dims 函数通过在指定位置插入新的轴来扩展数组形状，函数格式如下:\n",
    "numpy.expand_dims(arr, axis)\n",
    "arr：输入数组\n",
    "axis：新轴插入的位置"
   ]
  },
  {
   "cell_type": "code",
   "execution_count": 6,
   "metadata": {},
   "outputs": [
    {
     "name": "stdout",
     "output_type": "stream",
     "text": [
      "数组 x ：\n",
      "[[1 2]\n",
      " [3 4]]\n",
      "\n",
      "\n",
      "数组 y :\n",
      "[[[1 2]\n",
      "  [3 4]]]\n",
      "\n",
      "\n",
      "数组x和y的形状：\n",
      "(2, 2) (1, 2, 2)\n",
      "\n",
      "\n",
      "[[[1 2]]\n",
      "\n",
      " [[3 4]]]\n",
      "\n",
      "\n",
      "x.ndim 和 y.ndim:\n",
      "2 3\n",
      "\n",
      "\n",
      "x.shape 和 y.shape:\n",
      "(2, 2) (2, 1, 2)\n"
     ]
    }
   ],
   "source": [
    "x = np.array(([1,2],[3,4]))\n",
    "print(\"数组 x ：\")\n",
    "print(x)\n",
    "print(\"\\n\")\n",
    "\n",
    "y = np.expand_dims(x,axis = 0)\n",
    "print(\"数组 y :\")\n",
    "print(y)\n",
    "print(\"\\n\")\n",
    "\n",
    "print(\"数组x和y的形状：\")\n",
    "print(x.shape,y.shape)\n",
    "print(\"\\n\")\n",
    "\n",
    "#在位置1插入轴\n",
    "y = np.expand_dims(x,axis = 1)\n",
    "print(y)\n",
    "print(\"\\n\")\n",
    "\n",
    "print(\"x.ndim 和 y.ndim:\")\n",
    "print(x.ndim,y.ndim)\n",
    "print(\"\\n\")\n",
    "\n",
    "print(\"x.shape 和 y.shape:\")\n",
    "print(x.shape,y.shape)"
   ]
  },
  {
   "cell_type": "markdown",
   "metadata": {},
   "source": [
    "numpy.squeeze 函数从给定数组的形状中删除一维的条目，函数格式如下：\n",
    "numpy.squeeze(arr, axis)"
   ]
  },
  {
   "cell_type": "code",
   "execution_count": 7,
   "metadata": {},
   "outputs": [
    {
     "name": "stdout",
     "output_type": "stream",
     "text": [
      "数组 x:\n",
      "[[[0 1 2]\n",
      "  [3 4 5]\n",
      "  [6 7 8]]]\n",
      "\n",
      "\n",
      "数组 y:\n",
      "[[0 1 2]\n",
      " [3 4 5]\n",
      " [6 7 8]]\n",
      "\n",
      "\n",
      "数组x和y的形状：\n",
      "(1, 3, 3) (3, 3)\n"
     ]
    }
   ],
   "source": [
    "x = np.arange(9).reshape(1,3,3)\n",
    "print(\"数组 x:\")\n",
    "print(x)\n",
    "print(\"\\n\")\n",
    "\n",
    "y = np.squeeze(x)\n",
    "print(\"数组 y:\")\n",
    "print(y)\n",
    "print(\"\\n\")\n",
    "\n",
    "print(\"数组x和y的形状：\")\n",
    "print(x.shape,y.shape)"
   ]
  },
  {
   "cell_type": "markdown",
   "metadata": {},
   "source": [
    "连接数组\n",
    "函数             \t描述\n",
    "concatenate \t连接沿现有轴的数组序列\n",
    "stack \t        沿着新的轴加入一系列数组。\n",
    "hstack \t        水平堆叠序列中的数组（列方向）\n",
    "vstack \t        竖直堆叠序列中的数组（行方向）"
   ]
  },
  {
   "cell_type": "markdown",
   "metadata": {},
   "source": [
    "numpy.concatenate\n",
    "numpy.concatenate 函数用于沿指定轴连接相同形状的两个或多个数组，格式如下：\n",
    "numpy.concatenate((a1, a2, ...), axis)"
   ]
  },
  {
   "cell_type": "code",
   "execution_count": 12,
   "metadata": {},
   "outputs": [
    {
     "name": "stdout",
     "output_type": "stream",
     "text": [
      "第一个数组：\n",
      "[[1 2]\n",
      " [3 4]]\n",
      "(2, 2)\n",
      "\n",
      "\n",
      "第二个数组：\n",
      "[[5 6]\n",
      " [7 8]]\n",
      "(2, 2)\n",
      "\n",
      "\n",
      "沿轴0连接两个数组：\n",
      "[[1 2]\n",
      " [3 4]\n",
      " [5 6]\n",
      " [7 8]]\n",
      "(4, 2)\n",
      "\n",
      "\n",
      "沿轴1连接两个数组：\n",
      "[[1 2 5 6]\n",
      " [3 4 7 8]]\n"
     ]
    }
   ],
   "source": [
    "a = np.array([[1,2],[3,4]])\n",
    "print(\"第一个数组：\")\n",
    "print(a)\n",
    "print(a.shape)\n",
    "print(\"\\n\")\n",
    "\n",
    "b = np.array([[5,6],[7,8]])\n",
    "print(\"第二个数组：\")\n",
    "print(b)\n",
    "print(b.shape)\n",
    "print(\"\\n\")\n",
    "#两个数组的维度相同\n",
    "\n",
    "print(\"沿轴0连接两个数组：\")\n",
    "print(np.concatenate((a,b)))\n",
    "c = np.concatenate((a,b))\n",
    "print(c.shape)\n",
    "print(\"\\n\")\n",
    "\n",
    "print(\"沿轴1连接两个数组：\")\n",
    "print(np.concatenate((a,b),axis = 1))\n"
   ]
  },
  {
   "cell_type": "markdown",
   "metadata": {},
   "source": [
    "numpy.stack\n",
    "numpy.stack 函数用于沿新轴连接数组序列，格式如下"
   ]
  },
  {
   "cell_type": "code",
   "execution_count": 11,
   "metadata": {},
   "outputs": [
    {
     "name": "stdout",
     "output_type": "stream",
     "text": [
      "第一个数组：\n",
      "[[1 2]\n",
      " [3 4]]\n",
      "\n",
      "\n",
      "第二个数组：\n",
      "[[5 6]\n",
      " [7 8]]\n",
      "\n",
      "\n",
      "沿轴0堆叠两个数组：\n",
      "[[[1 2]\n",
      "  [3 4]]\n",
      "\n",
      " [[5 6]\n",
      "  [7 8]]]\n",
      "(2, 2, 2)\n",
      "沿轴1堆叠两个数组：\n",
      "[[[1 2]\n",
      "  [5 6]]\n",
      "\n",
      " [[3 4]\n",
      "  [7 8]]]\n"
     ]
    }
   ],
   "source": [
    "a = np.array([[1,2],[3,4]])\n",
    "print(\"第一个数组：\")\n",
    "print(a)\n",
    "print(\"\\n\")\n",
    "\n",
    "b = np.array([[5,6],[7,8]])\n",
    "print(\"第二个数组：\")\n",
    "print(b)\n",
    "print(\"\\n\")\n",
    "\n",
    "print(\"沿轴0堆叠两个数组：\")\n",
    "print(np.stack((a,b),0))\n",
    "c = np.stack((a,b),0)\n",
    "print(c.shape)\n",
    "\n",
    "print(\"沿轴1堆叠两个数组：\")\n",
    "print(np.stack((a,b),1))"
   ]
  },
  {
   "cell_type": "markdown",
   "metadata": {},
   "source": [
    "numpy.hstack\n",
    "numpy.hstack 是 numpy.stack 函数的变体，它通过水平堆叠来生成数组。"
   ]
  },
  {
   "cell_type": "code",
   "execution_count": 13,
   "metadata": {},
   "outputs": [
    {
     "name": "stdout",
     "output_type": "stream",
     "text": [
      "水平堆叠：\n",
      "[[1 2 5 6]\n",
      " [3 4 7 8]]\n",
      "(2, 4)\n",
      "\n",
      "\n"
     ]
    }
   ],
   "source": [
    "print(\"水平堆叠：\")\n",
    "c = np.hstack((a,b))\n",
    "print(c)\n",
    "print(c.shape)\n",
    "print(\"\\n\")"
   ]
  },
  {
   "cell_type": "markdown",
   "metadata": {},
   "source": [
    "numpy.vstack\n",
    "numpy.vstack 是 numpy.stack 函数的变体，它通过垂直堆叠来生成数组。 "
   ]
  },
  {
   "cell_type": "code",
   "execution_count": 14,
   "metadata": {},
   "outputs": [
    {
     "name": "stdout",
     "output_type": "stream",
     "text": [
      "数直堆叠：\n",
      "[[1 2]\n",
      " [3 4]\n",
      " [5 6]\n",
      " [7 8]]\n",
      "(4, 2)\n"
     ]
    }
   ],
   "source": [
    "print(\"数直堆叠：\")\n",
    "c = np.vstack((a,b))\n",
    "print(c)\n",
    "print(c.shape)"
   ]
  },
  {
   "cell_type": "markdown",
   "metadata": {},
   "source": [
    "分割数组\n",
    "函数 \t  数组及操作\n",
    "split \t将一个数组分割为多个子数组\n",
    "hsplit \t将一个数组水平分割为多个子数组（按列）\n",
    "vsplit \t将一个数组垂直分割为多个子数组（按行）"
   ]
  },
  {
   "cell_type": "markdown",
   "metadata": {},
   "source": [
    "numpy.split\n",
    "numpy.split 函数沿特定的轴将数组分割为子数组，格式如下：\n",
    "numpy.split(ary, indices_or_sections, axis)"
   ]
  },
  {
   "cell_type": "code",
   "execution_count": 16,
   "metadata": {},
   "outputs": [
    {
     "name": "stdout",
     "output_type": "stream",
     "text": [
      "第一个数组：\n",
      "[0 1 2 3 4 5 6 7 8]\n",
      "\n",
      "\n",
      "将数组分为三个大小相等的子数组：\n",
      "[array([0, 1, 2]), array([3, 4, 5]), array([6, 7, 8])]\n",
      "\n",
      "\n",
      "将数组在一维数组中表明的位置分割\n",
      "[array([0, 1, 2, 3]), array([4, 5, 6]), array([7, 8])]\n"
     ]
    }
   ],
   "source": [
    "a = np.arange(9)\n",
    "print(\"第一个数组：\")\n",
    "print(a)\n",
    "print(\"\\n\")\n",
    "\n",
    "print(\"将数组分为三个大小相等的子数组：\")\n",
    "b = np.split(a,3)\n",
    "print(b)\n",
    "print(\"\\n\")\n",
    "\n",
    "print(\"将数组在一维数组中表明的位置分割\")\n",
    "b = np.split(a,[4,7])\n",
    "print(b)"
   ]
  },
  {
   "cell_type": "markdown",
   "metadata": {},
   "source": [
    "numpy.hsplit\n",
    "numpy.hsplit 函数用于水平分割数组，通过指定要返回的相同形状的数组数量来拆分原数组。"
   ]
  },
  {
   "cell_type": "code",
   "execution_count": 18,
   "metadata": {},
   "outputs": [
    {
     "name": "stdout",
     "output_type": "stream",
     "text": [
      "原array:\n",
      "[[5. 7. 4. 3. 5. 1.]\n",
      " [8. 1. 1. 1. 6. 1.]]\n",
      "拆分后：\n",
      "[array([[5., 7.],\n",
      "       [8., 1.]]), array([[4., 3.],\n",
      "       [1., 1.]]), array([[5., 1.],\n",
      "       [6., 1.]])]\n"
     ]
    }
   ],
   "source": [
    "harr = np.floor(10*np.random.random((2,6)))\n",
    "print(\"原array:\")\n",
    "print(harr)\n",
    "\n",
    "print(\"拆分后：\")\n",
    "print(np.hsplit(harr,3))"
   ]
  },
  {
   "cell_type": "markdown",
   "metadata": {},
   "source": [
    "numpy.vsplit\n",
    "numpy.vsplit 沿着垂直轴分割，其分割方式与hsplit用法相同"
   ]
  },
  {
   "cell_type": "code",
   "execution_count": 19,
   "metadata": {
    "scrolled": true
   },
   "outputs": [
    {
     "name": "stdout",
     "output_type": "stream",
     "text": [
      "第一个数组：\n",
      "[[ 0  1  2  3]\n",
      " [ 4  5  6  7]\n",
      " [ 8  9 10 11]\n",
      " [12 13 14 15]]\n",
      "\n",
      "\n",
      "数值分割：\n",
      "[array([[0, 1, 2, 3],\n",
      "       [4, 5, 6, 7]]), array([[ 8,  9, 10, 11],\n",
      "       [12, 13, 14, 15]])]\n"
     ]
    }
   ],
   "source": [
    "a = np.arange(16).reshape(4,4)\n",
    "\n",
    "print(\"第一个数组：\")\n",
    "print(a)\n",
    "print(\"\\n\")\n",
    "\n",
    "print(\"数值分割：\")\n",
    "b = np.vsplit(a,2)\n",
    "print(b)"
   ]
  },
  {
   "cell_type": "markdown",
   "metadata": {},
   "source": [
    "数组元素的添加与删除\n",
    "函数 \t  元素及描述\n",
    "resize \t返回指定形状的新数组\n",
    "append \t将值添加到数组末尾\n",
    "insert \t沿指定轴将值插入到指定下标之前\n",
    "delete \t删掉某个轴的子数组，并返回删除后的新数组\n",
    "unique \t查找数组内的唯一元素"
   ]
  },
  {
   "cell_type": "markdown",
   "metadata": {},
   "source": [
    "numpy.resize\n",
    "numpy.resize 函数返回指定大小的新数组。\n",
    "如果新数组大小大于原始大小，则包含原始数组中的元素的副本。\n",
    "numpy.resize(arr, shape)"
   ]
  },
  {
   "cell_type": "code",
   "execution_count": 20,
   "metadata": {},
   "outputs": [
    {
     "name": "stdout",
     "output_type": "stream",
     "text": [
      "第一个数组：\n",
      "[[1 2 3]\n",
      " [4 5 6]]\n",
      "\n",
      "\n",
      "第一个数组的形状：\n",
      "(2, 3)\n",
      "\n",
      "\n",
      "第二个数组：\n",
      "[[1 2]\n",
      " [3 4]\n",
      " [5 6]]\n",
      "\n",
      "\n",
      "第二个数组的形状：\n",
      "(3, 2)\n",
      "\n",
      "\n",
      "修改第二个数组的大小\n",
      "[[1 2 3]\n",
      " [4 5 6]\n",
      " [1 2 3]]\n"
     ]
    }
   ],
   "source": [
    "a = np.array([[1,2,3],[4,5,6]])\n",
    "print(\"第一个数组：\")\n",
    "print(a)\n",
    "print(\"\\n\")\n",
    "\n",
    "print(\"第一个数组的形状：\")\n",
    "print(a.shape)\n",
    "print(\"\\n\")\n",
    "\n",
    "b = np.resize(a,(3,2))\n",
    "print(\"第二个数组：\")\n",
    "print(b)\n",
    "print(\"\\n\")\n",
    "\n",
    "print(\"第二个数组的形状：\")\n",
    "print(b.shape)\n",
    "print(\"\\n\")\n",
    "\n",
    "print(\"修改第二个数组的大小\")\n",
    "b = np.resize(a,(3,3))\n",
    "print(b)"
   ]
  },
  {
   "cell_type": "markdown",
   "metadata": {},
   "source": [
    "numpy.append\n",
    "numpy.append 函数在数组的末尾添加值。 追加操作会分配整个数组，并把原来的数组复制到新数组中。 此外，输入数组的维度必须匹配否则将生成ValueError。\n",
    "append 函数返回的始终是一个一维数组。"
   ]
  },
  {
   "cell_type": "markdown",
   "metadata": {},
   "source": [
    "numpy.append(arr, values, axis=None)\n",
    "\n",
    "参数说明：\n",
    "arr：输入数组\n",
    "values：要向arr添加的值，需要和arr形状相同（除了要添加的轴）\n",
    "axis：默认为 None。当axis无定义时，是横向加成，返回总是为一维数组！当axis有定义的时候，分别为0和1的时候。当axis有定义的时候，分别为0和1的时候（列数要相同）。当axis为1时，数组是加在右边（行数要相同）。"
   ]
  },
  {
   "cell_type": "code",
   "execution_count": 22,
   "metadata": {},
   "outputs": [
    {
     "name": "stdout",
     "output_type": "stream",
     "text": [
      "第一个数组：\n",
      "[[1 2 3]\n",
      " [4 5 6]]\n",
      "\n",
      "\n",
      "向数组添加元素：\n",
      "[1 2 3 4 5 6 7 8 9]\n",
      "\n",
      "\n",
      "沿0轴添加元素：\n",
      "[[1 2 3]\n",
      " [4 5 6]\n",
      " [7 8 9]]\n",
      "\n",
      "\n",
      "沿轴1添加元素：\n",
      "[[1 2 3 5 5 5]\n",
      " [4 5 6 7 8 9]]\n"
     ]
    }
   ],
   "source": [
    "a = np.array([[1,2,3],[4,5,6]])\n",
    "\n",
    "print(\"第一个数组：\")\n",
    "print(a)\n",
    "print(\"\\n\")\n",
    "\n",
    "print(\"向数组添加元素：\")\n",
    "print(np.append(a,[7,8,9]))\n",
    "print(\"\\n\")\n",
    "\n",
    "print(\"沿0轴添加元素：\")\n",
    "print(np.append(a,[[7,8,9]],axis = 0))\n",
    "print(\"\\n\")\n",
    "\n",
    "print(\"沿轴1添加元素：\")\n",
    "print(np.append(a,[[5,5,5],[7,8,9]],axis = 1))"
   ]
  },
  {
   "cell_type": "markdown",
   "metadata": {},
   "source": [
    "numpy.insert\n",
    "numpy.insert 函数在给定索引之前，沿给定轴在输入数组中插入值。\n",
    "如果值的类型转换为要插入，则它与输入数组不同。 插入没有原地的，函数会返回一个新数组。 此外，如果未提供轴，则输入数组会被展开。"
   ]
  },
  {
   "cell_type": "markdown",
   "metadata": {},
   "source": [
    "numpy.insert(arr, obj, values, axis)\n",
    "\n",
    "参数说明：\n",
    "arr：输入数组\n",
    "obj：在其之前插入值的索引\n",
    "values：要插入的值\n",
    "axis：沿着它插入的轴，如果未提供，则输入数组会被展开"
   ]
  },
  {
   "cell_type": "code",
   "execution_count": 25,
   "metadata": {},
   "outputs": [
    {
     "name": "stdout",
     "output_type": "stream",
     "text": [
      "第一个数组：\n",
      "[[1 2]\n",
      " [3 4]\n",
      " [5 6]]\n",
      "\n",
      "\n",
      "未传递Axis参数。在插入之前输入数组会被展开。\n",
      "[ 1  2  3 11 12  4  5  6]\n",
      "\n",
      "\n",
      "传递了Axis参数。会按广播值数组来配输入数组。\n",
      "沿轴0广播：\n",
      "[[ 1  2]\n",
      " [11 11]\n",
      " [ 3  4]\n",
      " [ 5  6]]\n",
      "\n",
      "\n",
      "沿轴1广播：\n",
      "[[ 1 11  2]\n",
      " [ 3 12  4]\n",
      " [ 5 13  6]]\n"
     ]
    }
   ],
   "source": [
    "a = np.array([[1,2],[3,4],[5,6]])\n",
    "\n",
    "print(\"第一个数组：\")\n",
    "print(a)\n",
    "print(\"\\n\")\n",
    "\n",
    "print(\"未传递Axis参数。在插入之前输入数组会被展开。\")\n",
    "print(np.insert(a,3,[11,12]))\n",
    "print(\"\\n\")\n",
    "\n",
    "\n",
    "print(\"传递了Axis参数。会按广播值数组来配输入数组。\")\n",
    "print(\"沿轴0广播：\")\n",
    "print(np.insert(a,1,[11],axis = 0))\n",
    "print(\"\\n\")\n",
    "print(\"沿轴1广播：\")\n",
    "print(np.insert(a,1,[11,12,13],axis = 1))"
   ]
  },
  {
   "cell_type": "markdown",
   "metadata": {},
   "source": [
    "numpy.delete\n",
    "numpy.delete 函数返回从输入数组中删除指定子数组的新数组。 与 insert() 函数的情况一样，如果未提供轴参数，则输入数组将展开。\n",
    "Numpy.delete(arr, obj, axis)\n",
    "arr：输入数组\n",
    "obj：可以被切片，整数或者整数数组，表明要从输入数组删除的子数组\n",
    "axis：沿着它删除给定子数组的轴，如果未提供，则输入数组会被展开"
   ]
  },
  {
   "cell_type": "code",
   "execution_count": 32,
   "metadata": {},
   "outputs": [
    {
     "name": "stdout",
     "output_type": "stream",
     "text": [
      "第一个数组：\n",
      "[[ 0  1  2  3]\n",
      " [ 4  5  6  7]\n",
      " [ 8  9 10 11]]\n",
      "\n",
      "\n",
      "未传递Axis参数，在删除之前数组会被展开。\n",
      "[ 0  1  2  3  4  7  8  9 10 11]\n",
      "\n",
      "\n",
      "删除第二列：\n",
      "[[ 0  3]\n",
      " [ 4  7]\n",
      " [ 8 11]]\n",
      "\n",
      "\n",
      "包含从数组中删除的替代值的切片：\n",
      "[ 2  4  6  8 10]\n"
     ]
    }
   ],
   "source": [
    "a = np.arange(12).reshape(3,4)\n",
    "\n",
    "print(\"第一个数组：\")\n",
    "print(a)\n",
    "print(\"\\n\")\n",
    "\n",
    "print(\"未传递Axis参数，在删除之前数组会被展开。\")\n",
    "print(np.delete(a,(5,6)))\n",
    "print(\"\\n\")\n",
    "\n",
    "print(\"删除第二列：\")\n",
    "print(np.delete(a,(1,2),axis = 1))\n",
    "print(\"\\n\")\n",
    "\n",
    "print(\"包含从数组中删除的替代值的切片：\")\n",
    "a = np.array([1,2,3,4,5,6,7,8,9,10])\n",
    "print(np.delete(a,np.s_[::2]))\n"
   ]
  },
  {
   "cell_type": "markdown",
   "metadata": {},
   "source": [
    "numpy.unique\n",
    "numpy.unique 函数用于去除数组中的重复元素。\n",
    "\n",
    "numpy.unique(arr, return_index, return_inverse, return_counts)\n",
    "arr：输入数组，如果不是一维数组则会展开\n",
    "return_index：如果为true，返回新列表元素在旧列表中的位置（下标），并以列表形式储\n",
    "return_inverse：如果为true，返回旧列表元素在新列表中的位置（下标），并以列表形式储\n",
    "return_counts：如果为true，返回去重数组中的元素在原数组中的出现次数"
   ]
  },
  {
   "cell_type": "code",
   "execution_count": 35,
   "metadata": {},
   "outputs": [
    {
     "name": "stdout",
     "output_type": "stream",
     "text": [
      "第一个数组：\n",
      "[5 2 6 2 7 5 6 8 2 9]\n",
      "\n",
      "\n",
      "第一个数组的去重值：\n",
      "[2 5 6 7 8 9]\n",
      "\n",
      "\n",
      "去重数组的索引数组：\n",
      "[1 0 2 4 7 9]\n",
      "\n",
      "\n",
      "我们可以看到每个和原数组下表对应的数值：\n",
      "[5 2 6 2 7 5 6 8 2 9]\n",
      "\n",
      "\n",
      "去重数组的下标：\n",
      "[2 5 6 7 8 9]\n",
      "\n",
      "\n",
      "下标为：\n",
      "[1 0 2 0 3 1 2 4 0 5]\n",
      "\n",
      "\n",
      "使用下标重构原数组：\n",
      "[5 2 6 2 7 5 6 8 2 9]\n",
      "\n",
      "\n",
      "返回去重元素的重复数量：\n",
      "[2 5 6 7 8 9]\n",
      "[3 2 2 1 1 1]\n"
     ]
    }
   ],
   "source": [
    "a = np.array([5,2,6,2,7,5,6,8,2,9])\n",
    "print(\"第一个数组：\")\n",
    "print(a)\n",
    "print(\"\\n\")\n",
    "\n",
    "print(\"第一个数组的去重值：\")\n",
    "u = np.unique(a)\n",
    "print(u)\n",
    "print(\"\\n\")\n",
    "\n",
    "print(\"去重数组的索引数组：\")\n",
    "u,indices = np.unique(a,return_index = True)\n",
    "print(indices)\n",
    "print(\"\\n\")\n",
    "\n",
    "print(\"我们可以看到每个和原数组下表对应的数值：\")\n",
    "print(a)\n",
    "print(\"\\n\")\n",
    "\n",
    "print(\"去重数组的下标：\")\n",
    "u,indices = np.unique(a,return_inverse = True)\n",
    "print(u)\n",
    "print(\"\\n\")\n",
    "\n",
    "print(\"下标为：\")\n",
    "print(indices)\n",
    "print(\"\\n\")\n",
    "\n",
    "print(\"使用下标重构原数组：\")\n",
    "print(u[indices])\n",
    "print(\"\\n\")\n",
    "\n",
    "print(\"返回去重元素的重复数量：\")\n",
    "u,indices = np.unique(a,return_counts = True)\n",
    "print(u)\n",
    "print(indices)"
   ]
  },
  {
   "cell_type": "code",
   "execution_count": null,
   "metadata": {},
   "outputs": [],
   "source": []
  }
 ],
 "metadata": {
  "kernelspec": {
   "display_name": "Python 3",
   "language": "python",
   "name": "python3"
  },
  "language_info": {
   "codemirror_mode": {
    "name": "ipython",
    "version": 3
   },
   "file_extension": ".py",
   "mimetype": "text/x-python",
   "name": "python",
   "nbconvert_exporter": "python",
   "pygments_lexer": "ipython3",
   "version": "3.7.3"
  }
 },
 "nbformat": 4,
 "nbformat_minor": 2
}
