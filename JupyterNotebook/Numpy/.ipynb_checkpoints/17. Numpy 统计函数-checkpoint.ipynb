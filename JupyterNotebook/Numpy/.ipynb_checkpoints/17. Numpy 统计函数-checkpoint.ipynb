{
 "cells": [
  {
   "cell_type": "markdown",
   "metadata": {},
   "source": [
    "# 17. Numpy 统计函数"
   ]
  },
  {
   "cell_type": "markdown",
   "metadata": {},
   "source": [
    "numpy.amin() 和 numpy.amax()\n",
    "numpy.amin() 用于计算数组中的元素沿指定轴的最小值。\n",
    "numpy.amax() 用于计算数组中的元素沿指定轴的最大值。"
   ]
  },
  {
   "cell_type": "code",
   "execution_count": 3,
   "metadata": {},
   "outputs": [
    {
     "name": "stdout",
     "output_type": "stream",
     "text": [
      "我们的数组是：\n",
      "[[3 7 5]\n",
      " [8 4 3]\n",
      " [2 4 9]]\n",
      "\n",
      "\n",
      "调用amin()函数：\n",
      "[3 3 2]\n",
      "\n",
      "\n",
      "再次调用amin()函数：\n",
      "[2 4 3]\n",
      "\n",
      "\n",
      "调用amax()函数：\n",
      "9\n",
      "\n",
      "\n",
      "再次调用amax()函数：\n",
      "[8 7 9]\n"
     ]
    }
   ],
   "source": [
    "import numpy as np\n",
    "\n",
    "a = np.array([[3,7,5],[8,4,3],[2,4,9]])\n",
    "print(\"我们的数组是：\")\n",
    "print(a)\n",
    "print(\"\\n\")\n",
    "print(\"调用amin()函数：\")\n",
    "print(np.amin(a,1))\n",
    "print(\"\\n\")\n",
    "print(\"再次调用amin()函数：\")\n",
    "print(np.amin(a,0))\n",
    "print(\"\\n\")\n",
    "print(\"调用amax()函数：\")\n",
    "print(np.amax(a))\n",
    "print(\"\\n\")\n",
    "print(\"再次调用amax()函数：\")\n",
    "print(np.amax(a,axis=0))"
   ]
  },
  {
   "cell_type": "markdown",
   "metadata": {},
   "source": [
    "numpy.ptp()\n",
    "numpy.ptp()函数计算数组中元素最大值与最小值的差（最大值 - 最小值）"
   ]
  },
  {
   "cell_type": "code",
   "execution_count": 4,
   "metadata": {
    "scrolled": true
   },
   "outputs": [
    {
     "name": "stdout",
     "output_type": "stream",
     "text": [
      "我们的数组是：\n",
      "[[3 7 5]\n",
      " [8 4 3]\n",
      " [2 4 9]]\n",
      "\n",
      "\n",
      "调用ptp()函数：\n",
      "7\n",
      "\n",
      "\n",
      "沿轴1调用ptp()函数：\n",
      "[4 5 7]\n",
      "\n",
      "\n",
      "沿轴0调用ptp()函数：\n",
      "[6 3 6]\n"
     ]
    }
   ],
   "source": [
    "print(\"我们的数组是：\")\n",
    "print(a)\n",
    "print(\"\\n\")\n",
    "print(\"调用ptp()函数：\")\n",
    "print(np.ptp(a))\n",
    "print(\"\\n\")\n",
    "print(\"沿轴1调用ptp()函数：\")\n",
    "print(np.ptp(a,axis = 1))\n",
    "print(\"\\n\")\n",
    "print(\"沿轴0调用ptp()函数：\")\n",
    "print(np.ptp(a,axis=0))"
   ]
  },
  {
   "cell_type": "markdown",
   "metadata": {},
   "source": [
    "numpy.percentile()\n",
    "百分位数是统计中使用的度量，表示小于这个值的观察值的百分比。"
   ]
  },
  {
   "cell_type": "markdown",
   "metadata": {},
   "source": [
    "numpy.percentile(a, q, axis)\n",
    "\n",
    "参数说明：\n",
    "a: 输入数组\n",
    "q: 要计算的百分位数，在 0 ~ 100 之间\n",
    "axis: 沿着它计算百分位数的轴"
   ]
  },
  {
   "cell_type": "code",
   "execution_count": 6,
   "metadata": {},
   "outputs": [
    {
     "name": "stdout",
     "output_type": "stream",
     "text": [
      "我们的数组是：\n",
      "[[10  7  4]\n",
      " [ 3  2  1]]\n",
      "调用percentile()函数：\n",
      "3.5\n",
      "[6.5 4.5 2.5]\n",
      "[7. 2.]\n",
      "[[7.]\n",
      " [2.]]\n"
     ]
    }
   ],
   "source": [
    "a = np.array([[10,7,4],[3,2,1]])\n",
    "print(\"我们的数组是：\")\n",
    "print(a)\n",
    "\n",
    "print(\"调用percentile()函数：\")\n",
    "#50%的分位数，就是a里排序之后的中位数\n",
    "print(np.percentile(a,50))\n",
    "\n",
    "#axis为0，在纵列上求\n",
    "print(np.percentile(a,50,axis=0))\n",
    "#axis为1，在横列上求\n",
    "print(np.percentile(a,50,axis=1))\n",
    "#保持维度不变\n",
    "print(np.percentile(a,50,axis=1,keepdims=True))"
   ]
  },
  {
   "cell_type": "markdown",
   "metadata": {},
   "source": [
    "numpy.median()\n",
    "numpy.median() 函数用于计算数组 a 中元素的中位数（中值）"
   ]
  },
  {
   "cell_type": "code",
   "execution_count": 7,
   "metadata": {},
   "outputs": [
    {
     "name": "stdout",
     "output_type": "stream",
     "text": [
      "我们的数组是：\n",
      "[[30 65 75]\n",
      " [80 95 10]\n",
      " [50 90 60]]\n",
      "\n",
      "\n",
      "调用median()函数：\n",
      "65.0\n",
      "\n",
      "\n",
      "沿轴0调用median()函数：\n",
      "[50. 90. 60.]\n",
      "\n",
      "\n",
      "沿轴1调用median()函数：\n",
      "[65. 80. 60.]\n"
     ]
    }
   ],
   "source": [
    "a = np.array([[30,65,75],[80,95,10],[50,90,60]])\n",
    "print(\"我们的数组是：\")\n",
    "print(a)\n",
    "print(\"\\n\")\n",
    "print(\"调用median()函数：\")\n",
    "print(np.median(a))\n",
    "print(\"\\n\")\n",
    "print(\"沿轴0调用median()函数：\")\n",
    "print(np.median(a,axis=0))\n",
    "print(\"\\n\")\n",
    "print(\"沿轴1调用median()函数：\")\n",
    "print(np.median(a,axis=1))"
   ]
  },
  {
   "cell_type": "markdown",
   "metadata": {},
   "source": [
    "numpy.mean()\n",
    "numpy.mean() 函数返回数组中元素的算术平均值。 如果提供了轴，则沿其计算。\n",
    "算术平均值是沿轴的元素的总和除以元素的数量"
   ]
  },
  {
   "cell_type": "code",
   "execution_count": 8,
   "metadata": {},
   "outputs": [
    {
     "name": "stdout",
     "output_type": "stream",
     "text": [
      "我们的数组是：\n",
      "[[1 2 3]\n",
      " [3 4 5]\n",
      " [4 5 6]]\n",
      "\n",
      "\n",
      "调用mean()函数：\n",
      "3.6666666666666665\n",
      "\n",
      "\n",
      "沿轴0调用mean()函数：\n",
      "[2.66666667 3.66666667 4.66666667]\n",
      "\n",
      "\n",
      "沿轴1调用mean()函数：\n",
      "[2. 4. 5.]\n"
     ]
    }
   ],
   "source": [
    "a = np.array([[1,2,3],[3,4,5],[4,5,6]])\n",
    "print(\"我们的数组是：\")\n",
    "print(a)\n",
    "print(\"\\n\")\n",
    "print(\"调用mean()函数：\")\n",
    "print(np.mean(a))\n",
    "print(\"\\n\")\n",
    "print(\"沿轴0调用mean()函数：\")\n",
    "print(np.mean(a,axis=0))\n",
    "print(\"\\n\")\n",
    "print(\"沿轴1调用mean()函数：\")\n",
    "print(np.mean(a,axis=1))"
   ]
  },
  {
   "cell_type": "raw",
   "metadata": {},
   "source": [
    "numpy.average()\n",
    "numpy.average() 函数根据在另一个数组中给出的各自的权重计算数组中元素的加权平均值。\n",
    "该函数可以接受一个轴参数。 如果没有指定轴，则数组会被展开。\n",
    "加权平均值即将各数值乘以相应的权数，然后加总求和得到总体值，再除以总的单位数。\n",
    "考虑数组[1,2,3,4]和相应的权重[4,3,2,1]，通过将相应元素的乘积相加，并将和除以权重的和，来计算加权平均值。"
   ]
  },
  {
   "cell_type": "code",
   "execution_count": 11,
   "metadata": {},
   "outputs": [
    {
     "name": "stdout",
     "output_type": "stream",
     "text": [
      "我们的数组是：\n",
      "[1 2 3 4]\n",
      "\n",
      "\n",
      "调用average()函数：\n",
      "2.5\n",
      "\n",
      "\n",
      "再次调用average()函数：\n",
      "2.0\n",
      "\n",
      "\n",
      "权重的和：\n",
      "(2.0, 10.0)\n"
     ]
    }
   ],
   "source": [
    "a = np.array([1,2,3,4])\n",
    "print(\"我们的数组是：\")\n",
    "print(a)\n",
    "print(\"\\n\")\n",
    "print(\"调用average()函数：\")\n",
    "print(np.average(a))\n",
    "print(\"\\n\")\n",
    "#不指定权值时相当于mean函数\n",
    "wts=np.array([4,3,2,1])\n",
    "print(\"再次调用average()函数：\")\n",
    "print(np.average(a,weights=wts))\n",
    "print(\"\\n\")\n",
    "#如果returned参数设为true，则返回权重的和\n",
    "print(\"权重的和：\")\n",
    "print(np.average([1,2,3,4],weights=[4,3,2,1],returned=True))"
   ]
  },
  {
   "cell_type": "markdown",
   "metadata": {},
   "source": [
    "在多维数组中，可以指定用于计算的轴。"
   ]
  },
  {
   "cell_type": "code",
   "execution_count": 15,
   "metadata": {},
   "outputs": [
    {
     "name": "stdout",
     "output_type": "stream",
     "text": [
      "我们的数组是：\n",
      "[[0 1]\n",
      " [2 3]\n",
      " [4 5]]\n",
      "\n",
      "\n",
      "修改后的数组：\n",
      "[0.625 2.625 4.625]\n",
      "\n",
      "\n",
      "修改后的数组：\n",
      "(array([0.625, 2.625, 4.625]), array([8., 8., 8.]))\n"
     ]
    }
   ],
   "source": [
    "a = np.arange(6).reshape(3,2)\n",
    "print(\"我们的数组是：\")\n",
    "print(a)\n",
    "print(\"\\n\")\n",
    "print(\"修改后的数组：\")\n",
    "wt = np.array([3,5])\n",
    "print(np.average(a,axis = 1,weights = wt))\n",
    "print(\"\\n\")\n",
    "print(\"修改后的数组：\")\n",
    "print(np.average(a,axis=1,weights=wt,returned=True))"
   ]
  },
  {
   "cell_type": "markdown",
   "metadata": {},
   "source": [
    "标准差\n",
    "标准差是一组数据平均值分散程度的一种度量。"
   ]
  },
  {
   "cell_type": "code",
   "execution_count": 16,
   "metadata": {},
   "outputs": [
    {
     "name": "stdout",
     "output_type": "stream",
     "text": [
      "1.118033988749895\n"
     ]
    }
   ],
   "source": [
    "print(np.std([1,2,3,4]))"
   ]
  },
  {
   "cell_type": "markdown",
   "metadata": {},
   "source": [
    "方差\n",
    "统计中的方差（样本方差）是每个样本值与全体样本值的平均数之差的平方值的平均数"
   ]
  },
  {
   "cell_type": "code",
   "execution_count": 17,
   "metadata": {},
   "outputs": [
    {
     "name": "stdout",
     "output_type": "stream",
     "text": [
      "1.25\n"
     ]
    }
   ],
   "source": [
    "print(np.var([1,2,3,4]))"
   ]
  },
  {
   "cell_type": "code",
   "execution_count": null,
   "metadata": {},
   "outputs": [],
   "source": []
  }
 ],
 "metadata": {
  "kernelspec": {
   "display_name": "Python 3",
   "language": "python",
   "name": "python3"
  },
  "language_info": {
   "codemirror_mode": {
    "name": "ipython",
    "version": 3
   },
   "file_extension": ".py",
   "mimetype": "text/x-python",
   "name": "python",
   "nbconvert_exporter": "python",
   "pygments_lexer": "ipython3",
   "version": "3.7.3"
  }
 },
 "nbformat": 4,
 "nbformat_minor": 2
}
