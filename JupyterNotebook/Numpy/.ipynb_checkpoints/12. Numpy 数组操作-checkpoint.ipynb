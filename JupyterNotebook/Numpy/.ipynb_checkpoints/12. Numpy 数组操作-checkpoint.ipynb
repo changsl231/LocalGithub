{
 "cells": [
  {
   "cell_type": "markdown",
   "metadata": {},
   "source": [
    "# 12. Numpy 数组操作"
   ]
  },
  {
   "cell_type": "markdown",
   "metadata": {},
   "source": [
    "修改数组形状\n",
    "\n",
    "reshape 不改变数据的条件下修改形状\n",
    "flat \t数组元素迭代器\n",
    "flatten 返回一份数组拷贝，对拷贝所做的修改不会影响原         始数组\n",
    "ravel \t返回展开数组"
   ]
  },
  {
   "cell_type": "code",
   "execution_count": 2,
   "metadata": {},
   "outputs": [
    {
     "name": "stdout",
     "output_type": "stream",
     "text": [
      "原始数组：\n",
      "[0 1 2 3 4 5 6 7]\n",
      "\n",
      "\n",
      "修改后的数组：\n",
      "[[0 1]\n",
      " [2 3]\n",
      " [4 5]\n",
      " [6 7]]\n"
     ]
    }
   ],
   "source": [
    "#numpy.reshape\n",
    "\n",
    "import numpy as np\n",
    "a = np.arange(8)\n",
    "print(\"原始数组：\")\n",
    "print(a)\n",
    "print(\"\\n\")\n",
    "\n",
    "b = a.reshape(4,2)\n",
    "print(\"修改后的数组：\")\n",
    "print(b)"
   ]
  },
  {
   "cell_type": "code",
   "execution_count": 3,
   "metadata": {},
   "outputs": [
    {
     "name": "stdout",
     "output_type": "stream",
     "text": [
      "原始数组：\n",
      "[0 1 2]\n",
      "[3 4 5]\n",
      "[6 7 8]\n",
      "迭代后的数组：\n",
      "0\n",
      "1\n",
      "2\n",
      "3\n",
      "4\n",
      "5\n",
      "6\n",
      "7\n",
      "8\n"
     ]
    }
   ],
   "source": [
    "a = np.arange(9).reshape(3,3)\n",
    "print(\"原始数组：\")\n",
    "for row in a:\n",
    "    print(row)\n",
    "\n",
    "#对数组中每个元素都进行处理，可以使用flat属性，该属性是一个数组元素迭代器\n",
    "print(\"迭代后的数组：\")\n",
    "for element in a.flat:\n",
    "        print(element)"
   ]
  },
  {
   "cell_type": "markdown",
   "metadata": {},
   "source": [
    "numpy.ndarray.flatten 返回一份数组拷贝，对拷贝所做的修改不会影响原始数组，格式如下：\n",
    "ndarray.flatten(order='C')\n",
    "order：'C' -- 按行，'F' -- 按列，'A' -- 原顺序，'K' -- 元素在内存中的出现顺序"
   ]
  },
  {
   "cell_type": "code",
   "execution_count": 6,
   "metadata": {},
   "outputs": [
    {
     "name": "stdout",
     "output_type": "stream",
     "text": [
      "原始数组：\n",
      "[[0 1 2 3]\n",
      " [4 5 6 7]]\n",
      "\n",
      "\n",
      "展开数组：\n",
      "[0 1 2 3 4 5 6 7]\n",
      "\n",
      "\n",
      "以F风格顺序展开的数组：\n",
      "[0 4 1 5 2 6 3 7]\n"
     ]
    }
   ],
   "source": [
    "a = np.arange(8).reshape(2,4)\n",
    "\n",
    "print(\"原始数组：\")\n",
    "print(a)\n",
    "print(\"\\n\")\n",
    "\n",
    "#默认行\n",
    "print(\"展开数组：\")\n",
    "print(a.flatten())\n",
    "print(\"\\n\")\n",
    "\n",
    "#按列格式\n",
    "print(\"以F风格顺序展开的数组：\")\n",
    "print(a.flatten(order = 'F'))"
   ]
  },
  {
   "cell_type": "code",
   "execution_count": null,
   "metadata": {},
   "outputs": [],
   "source": []
  }
 ],
 "metadata": {
  "kernelspec": {
   "display_name": "Python 3",
   "language": "python",
   "name": "python3"
  },
  "language_info": {
   "codemirror_mode": {
    "name": "ipython",
    "version": 3
   },
   "file_extension": ".py",
   "mimetype": "text/x-python",
   "name": "python",
   "nbconvert_exporter": "python",
   "pygments_lexer": "ipython3",
   "version": "3.7.3"
  }
 },
 "nbformat": 4,
 "nbformat_minor": 2
}
