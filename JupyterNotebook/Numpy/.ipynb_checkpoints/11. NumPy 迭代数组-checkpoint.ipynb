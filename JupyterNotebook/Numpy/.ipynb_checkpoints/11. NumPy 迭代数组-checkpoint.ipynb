{
 "cells": [
  {
   "cell_type": "markdown",
   "metadata": {},
   "source": [
    "# 11. NumPy 迭代数组"
   ]
  },
  {
   "cell_type": "markdown",
   "metadata": {},
   "source": [
    "NumPy 迭代器对象 numpy.nditer 提供了一种灵活访问一个或者多个数组元素的方式。\n",
    "\n",
    "迭代器最基本的任务的可以完成对数组元素的访问。"
   ]
  },
  {
   "cell_type": "code",
   "execution_count": 1,
   "metadata": {},
   "outputs": [
    {
     "name": "stdout",
     "output_type": "stream",
     "text": [
      "原始数组是：\n",
      "[[0 1 2]\n",
      " [3 4 5]]\n",
      "\n",
      "\n",
      "迭代输出元素\n",
      "0,1,2,3,4,5,\n",
      "\n"
     ]
    }
   ],
   "source": [
    "import numpy as np\n",
    "\n",
    "a = np.arange(6).reshape(2,3)\n",
    "print(\"原始数组是：\")\n",
    "print(a)\n",
    "print('\\n')\n",
    "print(\"迭代输出元素\")\n",
    "for x in np.nditer(a):\n",
    "    print(x,end=',')\n",
    "print('\\n')"
   ]
  },
  {
   "cell_type": "code",
   "execution_count": 4,
   "metadata": {},
   "outputs": [
    {
     "name": "stdout",
     "output_type": "stream",
     "text": [
      "0,1,2,3,4,5,\n",
      "\n",
      "0,3,1,4,2,5,\n",
      "\n"
     ]
    }
   ],
   "source": [
    "for x in np.nditer(a.T):\n",
    "    print(x,end=',')\n",
    "print('\\n')\n",
    "\n",
    "for x in np.nditer(a.T.copy(order = 'C')):\n",
    "    print(x,end=',')\n",
    "print('\\n')"
   ]
  },
  {
   "cell_type": "markdown",
   "metadata": {},
   "source": [
    "从上述例子可以看出，a 和 a.T 的遍历顺序是一样的，也就是他们在内存中的存储顺序也是一样的，但是 a.T.copy(order = 'C') 的遍历结果是不同的，那是因为它和前两种的存储方式是不一样的，默认是按行访问。"
   ]
  },
  {
   "cell_type": "markdown",
   "metadata": {},
   "source": [
    "控制遍历顺序\n",
    "for x in np.nditer(a, order='F'):Fortran order，即是列序优先；\n",
    "for x in np.nditer(a.T, order='C'):C order，即是行序优先；"
   ]
  },
  {
   "cell_type": "code",
   "execution_count": 8,
   "metadata": {},
   "outputs": [
    {
     "name": "stdout",
     "output_type": "stream",
     "text": [
      "原始数组是：\n",
      "[[ 0  5 10 15]\n",
      " [20 25 30 35]\n",
      " [40 45 50 55]]\n",
      "\n",
      "\n",
      "原始数组的转置是：\n",
      "[[ 0 20 40]\n",
      " [ 5 25 45]\n",
      " [10 30 50]\n",
      " [15 35 55]]\n",
      "\n",
      "\n",
      "以C风格顺序排序：\n",
      "[[ 0 20 40]\n",
      " [ 5 25 45]\n",
      " [10 30 50]\n",
      " [15 35 55]]\n",
      "\n",
      "\n",
      "0,20,40,5,25,45,10,30,50,15,35,55,\n",
      "\n",
      "以F风格顺序排序：\n",
      "[[ 0 20 40]\n",
      " [ 5 25 45]\n",
      " [10 30 50]\n",
      " [15 35 55]]\n",
      "\n",
      "\n",
      "0,5,10,15,20,25,30,35,40,45,50,55,"
     ]
    }
   ],
   "source": [
    "a = np.arange(0,60,5).reshape(3,4)\n",
    "print(\"原始数组是：\")\n",
    "print(a)\n",
    "print(\"\\n\")\n",
    "b = a.T\n",
    "print(\"原始数组的转置是：\")\n",
    "print(b)\n",
    "print('\\n')\n",
    "c = b.copy(order='C')\n",
    "print(\"以C风格顺序排序：\")\n",
    "print(c)\n",
    "print('\\n')\n",
    "\n",
    "for x in np.nditer(c):\n",
    "    print(x , end = ',')\n",
    "print('\\n')\n",
    "\n",
    "c = b.copy(order = 'F')\n",
    "print(\"以F风格顺序排序：\")\n",
    "print(c)\n",
    "print('\\n')\n",
    "for x in np.nditer(c):\n",
    "    print(x , end = ',')"
   ]
  },
  {
   "cell_type": "markdown",
   "metadata": {},
   "source": [
    "可以通过显式设置，来强制 nditer 对象使用某种顺序："
   ]
  },
  {
   "cell_type": "markdown",
   "metadata": {},
   "source": [
    "修改数组中元素的值\n",
    "nditer 对象有另一个可选参数 op_flags。 默认情况下，nditer 将视待迭代遍历的数组为只读对象（read-only），为了在遍历数组的同时，实现对数组元素值得修改，必须指定 read-write 或者 write-only 的模式。"
   ]
  },
  {
   "cell_type": "code",
   "execution_count": 9,
   "metadata": {},
   "outputs": [
    {
     "name": "stdout",
     "output_type": "stream",
     "text": [
      "修改后的数组是：\n",
      "[[  0  10  20  30]\n",
      " [ 40  50  60  70]\n",
      " [ 80  90 100 110]]\n"
     ]
    }
   ],
   "source": [
    "for x in np.nditer(a,op_flags=['readwrite']):\n",
    "    x[...]=2*x\n",
    "print(\"修改后的数组是：\")\n",
    "print(a)"
   ]
  },
  {
   "cell_type": "code",
   "execution_count": 10,
   "metadata": {},
   "outputs": [
    {
     "name": "stdout",
     "output_type": "stream",
     "text": [
      "修改后的数组是：\n",
      "[ 0 40 80],[10 50 90],[ 20  60 100],[ 30  70 110],"
     ]
    }
   ],
   "source": [
    "print(\"修改后的数组是：\")\n",
    "for x in np.nditer(a,flags = ['external_loop'],order = 'F'):\n",
    "    print(x,end = ',')"
   ]
  },
  {
   "cell_type": "markdown",
   "metadata": {},
   "source": [
    "广播迭代\n",
    "如果两个数组是可广播的，nditer 组合对象能够同时迭代它们。 假设数组 a 的维度为 3X4，数组 b 的维度为 1X4 ，则使用以下迭代器（数组 b 被广播到 a 的大小）。"
   ]
  },
  {
   "cell_type": "code",
   "execution_count": 28,
   "metadata": {},
   "outputs": [
    {
     "name": "stdout",
     "output_type": "stream",
     "text": [
      "第一个数组为：\n",
      "[[ 0  5 10 15]\n",
      " [20 25 30 35]\n",
      " [40 45 50 55]]\n",
      "\n",
      "\n",
      "[1 2 3 4]\n",
      "\n",
      "\n",
      "修改后的数组为：\n",
      "0 : 1,5 : 2,10 : 3,15 : 4,20 : 1,25 : 2,30 : 3,35 : 4,40 : 1,45 : 2,50 : 3,55 : 4,"
     ]
    }
   ],
   "source": [
    "a = np.arange(0,60,5).reshape(3,4)\n",
    "print(\"第一个数组为：\")\n",
    "print(a)\n",
    "print('\\n')\n",
    "b  = np.array([1,2,3,4],dtype = int)\n",
    "print(b)\n",
    "print('\\n')\n",
    "print(\"修改后的数组为：\")\n",
    "for x,y in np.nditer([a,b]):\n",
    "   print('{} : {}'.format(x,y),end=\",\")"
   ]
  },
  {
   "cell_type": "code",
   "execution_count": null,
   "metadata": {},
   "outputs": [],
   "source": []
  }
 ],
 "metadata": {
  "kernelspec": {
   "display_name": "Python 3",
   "language": "python",
   "name": "python3"
  },
  "language_info": {
   "codemirror_mode": {
    "name": "ipython",
    "version": 3
   },
   "file_extension": ".py",
   "mimetype": "text/x-python",
   "name": "python",
   "nbconvert_exporter": "python",
   "pygments_lexer": "ipython3",
   "version": "3.7.3"
  }
 },
 "nbformat": 4,
 "nbformat_minor": 2
}
