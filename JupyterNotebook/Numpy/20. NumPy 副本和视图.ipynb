{
 "cells": [
  {
   "cell_type": "markdown",
   "metadata": {},
   "source": [
    "# 20. NumPy 副本和视图"
   ]
  },
  {
   "cell_type": "markdown",
   "metadata": {},
   "source": [
    "副本是一个数据的完整的拷贝，如果我们对副本进行修改，它不会影响到原始数据，物理内存不在同一位置。\n",
    "视图是数据的一个别称或引用，通过该别称或引用亦便可访问、操作原有数据，但原有数据不会产生拷贝。如果我们对视图进行修改，它会影响到原始数据，物理内存在同一位置。\n",
    "\n",
    "视图一般发生在：\n",
    "1.numpy 的切片操作返回原数据的视图。\n",
    "2.调用 ndarray 的 view() 函数产生一个视图。 \n",
    "\n",
    "副本一般发生在：\n",
    "1.Python 序列的切片操作，调用deepCopy()函数。\n",
    "2.调用 ndarray 的 copy() 函数产生一个副本。 \n",
    "\n",
    "无复制\n",
    "简单的赋值不会创建数组对象的副本。 相反，它使用原始数组的相同id()来访问它。 id()返回 Python 对象的通用标识符，类似于 C 中的指针。\n",
    "此外，一个数组的任何变化都反映在另一个数组上。 例如，一个数组的形状改变也会改变另一个数组的形状。"
   ]
  },
  {
   "cell_type": "code",
   "execution_count": 2,
   "metadata": {},
   "outputs": [
    {
     "name": "stdout",
     "output_type": "stream",
     "text": [
      "我们的数组是：\n",
      "[0 1 2 3 4 5]\n",
      "调用id()函数：\n",
      "2354553304448\n",
      "a赋值给b\n",
      "[0 1 2 3 4 5]\n",
      "b拥有相同id():\n",
      "2354553304448\n",
      "修改b的形状：\n",
      "[[0 1]\n",
      " [2 3]\n",
      " [4 5]]\n",
      "a的形状也修改了：\n",
      "[[0 1]\n",
      " [2 3]\n",
      " [4 5]]\n"
     ]
    }
   ],
   "source": [
    "import numpy as np\n",
    "\n",
    "a = np.arange(6)\n",
    "print(\"我们的数组是：\")\n",
    "print(a)\n",
    "print(\"调用id()函数：\")\n",
    "print(id(a))\n",
    "print(\"a赋值给b\")\n",
    "b = a\n",
    "print(b)\n",
    "print(\"b拥有相同id():\")\n",
    "print(id(b))\n",
    "print(\"修改b的形状：\")\n",
    "b.shape = 3,2\n",
    "print(b)\n",
    "print(\"a的形状也修改了：\")\n",
    "print(a)"
   ]
  },
  {
   "cell_type": "markdown",
   "metadata": {},
   "source": [
    "视图或浅拷贝\n",
    "ndarray.view() 方会创建一个新的数组对象，该方法创建的新数组的维数更改不会更改原始数据的维数。"
   ]
  },
  {
   "cell_type": "code",
   "execution_count": 3,
   "metadata": {},
   "outputs": [
    {
     "name": "stdout",
     "output_type": "stream",
     "text": [
      "数组a:\n",
      "[[0 1]\n",
      " [2 3]\n",
      " [4 5]]\n",
      "创建a的视图：\n",
      "[[0 1]\n",
      " [2 3]\n",
      " [4 5]]\n",
      "两个数组的id()不同：\n",
      "a的id():\n",
      "2354553305168\n",
      "b的id():\n",
      "2354553305088\n",
      "b的形状：\n",
      "[[0 1 2]\n",
      " [3 4 5]]\n",
      "a的形状：\n",
      "[[0 1]\n",
      " [2 3]\n",
      " [4 5]]\n"
     ]
    }
   ],
   "source": [
    "#最开始a是个3x2的数组\n",
    "a = np.arange(6).reshape(3,2)\n",
    "print(\"数组a:\")\n",
    "print(a)\n",
    "print(\"创建a的视图：\")\n",
    "b = a.view()\n",
    "print(b)\n",
    "print(\"两个数组的id()不同：\")\n",
    "print(\"a的id():\")\n",
    "print(id(a))\n",
    "print(\"b的id():\")\n",
    "print(id(b))\n",
    "#修改b的形状，并不会修改a\n",
    "b.shape = 2,3\n",
    "print(\"b的形状：\")\n",
    "print(b)\n",
    "print(\"a的形状：\")\n",
    "print(a)"
   ]
  },
  {
   "cell_type": "markdown",
   "metadata": {},
   "source": [
    "使用切片创建视图修改数据会影响到原始数组："
   ]
  },
  {
   "cell_type": "code",
   "execution_count": 5,
   "metadata": {},
   "outputs": [
    {
     "name": "stdout",
     "output_type": "stream",
     "text": [
      "我们的数组：\n",
      "[ 0  1  2  3  4  5  6  7  8  9 10 11]\n",
      "创建切片：\n",
      "[  0   1   2   3 123 231   6   7   8   9  10  11]\n",
      "2354553306368 2354553305168 2354553305248\n"
     ]
    }
   ],
   "source": [
    "arr = np.arange(12)\n",
    "print(\"我们的数组：\")\n",
    "print(arr)\n",
    "print(\"创建切片：\")\n",
    "a = arr[3:]\n",
    "b = arr[3:]\n",
    "a[1]=123\n",
    "b[2]=231\n",
    "print(arr)\n",
    "print(id(a),id(b),id(arr[3:]))"
   ]
  },
  {
   "cell_type": "markdown",
   "metadata": {},
   "source": [
    "副本或深拷贝\n",
    "ndarray.copy() 函数创建一个副本。 对副本数据进行修改，不会影响到原始数据，它们物理内存不在同一位置。"
   ]
  },
  {
   "cell_type": "code",
   "execution_count": 6,
   "metadata": {},
   "outputs": [
    {
     "name": "stdout",
     "output_type": "stream",
     "text": [
      "数组a:\n",
      "[[10 10]\n",
      " [ 2  3]\n",
      " [ 4  5]]\n",
      "创建a的深度副本：\n",
      "数组b:\n",
      "[[10 10]\n",
      " [ 2  3]\n",
      " [ 4  5]]\n",
      "我们能够写入b来写入a吗？\n",
      "False\n",
      "修改b的内容：\n",
      "修改后的b数组：\n",
      "[[100  10]\n",
      " [  2   3]\n",
      " [  4   5]]\n",
      "a保持不变：\n",
      "[[10 10]\n",
      " [ 2  3]\n",
      " [ 4  5]]\n"
     ]
    }
   ],
   "source": [
    "a = np.array([[10,10],[2,3],[4,5]])\n",
    "print(\"数组a:\")\n",
    "print(a)\n",
    "print(\"创建a的深度副本：\")\n",
    "b = a.copy()\n",
    "print(\"数组b:\")\n",
    "print(b)\n",
    "#b与a不共享内容\n",
    "print(\"我们能够写入b来写入a吗？\")\n",
    "print(b is a)\n",
    "print(\"修改b的内容：\")\n",
    "b[0,0]=100\n",
    "print(\"修改后的b数组：\")\n",
    "print(b)\n",
    "print(\"a保持不变：\")\n",
    "print(a)"
   ]
  }
 ],
 "metadata": {
  "kernelspec": {
   "display_name": "Python 3",
   "language": "python",
   "name": "python3"
  },
  "language_info": {
   "codemirror_mode": {
    "name": "ipython",
    "version": 3
   },
   "file_extension": ".py",
   "mimetype": "text/x-python",
   "name": "python",
   "nbconvert_exporter": "python",
   "pygments_lexer": "ipython3",
   "version": "3.7.3"
  }
 },
 "nbformat": 4,
 "nbformat_minor": 2
}
