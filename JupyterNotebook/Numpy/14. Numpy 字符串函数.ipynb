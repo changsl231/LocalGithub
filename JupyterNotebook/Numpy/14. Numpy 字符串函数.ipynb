{
 "cells": [
  {
   "cell_type": "markdown",
   "metadata": {},
   "source": [
    "# 14. Numpy 字符串函数"
   ]
  },
  {
   "cell_type": "markdown",
   "metadata": {},
   "source": [
    "numpy.char.add()\n",
    "numpy.char.add() 函数依次对两个数组的元素进行字符串连接"
   ]
  },
  {
   "cell_type": "code",
   "execution_count": 3,
   "metadata": {},
   "outputs": [
    {
     "name": "stdout",
     "output_type": "stream",
     "text": [
      "连接两个字符串：\n",
      "['helloxyz']\n",
      "\n",
      "\n",
      "连接示例：\n",
      "['hello abc' 'hi xyz']\n"
     ]
    }
   ],
   "source": [
    "import numpy as np\n",
    "\n",
    "print(\"连接两个字符串：\")\n",
    "print(np.char.add([\"hello\"],[\"xyz\"]))\n",
    "print(\"\\n\")\n",
    "\n",
    "print(\"连接示例：\")\n",
    "print(np.char.add([\"hello\",\"hi\"],[\" abc\",\" xyz\"]))"
   ]
  },
  {
   "cell_type": "markdown",
   "metadata": {},
   "source": [
    "numpy.char.multiply()\n",
    "numpy.char.multiply() 函数执行多重连接"
   ]
  },
  {
   "cell_type": "code",
   "execution_count": 5,
   "metadata": {},
   "outputs": [
    {
     "name": "stdout",
     "output_type": "stream",
     "text": [
      "Runoob Runoob Runoob \n"
     ]
    }
   ],
   "source": [
    "print(np.char.multiply(\"Runoob \",3))"
   ]
  },
  {
   "cell_type": "markdown",
   "metadata": {},
   "source": [
    "numpy.char.center()\n",
    "numpy.char.center() 函数用于将字符串居中，并使用指定字符在左侧和右侧进行填充"
   ]
  },
  {
   "cell_type": "code",
   "execution_count": 6,
   "metadata": {},
   "outputs": [
    {
     "name": "stdout",
     "output_type": "stream",
     "text": [
      "*******Runoob*******\n"
     ]
    }
   ],
   "source": [
    "#np.char.center(str,width,fillchar)\n",
    "#str:字符串，width:长度，fillchar:填充字符\n",
    "print(np.char.center(\"Runoob\",20,fillchar = '*'))"
   ]
  },
  {
   "cell_type": "markdown",
   "metadata": {},
   "source": [
    "numpy.char.capitalize()\n",
    "numpy.char.capitalize() 函数将字符串的第一个字母转换为大写"
   ]
  },
  {
   "cell_type": "code",
   "execution_count": 7,
   "metadata": {},
   "outputs": [
    {
     "name": "stdout",
     "output_type": "stream",
     "text": [
      "Runoob\n"
     ]
    }
   ],
   "source": [
    "print(np.char.capitalize(\"runoob\"))"
   ]
  },
  {
   "cell_type": "markdown",
   "metadata": {},
   "source": [
    "numpy.char.title()\n",
    "numpy.char.title() 函数将字符串的每个单词的第一个字母转换为大写"
   ]
  },
  {
   "cell_type": "code",
   "execution_count": 8,
   "metadata": {},
   "outputs": [
    {
     "name": "stdout",
     "output_type": "stream",
     "text": [
      "I Like Runoob\n"
     ]
    }
   ],
   "source": [
    "print(np.char.title(\"i like runoob\"))"
   ]
  },
  {
   "cell_type": "markdown",
   "metadata": {},
   "source": [
    "numpy.char.lower()\n",
    "numpy.char.lower() 函数对数组的每个元素转换为小写。它对每个元素调用 str.lower。"
   ]
  },
  {
   "cell_type": "code",
   "execution_count": 9,
   "metadata": {},
   "outputs": [
    {
     "name": "stdout",
     "output_type": "stream",
     "text": [
      "['runoob' 'google']\n",
      "runoob\n"
     ]
    }
   ],
   "source": [
    "#操作数组\n",
    "print(np.char.lower([\"RUNOOB\",\"GOOGLE\"]))\n",
    "\n",
    "#操作字符串\n",
    "print(np.char.lower(\"RUNOOB\"))"
   ]
  },
  {
   "cell_type": "markdown",
   "metadata": {},
   "source": [
    "numpy.char.upper()\n",
    "numpy.char.upper() 函数对数组的每个元素转换为大写。它对每个元素调用 str.upper。"
   ]
  },
  {
   "cell_type": "code",
   "execution_count": 10,
   "metadata": {},
   "outputs": [
    {
     "name": "stdout",
     "output_type": "stream",
     "text": [
      "['RUNOOB' 'GOOGLE']\n",
      "RUNOOB\n"
     ]
    }
   ],
   "source": [
    "#操作数组\n",
    "print(np.char.upper([\"runoob\",\"google\"]))\n",
    "\n",
    "#操作字符串\n",
    "print(np.char.upper(\"runoob\"))"
   ]
  },
  {
   "cell_type": "markdown",
   "metadata": {},
   "source": [
    "numpy.char.split()\n",
    "numpy.char.split() 通过指定分隔符对字符串进行分割，并返回数组。默认情况下，分隔符为空格。 "
   ]
  },
  {
   "cell_type": "code",
   "execution_count": 12,
   "metadata": {},
   "outputs": [
    {
     "name": "stdout",
     "output_type": "stream",
     "text": [
      "['i', 'like', 'runoob?']\n",
      "['www', 'runoob', 'com']\n"
     ]
    }
   ],
   "source": [
    "#分隔符默认为空格\n",
    "print(np.char.split(\"i like runoob?\"))\n",
    "\n",
    "#分隔符为 .\n",
    "print(np.char.split(\"www.runoob.com\",sep = \".\"))"
   ]
  },
  {
   "cell_type": "markdown",
   "metadata": {},
   "source": [
    "numpy.char.strip()\n",
    "numpy.char.strip() 函数用于移除开头或结尾处的特定字符。"
   ]
  },
  {
   "cell_type": "code",
   "execution_count": 13,
   "metadata": {},
   "outputs": [
    {
     "name": "stdout",
     "output_type": "stream",
     "text": [
      "shok arunoob\n",
      "['runoob' 'dmin' 'jav']\n"
     ]
    }
   ],
   "source": [
    "#移除字符串头尾的a字符\n",
    "print(np.char.strip(\"ashok arunoob\",\"a\"))\n",
    "\n",
    "#移除数组元素头尾的a字符\n",
    "print(np.char.strip([\"arunoob\",\"admin\",\"java\"],\"a\"))"
   ]
  },
  {
   "cell_type": "markdown",
   "metadata": {},
   "source": [
    "numpy.char.join()\n",
    "numpy.char.join() 函数通过指定分隔符来连接数组中的元素或字符串"
   ]
  },
  {
   "cell_type": "code",
   "execution_count": 14,
   "metadata": {},
   "outputs": [
    {
     "name": "stdout",
     "output_type": "stream",
     "text": [
      "r:u:n:o:o:b\n",
      "['r:u:n:o:o:b' 'g-o-o-g-l-e']\n"
     ]
    }
   ],
   "source": [
    "#操作字符串\n",
    "print(np.char.join(\":\",\"runoob\"))\n",
    "\n",
    "#指定多个分隔符操作数组元素\n",
    "print(np.char.join([\":\",\"-\"],[\"runoob\",\"google\"]))"
   ]
  },
  {
   "cell_type": "markdown",
   "metadata": {},
   "source": [
    "numpy.char.replace()\n",
    "numpy.char.replace() 函数使用新字符串替换字符串中的所有子字符串。"
   ]
  },
  {
   "cell_type": "code",
   "execution_count": 15,
   "metadata": {},
   "outputs": [
    {
     "name": "stdout",
     "output_type": "stream",
     "text": [
      "i like runccb\n"
     ]
    }
   ],
   "source": [
    "print(np.char.replace(\"i like runoob\",\"oo\",\"cc\"))"
   ]
  },
  {
   "cell_type": "markdown",
   "metadata": {},
   "source": [
    "numpy.char.encode()\n",
    "numpy.char.encode() 函数对数组中的每个元素调用 str.encode 函数。 默认编码是 utf-8，可以使用标准 Python 库中的编解码器。"
   ]
  },
  {
   "cell_type": "code",
   "execution_count": 16,
   "metadata": {},
   "outputs": [
    {
     "name": "stdout",
     "output_type": "stream",
     "text": [
      "b'\\x99\\xa4\\x95\\x96\\x96\\x82'\n"
     ]
    }
   ],
   "source": [
    "print(np.char.encode(\"runoob\",\"cp500\"))"
   ]
  },
  {
   "cell_type": "markdown",
   "metadata": {},
   "source": [
    "numpy.char.decode()\n",
    "numpy.char.decode() 函数对编码的元素进行 str.decode() 解码。"
   ]
  },
  {
   "cell_type": "code",
   "execution_count": 17,
   "metadata": {},
   "outputs": [
    {
     "name": "stdout",
     "output_type": "stream",
     "text": [
      "b'\\x99\\xa4\\x95\\x96\\x96\\x82'\n",
      "runoob\n"
     ]
    }
   ],
   "source": [
    "a = np.char.encode(\"runoob\",\"cp500\")\n",
    "print(a)\n",
    "print(np.char.decode(a,\"cp500\"))"
   ]
  }
 ],
 "metadata": {
  "kernelspec": {
   "display_name": "Python 3",
   "language": "python",
   "name": "python3"
  },
  "language_info": {
   "codemirror_mode": {
    "name": "ipython",
    "version": 3
   },
   "file_extension": ".py",
   "mimetype": "text/x-python",
   "name": "python",
   "nbconvert_exporter": "python",
   "pygments_lexer": "ipython3",
   "version": "3.7.3"
  }
 },
 "nbformat": 4,
 "nbformat_minor": 2
}
