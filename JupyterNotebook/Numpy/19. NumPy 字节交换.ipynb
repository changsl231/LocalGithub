{
 "cells": [
  {
   "cell_type": "markdown",
   "metadata": {},
   "source": [
    "# 19. NumPy 字节交换"
   ]
  },
  {
   "cell_type": "markdown",
   "metadata": {},
   "source": [
    "在几乎所有的机器上，多字节对象都被存储为连续的字节序列。字节顺序，是跨越多字节的程序对象的存储规则。\n",
    "\n",
    "大端模式：指数据的高字节保存在内存的低地址中，而数据的低字节保存在内存的高地址中，这样的存储模式有点儿类似于把数据当作字符串顺序处理：地址由小向大增加，而数据从高位往低位放；这和我们的阅读习惯一致。\n",
    "\n",
    "小端模式：指数据的高字节保存在内存的高地址中，而数据的低字节保存在内存的低地址中，这种存储模式将地址的高低和数据位权有效地结合起来，高地址部分权值高，低地址部分权值低。\n",
    "\n",
    "例如在 C 语言中，一个类型为 int 的变量 x 地址为 0x100，那么其对应地址表达式&x的值为 0x100。且x的四个字节将被存储在存储器的 0x100, 0x101, 0x102, 0x103位置。"
   ]
  },
  {
   "cell_type": "markdown",
   "metadata": {},
   "source": [
    "numpy.ndarray.byteswap()\n",
    "numpy.ndarray.byteswap() 函数将 ndarray 中每个元素中的字节进行大小端转换"
   ]
  },
  {
   "cell_type": "code",
   "execution_count": 2,
   "metadata": {},
   "outputs": [
    {
     "name": "stdout",
     "output_type": "stream",
     "text": [
      "我们的数组是：\n",
      "[   1  256 8755]\n",
      "以16进制表示内存中的数据：\n",
      "<map object at 0x000002645B38BD68>\n",
      "调用byteswap()函数：\n",
      "16进制形势：\n",
      "<map object at 0x000002645B38BCF8>\n"
     ]
    }
   ],
   "source": [
    "import numpy as np\n",
    "\n",
    "a = np.array([1,256,8755],dtype=np.int16)\n",
    "print(\"我们的数组是：\")\n",
    "print(a)\n",
    "print(\"以16进制表示内存中的数据：\")\n",
    "print(map(hex,a))\n",
    "#byteswap()函数通过传入true来原地交换\n",
    "print(\"调用byteswap()函数：\")\n",
    "print(\"16进制形势：\")\n",
    "print(map(hex,a))"
   ]
  },
  {
   "cell_type": "code",
   "execution_count": null,
   "metadata": {},
   "outputs": [],
   "source": []
  }
 ],
 "metadata": {
  "kernelspec": {
   "display_name": "Python 3",
   "language": "python",
   "name": "python3"
  },
  "language_info": {
   "codemirror_mode": {
    "name": "ipython",
    "version": 3
   },
   "file_extension": ".py",
   "mimetype": "text/x-python",
   "name": "python",
   "nbconvert_exporter": "python",
   "pygments_lexer": "ipython3",
   "version": "3.7.3"
  }
 },
 "nbformat": 4,
 "nbformat_minor": 2
}
