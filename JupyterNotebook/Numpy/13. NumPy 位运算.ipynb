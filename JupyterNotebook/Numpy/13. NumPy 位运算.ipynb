{
 "cells": [
  {
   "cell_type": "markdown",
   "metadata": {},
   "source": [
    "# 13. NumPy 位运算"
   ]
  },
  {
   "cell_type": "markdown",
   "metadata": {},
   "source": [
    "NumPy \"bitwise_\" 开头的函数是位运算函数。\n",
    "\n",
    "NumPy 位运算包括以下几个函数：\n",
    "函数         \t描述\n",
    "bitwise_and   对数组元素执行位与操作\n",
    "bitwise_or \t  对数组元素执行位或操作\n",
    "invert \t      按位取反\n",
    "left_shift \t  向左移动二进制表示的位\n",
    "right_shift   向右移动二进制表示的位"
   ]
  },
  {
   "cell_type": "markdown",
   "metadata": {},
   "source": [
    "bitwise_and\n",
    "bitwise_and() 函数对数组中整数的二进制形式执行位与运算。"
   ]
  },
  {
   "cell_type": "code",
   "execution_count": 1,
   "metadata": {},
   "outputs": [
    {
     "name": "stdout",
     "output_type": "stream",
     "text": [
      "13 和 17 的二进制形式：\n",
      "0b1101 0b10001\n",
      "\n",
      "\n",
      "13 和 17的位与：\n",
      "1\n"
     ]
    }
   ],
   "source": [
    "import numpy as np\n",
    "\n",
    "print(\"13 和 17 的二进制形式：\")\n",
    "a,b = 13,17\n",
    "print(bin(a),bin(b))\n",
    "print(\"\\n\")\n",
    "\n",
    "print(\"13 和 17的位与：\")\n",
    "print(np.bitwise_and(13,17))"
   ]
  },
  {
   "cell_type": "markdown",
   "metadata": {},
   "source": [
    "bitwise_or\n",
    "bitwise_or()函数对数组中整数的二进制形式执行位或运算。"
   ]
  },
  {
   "cell_type": "code",
   "execution_count": 2,
   "metadata": {},
   "outputs": [
    {
     "name": "stdout",
     "output_type": "stream",
     "text": [
      "13 和 17 的位或：\n",
      "29\n"
     ]
    }
   ],
   "source": [
    "print(\"13 和 17 的位或：\")\n",
    "print(np.bitwise_or(13,17))"
   ]
  },
  {
   "cell_type": "markdown",
   "metadata": {},
   "source": [
    "invert\n",
    "invert() 函数对数组中整数进行位取反运算，即 0 变成 1，1 变成 0。 "
   ]
  },
  {
   "cell_type": "code",
   "execution_count": 3,
   "metadata": {},
   "outputs": [
    {
     "name": "stdout",
     "output_type": "stream",
     "text": [
      "13 的位反转，其中 ndarray 的 dtype 是 uint8：\n",
      "[242]\n",
      "\n",
      "\n",
      "13的二进制表示：\n",
      "00001101\n",
      "\n",
      "\n",
      "242的二进制表示：\n",
      "11110010\n"
     ]
    }
   ],
   "source": [
    "print(\"13 的位反转，其中 ndarray 的 dtype 是 uint8：\")\n",
    "print(np.invert(np.array([13],dtype = np.uint8)))\n",
    "print(\"\\n\")\n",
    "\n",
    "#比较13和242的二进制表示，我们发现了位的反转\n",
    "print(\"13的二进制表示：\")\n",
    "print(np.binary_repr(13,width = 8))\n",
    "print(\"\\n\")\n",
    "\n",
    "print(\"242的二进制表示：\")\n",
    "print(np.binary_repr(242,width = 8))"
   ]
  },
  {
   "cell_type": "markdown",
   "metadata": {},
   "source": [
    "left_shift\n",
    "left_shift() 函数将数组元素的二进制形式向左移动到指定位置，右侧附加相等数量的 0。"
   ]
  },
  {
   "cell_type": "code",
   "execution_count": 5,
   "metadata": {},
   "outputs": [
    {
     "name": "stdout",
     "output_type": "stream",
     "text": [
      "将10左移两位：\n",
      "40\n",
      "\n",
      "\n",
      "10的二进制表示：\n",
      "00001010\n",
      "\n",
      "\n",
      "40的二进制表示：\n",
      "00101000\n"
     ]
    }
   ],
   "source": [
    "print(\"将10左移两位：\")\n",
    "print(np.left_shift(10,2))\n",
    "print(\"\\n\")\n",
    "\n",
    "print(\"10的二进制表示：\")\n",
    "print(np.binary_repr(10,width = 8))\n",
    "print(\"\\n\")\n",
    "\n",
    "print(\"40的二进制表示：\")\n",
    "print(np.binary_repr(40,width = 8))"
   ]
  },
  {
   "cell_type": "markdown",
   "metadata": {},
   "source": [
    "right_shift\n",
    "right_shift() 函数将数组元素的二进制形式向右移动到指定位置，左侧附加相等数量的 0"
   ]
  },
  {
   "cell_type": "code",
   "execution_count": 6,
   "metadata": {},
   "outputs": [
    {
     "name": "stdout",
     "output_type": "stream",
     "text": [
      "将40右移两位：\n",
      "10\n",
      "\n",
      "\n",
      "40的二进制表示：\n",
      "00101000\n",
      "\n",
      "\n",
      "10的二进制表示：\n",
      "00001010\n"
     ]
    }
   ],
   "source": [
    "print(\"将40右移两位：\")\n",
    "print(np.right_shift(40,2))\n",
    "print(\"\\n\")\n",
    "\n",
    "print(\"40的二进制表示：\")\n",
    "print(np.binary_repr(40,width = 8))\n",
    "print(\"\\n\")\n",
    "\n",
    "print(\"10的二进制表示：\")\n",
    "print(np.binary_repr(10,width = 8))\n"
   ]
  },
  {
   "cell_type": "code",
   "execution_count": null,
   "metadata": {},
   "outputs": [],
   "source": []
  }
 ],
 "metadata": {
  "kernelspec": {
   "display_name": "Python 3",
   "language": "python",
   "name": "python3"
  },
  "language_info": {
   "codemirror_mode": {
    "name": "ipython",
    "version": 3
   },
   "file_extension": ".py",
   "mimetype": "text/x-python",
   "name": "python",
   "nbconvert_exporter": "python",
   "pygments_lexer": "ipython3",
   "version": "3.7.3"
  }
 },
 "nbformat": 4,
 "nbformat_minor": 2
}
