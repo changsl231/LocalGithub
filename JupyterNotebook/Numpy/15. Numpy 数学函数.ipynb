{
 "cells": [
  {
   "cell_type": "markdown",
   "metadata": {},
   "source": [
    "# 15. Numpy 数学函数"
   ]
  },
  {
   "cell_type": "markdown",
   "metadata": {},
   "source": [
    "三角函数\n",
    "NumPy 提供了标准的三角函数：sin()、cos()、tan()。"
   ]
  },
  {
   "cell_type": "code",
   "execution_count": 1,
   "metadata": {},
   "outputs": [
    {
     "name": "stdout",
     "output_type": "stream",
     "text": [
      "不同角度的正弦值：\n",
      "[0.         0.5        0.70710678 0.8660254  1.        ]\n",
      "\n",
      "\n",
      "数组中的余弦值：\n",
      "[1.00000000e+00 8.66025404e-01 7.07106781e-01 5.00000000e-01\n",
      " 6.12323400e-17]\n",
      "\n",
      "\n",
      "数组中角度的正切值：\n",
      "[0.00000000e+00 5.77350269e-01 1.00000000e+00 1.73205081e+00\n",
      " 1.63312394e+16]\n"
     ]
    }
   ],
   "source": [
    "import numpy as np\n",
    "\n",
    "a = np.array([0,30,45,60,90])\n",
    "print(\"不同角度的正弦值：\")\n",
    "#通过乘 pi/180 转化为弧度\n",
    "print(np.sin(a*np.pi/180))\n",
    "print(\"\\n\")\n",
    "print(\"数组中的余弦值：\")\n",
    "print(np.cos(a*np.pi/180))\n",
    "print(\"\\n\")\n",
    "print(\"数组中角度的正切值：\")\n",
    "print(np.tan(a*np.pi/180))"
   ]
  },
  {
   "cell_type": "markdown",
   "metadata": {},
   "source": [
    "arcsin，arccos，和 arctan 函数返回给定角度的 sin，cos 和 tan 的反三角函数。\n",
    "这些函数的结果可以通过 numpy.degrees() 函数将弧度转换为角度。"
   ]
  },
  {
   "cell_type": "code",
   "execution_count": 3,
   "metadata": {},
   "outputs": [
    {
     "name": "stdout",
     "output_type": "stream",
     "text": [
      "含有正弦值的数组：\n",
      "[0.         0.5        0.70710678 0.8660254  1.        ]\n",
      "\n",
      "\n",
      "计算角度的反正弦，返回值以弧度为单位：\n",
      "[0.         0.52359878 0.78539816 1.04719755 1.57079633]\n",
      "\n",
      "\n",
      "通过转化角度制来检查结果：\n",
      "[ 0. 30. 45. 60. 90.]\n",
      "\n",
      "\n",
      "arccos和arctan函数行为类似：\n",
      "[1.00000000e+00 8.66025404e-01 7.07106781e-01 5.00000000e-01\n",
      " 6.12323400e-17]\n",
      "\n",
      "\n",
      "反余弦：\n",
      "[0.         0.52359878 0.78539816 1.04719755 1.57079633]\n",
      "\n",
      "\n",
      "角度制单位：\n",
      "[ 0. 30. 45. 60. 90.]\n",
      "\n",
      "\n",
      "tan函数：\n",
      "[0.00000000e+00 5.77350269e-01 1.00000000e+00 1.73205081e+00\n",
      " 1.63312394e+16]\n",
      "\n",
      "\n",
      "反正切：\n",
      "[0.         0.52359878 0.78539816 1.04719755 1.57079633]\n",
      "\n",
      "\n",
      "角度制单位：\n",
      "[ 0. 30. 45. 60. 90.]\n"
     ]
    }
   ],
   "source": [
    "a = np.array([0,30,45,60,90])\n",
    "print(\"含有正弦值的数组：\")\n",
    "sin = np.sin(a*np.pi/180)\n",
    "print(sin)\n",
    "print(\"\\n\")\n",
    "print(\"计算角度的反正弦，返回值以弧度为单位：\")\n",
    "inv = np.arcsin(sin)\n",
    "print(inv)\n",
    "print(\"\\n\")\n",
    "print(\"通过转化角度制来检查结果：\")\n",
    "print(np.degrees(inv))\n",
    "print(\"\\n\")\n",
    "print(\"arccos和arctan函数行为类似：\")\n",
    "cos = np.cos(a*np.pi/180)\n",
    "print(cos)\n",
    "print(\"\\n\")\n",
    "print(\"反余弦：\")\n",
    "inv = np.arccos(cos)\n",
    "print(inv)\n",
    "print(\"\\n\")\n",
    "print(\"角度制单位：\")\n",
    "print(np.degrees(inv))\n",
    "print(\"\\n\")\n",
    "print(\"tan函数：\")\n",
    "tan = np.tan(a*np.pi/180)\n",
    "print(tan)\n",
    "print(\"\\n\")\n",
    "print(\"反正切：\")\n",
    "inv = np.arctan(tan)\n",
    "print(inv)\n",
    "print(\"\\n\")\n",
    "print(\"角度制单位：\")\n",
    "print(np.degrees(inv))"
   ]
  },
  {
   "cell_type": "markdown",
   "metadata": {},
   "source": [
    "舍入函数\n",
    "numpy.around() 函数返回指定数字的四舍五入值。\n",
    "numpy.around(a,decimals)"
   ]
  },
  {
   "cell_type": "code",
   "execution_count": 6,
   "metadata": {},
   "outputs": [
    {
     "name": "stdout",
     "output_type": "stream",
     "text": [
      "原数组：\n",
      "[  1.      5.55  123.      0.567  25.532]\n",
      "\n",
      "\n",
      "舍入后：\n",
      "[  1.   6. 123.   1.  26.]\n",
      "[  1.    5.6 123.    0.6  25.5]\n",
      "[  0.  10. 120.   0.  30.]\n"
     ]
    }
   ],
   "source": [
    "a = np.array([1.0,5.55,123,0.567,25.532])\n",
    "print(\"原数组：\")\n",
    "print(a)\n",
    "print(\"\\n\")\n",
    "print(\"舍入后：\")\n",
    "print(np.around(a))\n",
    "print(np.around(a,decimals = 1))\n",
    "print(np.around(a,decimals = -1))"
   ]
  },
  {
   "cell_type": "markdown",
   "metadata": {},
   "source": [
    "numpy.floor()\n",
    "numpy.floor() 返回小于或者等于指定表达式的最大整数，即向下取整"
   ]
  },
  {
   "cell_type": "code",
   "execution_count": 7,
   "metadata": {},
   "outputs": [
    {
     "name": "stdout",
     "output_type": "stream",
     "text": [
      "提供的数组：\n",
      "[-1.7  1.5 -0.2  0.6 10. ]\n",
      "\n",
      "\n",
      "修改后的数组：\n",
      "[-2.  1. -1.  0. 10.]\n"
     ]
    }
   ],
   "source": [
    "a = np.array([-1.7,1.5,-0.2,0.6,10])\n",
    "print(\"提供的数组：\")\n",
    "print(a)\n",
    "print(\"\\n\")\n",
    "print(\"修改后的数组：\")\n",
    "print(np.floor(a))"
   ]
  },
  {
   "cell_type": "markdown",
   "metadata": {},
   "source": [
    "numpy.ceil()\n",
    "numpy.ceil() 返回大于或者等于指定表达式的最小整数，即向上取整。 "
   ]
  },
  {
   "cell_type": "code",
   "execution_count": 8,
   "metadata": {},
   "outputs": [
    {
     "name": "stdout",
     "output_type": "stream",
     "text": [
      "修改后的数组：\n",
      "[-1.  2. -0.  1. 10.]\n"
     ]
    }
   ],
   "source": [
    "print(\"修改后的数组：\")\n",
    "print(np.ceil(a))"
   ]
  }
 ],
 "metadata": {
  "kernelspec": {
   "display_name": "Python 3",
   "language": "python",
   "name": "python3"
  },
  "language_info": {
   "codemirror_mode": {
    "name": "ipython",
    "version": 3
   },
   "file_extension": ".py",
   "mimetype": "text/x-python",
   "name": "python",
   "nbconvert_exporter": "python",
   "pygments_lexer": "ipython3",
   "version": "3.7.3"
  }
 },
 "nbformat": 4,
 "nbformat_minor": 2
}
