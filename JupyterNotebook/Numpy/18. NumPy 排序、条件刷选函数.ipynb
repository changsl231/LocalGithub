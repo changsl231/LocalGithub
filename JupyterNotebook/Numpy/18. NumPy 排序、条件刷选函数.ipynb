{
 "cells": [
  {
   "cell_type": "markdown",
   "metadata": {},
   "source": [
    "# NumPy 排序、条件刷选函数"
   ]
  },
  {
   "cell_type": "markdown",
   "metadata": {},
   "source": [
    "NumPy 提供了多种排序的方法。 这些排序函数实现不同的排序算法，每个排序算法的特征在于执行速度，最坏情况性能，所需的工作空间和算法的稳定性。 下表显示了三种排序算法的比较。\n",
    "\n",
    "种类 \t             速度 \t最坏情况 \t工作空间 \t稳定性\n",
    "'quicksort'（快速排序） \t1 \t    O(n^2)     \t0 \t     否\n",
    "'mergesort'（归并排序） \t2 \t   O(n*log(n)) \t ~n/2 \t    是\n",
    "'heapsort' （堆排序） \t 3 \t    O(n*log(n)) \t0 \t     否"
   ]
  },
  {
   "cell_type": "markdown",
   "metadata": {},
   "source": [
    "numpy.sort()\n",
    "numpy.sort() 函数返回输入数组的排序副本。函数格式如下：\n",
    "numpy.sort(a, axis, kind, order)\n",
    "a: 要排序的数组\n",
    "axis: 沿着它排序数组的轴，如果没有数组会被展开，沿着最后的轴排序， axis=0 按列排序，axis=1 按行排序\n",
    "kind: 默认为'quicksort'（快速排序）\n",
    "order: 如果数组包含字段，则是要排序的字段"
   ]
  },
  {
   "cell_type": "code",
   "execution_count": 4,
   "metadata": {},
   "outputs": [
    {
     "name": "stdout",
     "output_type": "stream",
     "text": [
      "我们的数组是：\n",
      "[[3 7]\n",
      " [9 1]]\n",
      "\n",
      "\n",
      "调用sort()函数：\n",
      "[[3 7]\n",
      " [1 9]]\n",
      "\n",
      "\n",
      "按列排序：\n",
      "[[3 1]\n",
      " [9 7]]\n",
      "\n",
      "\n",
      "我们的数组是：\n",
      "[(b'raju', 21) (b'anil', 25) (b'ravi', 17) (b'amar', 27)]\n",
      "\n",
      "\n",
      "按name排序：\n",
      "[(b'amar', 27) (b'anil', 25) (b'raju', 21) (b'ravi', 17)]\n",
      "\n",
      "\n",
      "按age排序：\n",
      "[(b'ravi', 17) (b'raju', 21) (b'anil', 25) (b'amar', 27)]\n"
     ]
    }
   ],
   "source": [
    "import numpy as np\n",
    "\n",
    "a = np.array([[3,7],[9,1]])\n",
    "print(\"我们的数组是：\")\n",
    "print(a)\n",
    "print(\"\\n\")\n",
    "print(\"调用sort()函数：\")\n",
    "print(np.sort(a))\n",
    "print(\"\\n\")\n",
    "print(\"按列排序：\")\n",
    "print(np.sort(a,axis=0))\n",
    "print(\"\\n\")\n",
    "#在sort函数中排序字段\n",
    "dt = np.dtype([(\"name\",\"S10\"),(\"age\",int)])\n",
    "a = np.array([(\"raju\",21),(\"anil\",25),(\"ravi\",17),(\"amar\",27)],dtype=dt)\n",
    "print(\"我们的数组是：\")\n",
    "print(a)\n",
    "print(\"\\n\")\n",
    "print(\"按name排序：\")\n",
    "print(np.sort(a,order='name'))\n",
    "print(\"\\n\")\n",
    "print(\"按age排序：\")\n",
    "print(np.sort(a,order='age'))"
   ]
  },
  {
   "cell_type": "markdown",
   "metadata": {},
   "source": [
    "numpy.argsort()\n",
    "numpy.argsort() 函数返回的是数组值从小到大的索引值。"
   ]
  },
  {
   "cell_type": "code",
   "execution_count": 5,
   "metadata": {},
   "outputs": [
    {
     "name": "stdout",
     "output_type": "stream",
     "text": [
      "我们的数组是：\n",
      "[3 1 2]\n",
      "\n",
      "\n",
      "对x调用argsort()函数：\n",
      "[1 2 0]\n",
      "\n",
      "\n",
      "以排序后的顺序重构原数组：\n",
      "[1 2 3]\n",
      "\n",
      "\n",
      "使用循环重构原数组：\n",
      "123"
     ]
    }
   ],
   "source": [
    "x = np.array([3,1,2])\n",
    "print(\"我们的数组是：\")\n",
    "print(x)\n",
    "print(\"\\n\")\n",
    "print(\"对x调用argsort()函数：\")\n",
    "y = np.argsort(x)\n",
    "print(y)\n",
    "print(\"\\n\")\n",
    "print(\"以排序后的顺序重构原数组：\")\n",
    "print(x[y])\n",
    "print(\"\\n\")\n",
    "print(\"使用循环重构原数组：\")\n",
    "for i in y:\n",
    "    print(x[i],end='')"
   ]
  },
  {
   "cell_type": "markdown",
   "metadata": {},
   "source": [
    "numpy.lexsort()\n",
    "numpy.lexsort() 用于对多个序列进行排序。把它想象成对电子表格进行排序，每一列代表一个序列，排序时优先照顾靠后的列。"
   ]
  },
  {
   "cell_type": "code",
   "execution_count": 6,
   "metadata": {},
   "outputs": [
    {
     "name": "stdout",
     "output_type": "stream",
     "text": [
      "调用lexsort()函数：\n",
      "[3 1 0 2]\n",
      "\n",
      "\n",
      "使用这个索引来获取排序后的数据：\n",
      "['amar,f.y', 'anil,s,y', 'raju,f.y', 'ravi,s.y']\n"
     ]
    }
   ],
   "source": [
    "nm = (\"raju\",\"anil\",\"ravi\",\"amar\")\n",
    "dv = (\"f.y\",\"s.y\",\"s.y\",\"f.y\")\n",
    "ind = np.lexsort((dv,nm))\n",
    "print(\"调用lexsort()函数：\")\n",
    "print(ind)\n",
    "print(\"\\n\")\n",
    "print(\"使用这个索引来获取排序后的数据：\")\n",
    "print([nm[i]+\",\"+dv[i] for i in ind])"
   ]
  },
  {
   "cell_type": "raw",
   "metadata": {},
   "source": [
    "msort、sort_complex、partition、argpartition\n",
    "函数\t                          描述\n",
    "msort(a)\t                      数组按第一个轴排序，返回排序后的数组副本。np.msort(a) 相等于 np.sort(a, axis=0)。\n",
    "sort_complex(a) \t                 对复数按照先实部后虚部的顺序进行排序。\n",
    "partition(a, kth[, axis, kind, order]) \t   指定一个数，对数组进行分区\n",
    "argpartition(a, kth[, axis, kind, order]) \t可以通过关键字 kind 指定算法沿着指定轴对数组进行分区"
   ]
  },
  {
   "cell_type": "code",
   "execution_count": 9,
   "metadata": {},
   "outputs": [
    {
     "name": "stdout",
     "output_type": "stream",
     "text": [
      "[1.+0.j 2.+0.j 3.+0.j 5.+0.j 6.+0.j]\n",
      "\n",
      "\n",
      "[1.+2.j 2.-1.j 3.-3.j 3.-2.j 3.+5.j]\n"
     ]
    }
   ],
   "source": [
    "#复数排序\n",
    "a = np.sort_complex([5,3,6,2,1])\n",
    "print(a)\n",
    "print(\"\\n\")\n",
    "print(np.sort_complex([1+2j,2-1j,3-2j,3-3j,3+5j]))"
   ]
  },
  {
   "cell_type": "code",
   "execution_count": 11,
   "metadata": {},
   "outputs": [
    {
     "name": "stdout",
     "output_type": "stream",
     "text": [
      "[2 1 3 4]\n",
      "[1 2 3 4]\n"
     ]
    }
   ],
   "source": [
    "#partition()分区排序：\n",
    "a = np.array([3,4,2,1])\n",
    "print(np.partition(a,3))\n",
    "#将数组a中所有的元素（包括重复数组）从小到大排列，3表示的是排序数组索引为3的数字\n",
    "#，比该数字小的排在该数字前面，比这数字大的排在该数字后面\n",
    "print(np.partition(a,(1,3)))#小于1的在前面，大于3的在后面，1和3的在中间"
   ]
  },
  {
   "cell_type": "code",
   "execution_count": 12,
   "metadata": {},
   "outputs": [
    {
     "name": "stdout",
     "output_type": "stream",
     "text": [
      "10\n",
      "57\n"
     ]
    }
   ],
   "source": [
    "#找到数组的第3小（index=2）的值和第二大（index=-2)的值\n",
    "arr = np.array([46,57,23,39,1,10,0,120])\n",
    "print(arr[np.argpartition(arr,2)[2]])\n",
    "print(arr[np.argpartition(arr,-2)[-2]])"
   ]
  },
  {
   "cell_type": "code",
   "execution_count": 14,
   "metadata": {},
   "outputs": [
    {
     "name": "stdout",
     "output_type": "stream",
     "text": [
      "10\n",
      "23\n"
     ]
    }
   ],
   "source": [
    "#同时找到第3和第4小的值。\n",
    "print(arr[np.argpartition(arr,[2,3])[2]])\n",
    "print(arr[np.argpartition(arr,[2,3])[3]])"
   ]
  },
  {
   "cell_type": "markdown",
   "metadata": {},
   "source": [
    "numpy.argmax() 和 numpy.argmin()\n",
    "numpy.argmax() 和 numpy.argmin()函数分别沿给定轴返回最大和最小元素的索引。 "
   ]
  },
  {
   "cell_type": "code",
   "execution_count": 17,
   "metadata": {},
   "outputs": [
    {
     "name": "stdout",
     "output_type": "stream",
     "text": [
      "我们的数组是：\n",
      "[[30 40 70]\n",
      " [80 20 10]\n",
      " [50 90 60]]\n",
      "\n",
      "\n",
      "调用argmax()函数：\n",
      "7\n",
      "\n",
      "\n",
      "展开数组：\n",
      "[30 40 70 80 20 10 50 90 60]\n",
      "\n",
      "\n",
      "沿轴0的最大索引：\n",
      "[1 2 0]\n",
      "\n",
      "\n",
      "沿轴1的最大索引：\n",
      "[2 0 1]\n",
      "\n",
      "\n",
      "调用argmin()函数：\n",
      "5\n",
      "\n",
      "\n",
      "展开数组中的最小值：\n",
      "10\n",
      "\n",
      "\n",
      "沿轴0的最小索引值：\n",
      "[0 1 1]\n",
      "\n",
      "\n",
      "沿轴1的最小值索引：\n",
      "[0 2 0]\n"
     ]
    }
   ],
   "source": [
    "a = np.array([[30,40,70],[80,20,10],[50,90,60]])\n",
    "print(\"我们的数组是：\")\n",
    "print(a)\n",
    "print(\"\\n\")\n",
    "print(\"调用argmax()函数：\")\n",
    "print(np.argmax(a))\n",
    "print(\"\\n\")\n",
    "print(\"展开数组：\")\n",
    "print(a.flatten())\n",
    "print(\"\\n\")\n",
    "print(\"沿轴0的最大索引：\")\n",
    "maxindex = np.argmax(a,axis=0)\n",
    "print(maxindex)\n",
    "print(\"\\n\")\n",
    "print(\"沿轴1的最大索引：\")\n",
    "maxindex = np.argmax(a,axis=1)\n",
    "print(maxindex)\n",
    "print(\"\\n\")\n",
    "print(\"调用argmin()函数：\")\n",
    "minindex = np.argmin(a)\n",
    "print(minindex)\n",
    "print(\"\\n\")\n",
    "print(\"展开数组中的最小值：\")\n",
    "print(a.flatten()[minindex])\n",
    "print(\"\\n\")\n",
    "print(\"沿轴0的最小索引值：\")\n",
    "minindex = np.argmin(a,axis = 0)\n",
    "print(minindex)\n",
    "print(\"\\n\")\n",
    "print(\"沿轴1的最小值索引：\")\n",
    "minindex = np.argmin(a,axis=1)\n",
    "print(minindex)"
   ]
  },
  {
   "cell_type": "markdown",
   "metadata": {},
   "source": [
    "numpy.nonzero()\n",
    "numpy.nonzero() 函数返回输入数组中非零元素的索引"
   ]
  },
  {
   "cell_type": "code",
   "execution_count": 18,
   "metadata": {},
   "outputs": [
    {
     "name": "stdout",
     "output_type": "stream",
     "text": [
      "我们的数组是：\n",
      "[[30 40  0]\n",
      " [ 0 20 10]\n",
      " [50  0 60]]\n",
      "\n",
      "\n",
      "调用nonzero()函数：\n",
      "(array([0, 0, 1, 1, 2, 2], dtype=int64), array([0, 1, 1, 2, 0, 2], dtype=int64))\n"
     ]
    }
   ],
   "source": [
    "a = np.array([[30,40,0],[0,20,10],[50,0,60]])\n",
    "print(\"我们的数组是：\")\n",
    "print(a)\n",
    "print('\\n')\n",
    "print(\"调用nonzero()函数：\")\n",
    "print(np.nonzero(a))"
   ]
  },
  {
   "cell_type": "markdown",
   "metadata": {},
   "source": [
    "numpy.where()\n",
    "numpy.where() 函数返回输入数组中满足给定条件的元素的索引。"
   ]
  },
  {
   "cell_type": "code",
   "execution_count": 19,
   "metadata": {},
   "outputs": [
    {
     "name": "stdout",
     "output_type": "stream",
     "text": [
      "我们的数组是：\n",
      "[[0. 1. 2.]\n",
      " [3. 4. 5.]\n",
      " [6. 7. 8.]]\n",
      "大于3的元素索引：\n",
      "(array([1, 1, 2, 2, 2], dtype=int64), array([1, 2, 0, 1, 2], dtype=int64))\n",
      "使用这些索引来获取满足条件的元素：\n",
      "[4. 5. 6. 7. 8.]\n"
     ]
    }
   ],
   "source": [
    "x = np.arange(9.).reshape(3,3)\n",
    "print(\"我们的数组是：\")\n",
    "print(x)\n",
    "print(\"大于3的元素索引：\")\n",
    "y = np.where(x>3)\n",
    "print(y)\n",
    "print(\"使用这些索引来获取满足条件的元素：\")\n",
    "print(x[y])"
   ]
  },
  {
   "cell_type": "markdown",
   "metadata": {},
   "source": [
    "numpy.extract()\n",
    "numpy.extract() 函数根据某个条件从数组中抽取元素，返回满条件的元素。"
   ]
  },
  {
   "cell_type": "code",
   "execution_count": 21,
   "metadata": {},
   "outputs": [
    {
     "name": "stdout",
     "output_type": "stream",
     "text": [
      "我们的数组是：\n",
      "[[0. 1. 2.]\n",
      " [3. 4. 5.]\n",
      " [6. 7. 8.]]\n",
      "按元素的条件值：\n",
      "[[ True False  True]\n",
      " [False  True False]\n",
      " [ True False  True]]\n",
      "使用条件提取元素：\n",
      "[0. 2. 4. 6. 8.]\n"
     ]
    }
   ],
   "source": [
    "x = np.arange(9.).reshape(3,3)\n",
    "print(\"我们的数组是：\")\n",
    "print(x)\n",
    "#定义条件，选择偶数元素\n",
    "condition = np.mod(x,2) == 0\n",
    "print(\"按元素的条件值：\")\n",
    "print(condition)\n",
    "print(\"使用条件提取元素：\")\n",
    "print(np.extract(condition,x))"
   ]
  }
 ],
 "metadata": {
  "kernelspec": {
   "display_name": "Python 3",
   "language": "python",
   "name": "python3"
  },
  "language_info": {
   "codemirror_mode": {
    "name": "ipython",
    "version": 3
   },
   "file_extension": ".py",
   "mimetype": "text/x-python",
   "name": "python",
   "nbconvert_exporter": "python",
   "pygments_lexer": "ipython3",
   "version": "3.7.3"
  }
 },
 "nbformat": 4,
 "nbformat_minor": 2
}
