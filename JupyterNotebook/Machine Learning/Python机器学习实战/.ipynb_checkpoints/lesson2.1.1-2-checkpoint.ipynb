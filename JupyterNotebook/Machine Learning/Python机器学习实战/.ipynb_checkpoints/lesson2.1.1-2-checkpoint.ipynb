{
 "cells": [
  {
   "cell_type": "markdown",
   "metadata": {},
   "source": [
    "# 《Python 机器学习及实践》"
   ]
  },
  {
   "cell_type": "markdown",
   "metadata": {},
   "source": [
    "# #代码17：手写体数据读取代码样例"
   ]
  },
  {
   "cell_type": "code",
   "execution_count": 2,
   "metadata": {},
   "outputs": [
    {
     "data": {
      "text/plain": [
       "(1797, 64)"
      ]
     },
     "execution_count": 2,
     "metadata": {},
     "output_type": "execute_result"
    }
   ],
   "source": [
    "#从sklearn.datasets里导入手写体数字加载器\n",
    "from sklearn.datasets import load_digits\n",
    "#从通过数据加载器获得手写体数字的数码图像数据并储存在digits变量中\n",
    "digits = load_digits()\n",
    "#检视数据规模和特征维度\n",
    "digits.data.shape"
   ]
  },
  {
   "cell_type": "code",
   "execution_count": 5,
   "metadata": {},
   "outputs": [],
   "source": [
    "#从sklearn.model_selection 中导入 train_test_split用于数据分割\n",
    "from sklearn.model_selection import train_test_split\n",
    "#随机选取75%的数据作为训练样本；其余25%的数据作为测试样本\n",
    "X_train,X_test,y_train,y_test = train_test_split(digits.data,digits.target,\n",
    "                                test_size=0.25,random_state = 33)"
   ]
  },
  {
   "cell_type": "code",
   "execution_count": 6,
   "metadata": {},
   "outputs": [
    {
     "data": {
      "text/plain": [
       "(1347,)"
      ]
     },
     "execution_count": 6,
     "metadata": {},
     "output_type": "execute_result"
    }
   ],
   "source": [
    "#分别检视训练与测试数据规模\n",
    "y_train.shape"
   ]
  },
  {
   "cell_type": "code",
   "execution_count": 7,
   "metadata": {},
   "outputs": [
    {
     "data": {
      "text/plain": [
       "(450,)"
      ]
     },
     "execution_count": 7,
     "metadata": {},
     "output_type": "execute_result"
    }
   ],
   "source": [
    "y_test.shape"
   ]
  },
  {
   "cell_type": "markdown",
   "metadata": {},
   "source": [
    "# 代码19：使用支持向量机（分类）对手写数字图像进行识别"
   ]
  },
  {
   "cell_type": "code",
   "execution_count": 8,
   "metadata": {},
   "outputs": [],
   "source": [
    "#从sklearn.preproocessing里导入数据标准化模块\n",
    "from sklearn.preprocessing import StandardScaler\n",
    "#从sklearn.svm里导入基于线性假设的支持向量机分类器LinearSVC\n",
    "from sklearn.svm import LinearSVC"
   ]
  },
  {
   "cell_type": "code",
   "execution_count": 12,
   "metadata": {},
   "outputs": [],
   "source": [
    "#从仍然需要对训练和测试的特征数据进行标准化\n",
    "ss=StandardScaler()\n",
    "X_train = ss.fit_transform(X_train)\n",
    "X_test = ss.transform(X_test)"
   ]
  },
  {
   "cell_type": "code",
   "execution_count": 14,
   "metadata": {},
   "outputs": [],
   "source": [
    "#初始化线性假设的支持向量机分类器LinearSVC\n",
    "lsvc = LinearSVC(max_iter=10000)\n",
    "#进行模型训练\n",
    "lsvc.fit(X_train,y_train)\n",
    "#利用训练好的模型对测试样本的数字类别进行预测，预测结果储存在变量y_predict中\n",
    "y_predict = lsvc.predict(X_test)"
   ]
  },
  {
   "cell_type": "raw",
   "metadata": {},
   "source": [
    "# lsvc = LinearSVC(max_iter=10000)\n",
    "原先示例没有输入最大迭代次数参数max_iter=10000，程序会报错"
   ]
  },
  {
   "cell_type": "markdown",
   "metadata": {},
   "source": [
    "## 代码20 支持向量机（分类）模型对手写体数码图像识别能力的评估"
   ]
  }
 ],
 "metadata": {
  "kernelspec": {
   "display_name": "Python 3",
   "language": "python",
   "name": "python3"
  },
  "language_info": {
   "codemirror_mode": {
    "name": "ipython",
    "version": 3
   },
   "file_extension": ".py",
   "mimetype": "text/x-python",
   "name": "python",
   "nbconvert_exporter": "python",
   "pygments_lexer": "ipython3",
   "version": "3.7.3"
  }
 },
 "nbformat": 4,
 "nbformat_minor": 2
}
