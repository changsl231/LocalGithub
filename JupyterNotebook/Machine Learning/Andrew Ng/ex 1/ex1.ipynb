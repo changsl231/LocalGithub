{
 "cells": [
  {
   "cell_type": "markdown",
   "metadata": {},
   "source": [
    "# 吴恩达机器学习课后习题"
   ]
  },
  {
   "cell_type": "markdown",
   "metadata": {},
   "source": [
    "# #ex1 实现单变量线性回归，多变量线性回归"
   ]
  },
  {
   "cell_type": "markdown",
   "metadata": {},
   "source": [
    "## 1.  Linear regression with one variable 单变量线性回归"
   ]
  },
  {
   "cell_type": "code",
   "execution_count": 1,
   "metadata": {},
   "outputs": [],
   "source": [
    "import numpy as np #导入numpy库并另名为np，用于矩阵运算\n",
    "import pandas as pd #导入pandas库并另名为pd，用于高效数据分析\n",
    "import matplotlib.pyplot as plt #导入matplotlib库并另名为plt，用于产品级2D图形绘制\n",
    "\n",
    "data = pd.read_csv('ex1data1.txt',header = None, names=['Population', 'Profit'])#读取数据并赋予列名\n",
    "#type(data)查看数据类型"
   ]
  },
  {
   "cell_type": "code",
   "execution_count": 2,
   "metadata": {
    "scrolled": true
   },
   "outputs": [
    {
     "data": {
      "text/html": [
       "<div>\n",
       "<style scoped>\n",
       "    .dataframe tbody tr th:only-of-type {\n",
       "        vertical-align: middle;\n",
       "    }\n",
       "\n",
       "    .dataframe tbody tr th {\n",
       "        vertical-align: top;\n",
       "    }\n",
       "\n",
       "    .dataframe thead th {\n",
       "        text-align: right;\n",
       "    }\n",
       "</style>\n",
       "<table border=\"1\" class=\"dataframe\">\n",
       "  <thead>\n",
       "    <tr style=\"text-align: right;\">\n",
       "      <th></th>\n",
       "      <th>Population</th>\n",
       "      <th>Profit</th>\n",
       "    </tr>\n",
       "  </thead>\n",
       "  <tbody>\n",
       "    <tr>\n",
       "      <th>0</th>\n",
       "      <td>6.1101</td>\n",
       "      <td>17.5920</td>\n",
       "    </tr>\n",
       "    <tr>\n",
       "      <th>1</th>\n",
       "      <td>5.5277</td>\n",
       "      <td>9.1302</td>\n",
       "    </tr>\n",
       "    <tr>\n",
       "      <th>2</th>\n",
       "      <td>8.5186</td>\n",
       "      <td>13.6620</td>\n",
       "    </tr>\n",
       "    <tr>\n",
       "      <th>3</th>\n",
       "      <td>7.0032</td>\n",
       "      <td>11.8540</td>\n",
       "    </tr>\n",
       "    <tr>\n",
       "      <th>4</th>\n",
       "      <td>5.8598</td>\n",
       "      <td>6.8233</td>\n",
       "    </tr>\n",
       "  </tbody>\n",
       "</table>\n",
       "</div>"
      ],
      "text/plain": [
       "   Population   Profit\n",
       "0      6.1101  17.5920\n",
       "1      5.5277   9.1302\n",
       "2      8.5186  13.6620\n",
       "3      7.0032  11.8540\n",
       "4      5.8598   6.8233"
      ]
     },
     "execution_count": 2,
     "metadata": {},
     "output_type": "execute_result"
    }
   ],
   "source": [
    "data.head()#看前五行#"
   ]
  },
  {
   "cell_type": "code",
   "execution_count": 3,
   "metadata": {
    "scrolled": true
   },
   "outputs": [
    {
     "name": "stdout",
     "output_type": "stream",
     "text": [
      "<class 'pandas.core.frame.DataFrame'>\n",
      "RangeIndex: 97 entries, 0 to 96\n",
      "Data columns (total 2 columns):\n",
      "Population    97 non-null float64\n",
      "Profit        97 non-null float64\n",
      "dtypes: float64(2)\n",
      "memory usage: 1.6 KB\n"
     ]
    }
   ],
   "source": [
    "data.info()#查看数据的信息"
   ]
  },
  {
   "cell_type": "code",
   "execution_count": 4,
   "metadata": {},
   "outputs": [
    {
     "data": {
      "text/plain": [
       "(97, 2)"
      ]
     },
     "execution_count": 4,
     "metadata": {},
     "output_type": "execute_result"
    }
   ],
   "source": [
    "data.shape#查看数据的大小"
   ]
  },
  {
   "cell_type": "code",
   "execution_count": 5,
   "metadata": {},
   "outputs": [
    {
     "data": {
      "image/png": "[encoded data removed]",
      "text/plain": [
       "<Figure size 576x432 with 1 Axes>"
      ]
     },
     "metadata": {
      "needs_background": "light"
     },
     "output_type": "display_data"
    }
   ],
   "source": [
    "#画散点图\n",
    "data.plot(kind='scatter',x='Population',y='Profit',figsize=(8,6))\n",
    "plt.show()"
   ]
  },
  {
   "cell_type": "code",
   "execution_count": 6,
   "metadata": {},
   "outputs": [],
   "source": [
    "#定义代价函数\n",
    "def computeCost(X,y,theta):\n",
    "    inner = np.power(((X * theta.T)-y),2)\n",
    "    return np.sum(inner)/(2*X.shape[0])"
   ]
  },
  {
   "cell_type": "code",
   "execution_count": 7,
   "metadata": {},
   "outputs": [
    {
     "data": {
      "text/html": [
       "<div>\n",
       "<style scoped>\n",
       "    .dataframe tbody tr th:only-of-type {\n",
       "        vertical-align: middle;\n",
       "    }\n",
       "\n",
       "    .dataframe tbody tr th {\n",
       "        vertical-align: top;\n",
       "    }\n",
       "\n",
       "    .dataframe thead th {\n",
       "        text-align: right;\n",
       "    }\n",
       "</style>\n",
       "<table border=\"1\" class=\"dataframe\">\n",
       "  <thead>\n",
       "    <tr style=\"text-align: right;\">\n",
       "      <th></th>\n",
       "      <th>Ones</th>\n",
       "      <th>Population</th>\n",
       "      <th>Profit</th>\n",
       "    </tr>\n",
       "  </thead>\n",
       "  <tbody>\n",
       "    <tr>\n",
       "      <th>0</th>\n",
       "      <td>1</td>\n",
       "      <td>6.1101</td>\n",
       "      <td>17.5920</td>\n",
       "    </tr>\n",
       "    <tr>\n",
       "      <th>1</th>\n",
       "      <td>1</td>\n",
       "      <td>5.5277</td>\n",
       "      <td>9.1302</td>\n",
       "    </tr>\n",
       "    <tr>\n",
       "      <th>2</th>\n",
       "      <td>1</td>\n",
       "      <td>8.5186</td>\n",
       "      <td>13.6620</td>\n",
       "    </tr>\n",
       "    <tr>\n",
       "      <th>3</th>\n",
       "      <td>1</td>\n",
       "      <td>7.0032</td>\n",
       "      <td>11.8540</td>\n",
       "    </tr>\n",
       "    <tr>\n",
       "      <th>4</th>\n",
       "      <td>1</td>\n",
       "      <td>5.8598</td>\n",
       "      <td>6.8233</td>\n",
       "    </tr>\n",
       "  </tbody>\n",
       "</table>\n",
       "</div>"
      ],
      "text/plain": [
       "   Ones  Population   Profit\n",
       "0     1      6.1101  17.5920\n",
       "1     1      5.5277   9.1302\n",
       "2     1      8.5186  13.6620\n",
       "3     1      7.0032  11.8540\n",
       "4     1      5.8598   6.8233"
      ]
     },
     "execution_count": 7,
     "metadata": {},
     "output_type": "execute_result"
    }
   ],
   "source": [
    "#在训练集中添加一列，一边可使用向量化的解决方案来计算代价和梯度\n",
    "data.insert(0,'Ones',1)\n",
    "data.head()"
   ]
  },
  {
   "cell_type": "code",
   "execution_count": 16,
   "metadata": {},
   "outputs": [],
   "source": [
    "#设置x训练集和y值\n",
    "cols = data.shape[1]\n",
    "X = data.iloc[:,0:cols-1]#X是所有行去掉最后一列\n",
    "y = data.iloc[:,cols-1:]#y是所有行，最后一列"
   ]
  },
  {
   "cell_type": "code",
   "execution_count": 23,
   "metadata": {
    "scrolled": true
   },
   "outputs": [],
   "source": [
    "#将X，y转化为矩阵（matrix），并初始化系数theta\n",
    "X = np.matrix(X)\n",
    "y = np.matrix(y)\n",
    "theta = np.matrix(np.array([0,0]))"
   ]
  },
  {
   "cell_type": "code",
   "execution_count": 26,
   "metadata": {},
   "outputs": [
    {
     "data": {
      "text/plain": [
       "((97, 2), (97, 1), (1, 2))"
      ]
     },
     "execution_count": 26,
     "metadata": {},
     "output_type": "execute_result"
    }
   ],
   "source": [
    "#看下维度\n",
    "X.shape,y.shape,theta.shape"
   ]
  },
  {
   "cell_type": "code",
   "execution_count": 27,
   "metadata": {},
   "outputs": [
    {
     "data": {
      "text/plain": [
       "32.072733877455676"
      ]
     },
     "execution_count": 27,
     "metadata": {},
     "output_type": "execute_result"
    }
   ],
   "source": [
    "#计算代价函数(theat初始值为0)\n",
    "computeCost(X,y,theta)"
   ]
  },
  {
   "cell_type": "code",
   "execution_count": 28,
   "metadata": {},
   "outputs": [],
   "source": [
    "#bath gradient decent(批量梯度下降)\n",
    "def gradientDescent(X,y,theta,alpha,iters):\n",
    "    temp = np.matrix(np.zeros(theta.shape))\n",
    "    parameters = int(theta.ravel().shape[1])\n",
    "    cost = np.zeros(iters)\n",
    "    \n",
    "    for i in range(iters):\n",
    "        error = (X * theta.T) - y\n",
    "        for j in range(parameters):\n",
    "            term = np.multiply(error,X[:,j])\n",
    "            temp[0,j] = theta[0,j] - ((alpha/len(X))*np.sum(term))\n",
    "        theta = temp\n",
    "        cost[i] = computeCost(X,y,theta)\n",
    "    return theta,cost"
   ]
  },
  {
   "cell_type": "code",
   "execution_count": 44,
   "metadata": {},
   "outputs": [],
   "source": [
    "#初始化一些附加变量\n",
    "alpha = 0.01#学习速率alpha\n",
    "iters = 1000#迭代次数"
   ]
  },
  {
   "cell_type": "code",
   "execution_count": 45,
   "metadata": {},
   "outputs": [],
   "source": [
    "#运行梯度下降算法来将参数theta合于训练集\n",
    "g ,cost = gradientDescent(X,y,theta,alpha,iters)"
   ]
  },
  {
   "cell_type": "code",
   "execution_count": 46,
   "metadata": {},
   "outputs": [
    {
     "data": {
      "text/plain": [
       "matrix([[-3.24140214,  1.1272942 ]])"
      ]
     },
     "execution_count": 46,
     "metadata": {},
     "output_type": "execute_result"
    }
   ],
   "source": [
    "g"
   ]
  },
  {
   "cell_type": "code",
   "execution_count": 47,
   "metadata": {},
   "outputs": [
    {
     "data": {
      "text/plain": [
       "4.515955503078912"
      ]
     },
     "execution_count": 47,
     "metadata": {},
     "output_type": "execute_result"
    }
   ],
   "source": [
    "#拟合的参数计算训练模型的代价误差\n",
    "computeCost(X,y,g)"
   ]
  },
  {
   "cell_type": "code",
   "execution_count": 48,
   "metadata": {},
   "outputs": [
    {
     "data": {
      "image/png": "[encoded data removed]",
      "text/plain": [
       "<Figure size 720x432 with 1 Axes>"
      ]
     },
     "metadata": {
      "needs_background": "light"
     },
     "output_type": "display_data"
    }
   ],
   "source": [
    "#绘制线性模型以及数据\n",
    "x = np.linspace(data.Population.min(),data.Population.max(),100)\n",
    "\n",
    "f = g[0,0] + (g[0,1]*x)\n",
    "fig,ax = plt.subplots(figsize=(10,6))\n",
    "ax.plot(x,f,'r',label='Prediction')\n",
    "ax.scatter(data.Population,data.Profit,label='Traning Data')\n",
    "ax.legend(loc=2)\n",
    "ax.set_xlabel('Population')\n",
    "ax.set_ylabel('Profit')\n",
    "ax.set_title('Predicted Profit vs. Population Size')\n",
    "plt.show()"
   ]
  },
  {
   "cell_type": "code",
   "execution_count": 49,
   "metadata": {},
   "outputs": [
    {
     "data": {
      "image/png": "[encoded data removed]",
      "text/plain": [
       "<Figure size 864x576 with 1 Axes>"
      ]
     },
     "metadata": {
      "needs_background": "light"
     },
     "output_type": "display_data"
    }
   ],
   "source": [
    "fig, ax = plt.subplots(figsize=(12,8))\n",
    "ax.plot(np.arange(iters), cost, 'r')\n",
    "ax.set_xlabel('Iterations')\n",
    "ax.set_ylabel('Cost')\n",
    "ax.set_title('Error vs. Training Epoch')\n",
    "plt.show()"
   ]
  },
  {
   "cell_type": "markdown",
   "metadata": {},
   "source": [
    "## 2. Linear regression with multiple variable 多变量线性回归\n"
   ]
  },
  {
   "cell_type": "code",
   "execution_count": 116,
   "metadata": {},
   "outputs": [],
   "source": [
    "from mpl_toolkits.mplot3d import Axes3D  # 空间三维画图\n",
    "data2 = pd.read_csv('ex1data2.txt',header = None, names=['Size','Population', 'Profit'])#读取数据并赋予列名\n",
    "data3 = pd.read_csv('ex1data2.txt',header = None, names=['Size','Population', 'Profit'])"
   ]
  },
  {
   "cell_type": "code",
   "execution_count": 117,
   "metadata": {},
   "outputs": [
    {
     "data": {
      "text/html": [
       "<div>\n",
       "<style scoped>\n",
       "    .dataframe tbody tr th:only-of-type {\n",
       "        vertical-align: middle;\n",
       "    }\n",
       "\n",
       "    .dataframe tbody tr th {\n",
       "        vertical-align: top;\n",
       "    }\n",
       "\n",
       "    .dataframe thead th {\n",
       "        text-align: right;\n",
       "    }\n",
       "</style>\n",
       "<table border=\"1\" class=\"dataframe\">\n",
       "  <thead>\n",
       "    <tr style=\"text-align: right;\">\n",
       "      <th></th>\n",
       "      <th>Size</th>\n",
       "      <th>Population</th>\n",
       "      <th>Profit</th>\n",
       "    </tr>\n",
       "  </thead>\n",
       "  <tbody>\n",
       "    <tr>\n",
       "      <th>0</th>\n",
       "      <td>2104</td>\n",
       "      <td>3</td>\n",
       "      <td>399900</td>\n",
       "    </tr>\n",
       "    <tr>\n",
       "      <th>1</th>\n",
       "      <td>1600</td>\n",
       "      <td>3</td>\n",
       "      <td>329900</td>\n",
       "    </tr>\n",
       "    <tr>\n",
       "      <th>2</th>\n",
       "      <td>2400</td>\n",
       "      <td>3</td>\n",
       "      <td>369000</td>\n",
       "    </tr>\n",
       "    <tr>\n",
       "      <th>3</th>\n",
       "      <td>1416</td>\n",
       "      <td>2</td>\n",
       "      <td>232000</td>\n",
       "    </tr>\n",
       "    <tr>\n",
       "      <th>4</th>\n",
       "      <td>3000</td>\n",
       "      <td>4</td>\n",
       "      <td>539900</td>\n",
       "    </tr>\n",
       "  </tbody>\n",
       "</table>\n",
       "</div>"
      ],
      "text/plain": [
       "   Size  Population  Profit\n",
       "0  2104           3  399900\n",
       "1  1600           3  329900\n",
       "2  2400           3  369000\n",
       "3  1416           2  232000\n",
       "4  3000           4  539900"
      ]
     },
     "execution_count": 117,
     "metadata": {},
     "output_type": "execute_result"
    }
   ],
   "source": [
    "data2.head()"
   ]
  },
  {
   "cell_type": "code",
   "execution_count": 118,
   "metadata": {},
   "outputs": [],
   "source": [
    "#特征归一化\n",
    "#mean()是平均值，std()是标准差\n",
    "data2 = (data2 - data2.mean()) /data2.std()"
   ]
  },
  {
   "cell_type": "code",
   "execution_count": 119,
   "metadata": {},
   "outputs": [
    {
     "data": {
      "text/html": [
       "<div>\n",
       "<style scoped>\n",
       "    .dataframe tbody tr th:only-of-type {\n",
       "        vertical-align: middle;\n",
       "    }\n",
       "\n",
       "    .dataframe tbody tr th {\n",
       "        vertical-align: top;\n",
       "    }\n",
       "\n",
       "    .dataframe thead th {\n",
       "        text-align: right;\n",
       "    }\n",
       "</style>\n",
       "<table border=\"1\" class=\"dataframe\">\n",
       "  <thead>\n",
       "    <tr style=\"text-align: right;\">\n",
       "      <th></th>\n",
       "      <th>Ones</th>\n",
       "      <th>Size</th>\n",
       "      <th>Population</th>\n",
       "      <th>Profit</th>\n",
       "    </tr>\n",
       "  </thead>\n",
       "  <tbody>\n",
       "    <tr>\n",
       "      <th>0</th>\n",
       "      <td>1</td>\n",
       "      <td>0.130010</td>\n",
       "      <td>-0.223675</td>\n",
       "      <td>0.475747</td>\n",
       "    </tr>\n",
       "    <tr>\n",
       "      <th>1</th>\n",
       "      <td>1</td>\n",
       "      <td>-0.504190</td>\n",
       "      <td>-0.223675</td>\n",
       "      <td>-0.084074</td>\n",
       "    </tr>\n",
       "    <tr>\n",
       "      <th>2</th>\n",
       "      <td>1</td>\n",
       "      <td>0.502476</td>\n",
       "      <td>-0.223675</td>\n",
       "      <td>0.228626</td>\n",
       "    </tr>\n",
       "    <tr>\n",
       "      <th>3</th>\n",
       "      <td>1</td>\n",
       "      <td>-0.735723</td>\n",
       "      <td>-1.537767</td>\n",
       "      <td>-0.867025</td>\n",
       "    </tr>\n",
       "    <tr>\n",
       "      <th>4</th>\n",
       "      <td>1</td>\n",
       "      <td>1.257476</td>\n",
       "      <td>1.090417</td>\n",
       "      <td>1.595389</td>\n",
       "    </tr>\n",
       "  </tbody>\n",
       "</table>\n",
       "</div>"
      ],
      "text/plain": [
       "   Ones      Size  Population    Profit\n",
       "0     1  0.130010   -0.223675  0.475747\n",
       "1     1 -0.504190   -0.223675 -0.084074\n",
       "2     1  0.502476   -0.223675  0.228626\n",
       "3     1 -0.735723   -1.537767 -0.867025\n",
       "4     1  1.257476    1.090417  1.595389"
      ]
     },
     "execution_count": 119,
     "metadata": {},
     "output_type": "execute_result"
    }
   ],
   "source": [
    "#在训练集中添加一列，一边可使用向量化的解决方案来计算代价和梯度\n",
    "data2.insert(0,'Ones',1)\n",
    "data2.head()"
   ]
  },
  {
   "cell_type": "code",
   "execution_count": 130,
   "metadata": {},
   "outputs": [
    {
     "data": {
      "image/png": "[encoded data removed]",
      "text/plain": [
       "<Figure size 432x288 with 1 Axes>"
      ]
     },
     "metadata": {
      "needs_background": "light"
     },
     "output_type": "display_data"
    }
   ],
   "source": [
    "# 绘制散点图\n",
    "fig = plt.figure()\n",
    "ax = Axes3D(fig)\n",
    "ax.scatter(data2.iloc[:,1],data2.iloc[:,2],data2.iloc[:,3])\n",
    "  \n",
    "# 添加坐标轴(顺序是Z, Y, X)\n",
    "ax.set_zlabel('Profit', fontdict={'size': 15, 'color': 'red'})\n",
    "ax.set_ylabel('Population', fontdict={'size': 15, 'color': 'red'})\n",
    "ax.set_xlabel('Size', fontdict={'size': 15, 'color': 'red'})\n",
    "plt.show()"
   ]
  },
  {
   "cell_type": "code",
   "execution_count": 121,
   "metadata": {},
   "outputs": [],
   "source": [
    "#设置x训练集和y值\n",
    "cols = data2.shape[1]\n",
    "X2 = data2.iloc[:,0:cols-1]#X是所有行去掉最后一列\n",
    "y2= data2.iloc[:,cols-1:]#y是所有行，最后一列"
   ]
  },
  {
   "cell_type": "code",
   "execution_count": 122,
   "metadata": {},
   "outputs": [],
   "source": [
    "#将X，y转化为矩阵（matrix），并初始化系数theta\n",
    "X2 = np.matrix(X2)\n",
    "y2 = np.matrix(y2)\n",
    "theta2 = np.matrix(np.array([0,0,0]))"
   ]
  },
  {
   "cell_type": "code",
   "execution_count": 123,
   "metadata": {},
   "outputs": [],
   "source": [
    "g2,cost2 = gradientDescent(X2, y2, theta2, alpha, iters)"
   ]
  },
  {
   "cell_type": "code",
   "execution_count": 124,
   "metadata": {},
   "outputs": [
    {
     "data": {
      "text/plain": [
       "matrix([[-1.03191687e-16,  8.78503652e-01, -4.69166570e-02]])"
      ]
     },
     "execution_count": 124,
     "metadata": {},
     "output_type": "execute_result"
    }
   ],
   "source": [
    "g2"
   ]
  },
  {
   "cell_type": "code",
   "execution_count": 125,
   "metadata": {},
   "outputs": [
    {
     "data": {
      "text/plain": [
       "0.13070336960771892"
      ]
     },
     "execution_count": 125,
     "metadata": {},
     "output_type": "execute_result"
    }
   ],
   "source": [
    "# 得到模型误差\n",
    "computeCost(X2, y2, g2)"
   ]
  },
  {
   "cell_type": "code",
   "execution_count": 192,
   "metadata": {},
   "outputs": [
    {
     "ename": "ValueError",
     "evalue": "input operand has more dimensions than allowed by the axis remapping",
     "output_type": "error",
     "traceback": [
      "\u001b[1;31m---------------------------------------------------------------------------\u001b[0m",
      "\u001b[1;31mValueError\u001b[0m                                Traceback (most recent call last)",
      "\u001b[1;32m<ipython-input-192-2be09826263a>\u001b[0m in \u001b[0;36m<module>\u001b[1;34m\u001b[0m\n\u001b[0;32m      9\u001b[0m \u001b[1;33m\u001b[0m\u001b[0m\n\u001b[0;32m     10\u001b[0m \u001b[0max\u001b[0m\u001b[1;33m.\u001b[0m\u001b[0mscatter\u001b[0m\u001b[1;33m(\u001b[0m\u001b[0mdata2\u001b[0m\u001b[1;33m.\u001b[0m\u001b[0miloc\u001b[0m\u001b[1;33m[\u001b[0m\u001b[1;33m:\u001b[0m\u001b[1;33m,\u001b[0m\u001b[1;36m1\u001b[0m\u001b[1;33m]\u001b[0m\u001b[1;33m,\u001b[0m\u001b[0mdata2\u001b[0m\u001b[1;33m.\u001b[0m\u001b[0miloc\u001b[0m\u001b[1;33m[\u001b[0m\u001b[1;33m:\u001b[0m\u001b[1;33m,\u001b[0m\u001b[1;36m2\u001b[0m\u001b[1;33m]\u001b[0m\u001b[1;33m,\u001b[0m\u001b[0mdata2\u001b[0m\u001b[1;33m.\u001b[0m\u001b[0miloc\u001b[0m\u001b[1;33m[\u001b[0m\u001b[1;33m:\u001b[0m\u001b[1;33m,\u001b[0m\u001b[1;36m3\u001b[0m\u001b[1;33m]\u001b[0m\u001b[1;33m,\u001b[0m\u001b[0mcolor\u001b[0m \u001b[1;33m=\u001b[0m \u001b[1;34m'b'\u001b[0m\u001b[1;33m,\u001b[0m\u001b[0mlabel\u001b[0m\u001b[1;33m=\u001b[0m\u001b[1;34m'Traning Data'\u001b[0m\u001b[1;33m)\u001b[0m\u001b[1;33m\u001b[0m\u001b[1;33m\u001b[0m\u001b[0m\n\u001b[1;32m---> 11\u001b[1;33m \u001b[0max\u001b[0m\u001b[1;33m.\u001b[0m\u001b[0mplot\u001b[0m\u001b[1;33m(\u001b[0m\u001b[0mnp\u001b[0m\u001b[1;33m.\u001b[0m\u001b[0marray\u001b[0m\u001b[1;33m(\u001b[0m\u001b[0mdata2\u001b[0m\u001b[1;33m.\u001b[0m\u001b[0miloc\u001b[0m\u001b[1;33m[\u001b[0m\u001b[1;33m:\u001b[0m\u001b[1;33m,\u001b[0m\u001b[1;36m1\u001b[0m\u001b[1;33m]\u001b[0m\u001b[1;33m)\u001b[0m\u001b[1;33m,\u001b[0m\u001b[0mnp\u001b[0m\u001b[1;33m.\u001b[0m\u001b[0marray\u001b[0m\u001b[1;33m(\u001b[0m\u001b[0mdata2\u001b[0m\u001b[1;33m.\u001b[0m\u001b[0miloc\u001b[0m\u001b[1;33m[\u001b[0m\u001b[1;33m:\u001b[0m\u001b[1;33m,\u001b[0m\u001b[1;36m2\u001b[0m\u001b[1;33m]\u001b[0m\u001b[1;33m)\u001b[0m\u001b[1;33m,\u001b[0m\u001b[0mf\u001b[0m\u001b[1;33m[\u001b[0m\u001b[1;33m:\u001b[0m\u001b[1;33m,\u001b[0m\u001b[1;36m0\u001b[0m\u001b[1;33m]\u001b[0m\u001b[1;33m.\u001b[0m\u001b[0mreshape\u001b[0m\u001b[1;33m(\u001b[0m\u001b[1;36m47\u001b[0m\u001b[1;33m,\u001b[0m\u001b[1;36m1\u001b[0m\u001b[1;33m)\u001b[0m\u001b[1;33m,\u001b[0m\u001b[0mcolor\u001b[0m \u001b[1;33m=\u001b[0m \u001b[1;34m'r'\u001b[0m\u001b[1;33m,\u001b[0m\u001b[0mlabel\u001b[0m\u001b[1;33m=\u001b[0m\u001b[1;34m'Prediction'\u001b[0m\u001b[1;33m)\u001b[0m\u001b[1;33m\u001b[0m\u001b[1;33m\u001b[0m\u001b[0m\n\u001b[0m\u001b[0;32m     12\u001b[0m \u001b[1;31m#ax.plot(x1,x2,f,color = 'r',label='Prediction')\u001b[0m\u001b[1;33m\u001b[0m\u001b[1;33m\u001b[0m\u001b[1;33m\u001b[0m\u001b[0m\n\u001b[0;32m     13\u001b[0m \u001b[0max\u001b[0m\u001b[1;33m.\u001b[0m\u001b[0mlegend\u001b[0m\u001b[1;33m(\u001b[0m\u001b[0mloc\u001b[0m\u001b[1;33m=\u001b[0m\u001b[1;36m2\u001b[0m\u001b[1;33m)\u001b[0m\u001b[1;33m\u001b[0m\u001b[1;33m\u001b[0m\u001b[0m\n",
      "\u001b[1;32mD:\\Anaconda3\\lib\\site-packages\\mpl_toolkits\\mplot3d\\axes3d.py\u001b[0m in \u001b[0;36mplot\u001b[1;34m(self, xs, ys, zdir, *args, **kwargs)\u001b[0m\n\u001b[0;32m   1528\u001b[0m \u001b[1;33m\u001b[0m\u001b[0m\n\u001b[0;32m   1529\u001b[0m         \u001b[1;31m# Match length\u001b[0m\u001b[1;33m\u001b[0m\u001b[1;33m\u001b[0m\u001b[1;33m\u001b[0m\u001b[0m\n\u001b[1;32m-> 1530\u001b[1;33m         \u001b[0mzs\u001b[0m \u001b[1;33m=\u001b[0m \u001b[0mnp\u001b[0m\u001b[1;33m.\u001b[0m\u001b[0mbroadcast_to\u001b[0m\u001b[1;33m(\u001b[0m\u001b[0mzs\u001b[0m\u001b[1;33m,\u001b[0m \u001b[0mlen\u001b[0m\u001b[1;33m(\u001b[0m\u001b[0mxs\u001b[0m\u001b[1;33m)\u001b[0m\u001b[1;33m)\u001b[0m\u001b[1;33m\u001b[0m\u001b[1;33m\u001b[0m\u001b[0m\n\u001b[0m\u001b[0;32m   1531\u001b[0m \u001b[1;33m\u001b[0m\u001b[0m\n\u001b[0;32m   1532\u001b[0m         \u001b[0mlines\u001b[0m \u001b[1;33m=\u001b[0m \u001b[0msuper\u001b[0m\u001b[1;33m(\u001b[0m\u001b[1;33m)\u001b[0m\u001b[1;33m.\u001b[0m\u001b[0mplot\u001b[0m\u001b[1;33m(\u001b[0m\u001b[0mxs\u001b[0m\u001b[1;33m,\u001b[0m \u001b[0mys\u001b[0m\u001b[1;33m,\u001b[0m \u001b[1;33m*\u001b[0m\u001b[0margs\u001b[0m\u001b[1;33m,\u001b[0m \u001b[1;33m**\u001b[0m\u001b[0mkwargs\u001b[0m\u001b[1;33m)\u001b[0m\u001b[1;33m\u001b[0m\u001b[1;33m\u001b[0m\u001b[0m\n",
      "\u001b[1;32mD:\\Anaconda3\\lib\\site-packages\\numpy\\lib\\stride_tricks.py\u001b[0m in \u001b[0;36mbroadcast_to\u001b[1;34m(array, shape, subok)\u001b[0m\n\u001b[0;32m    180\u001b[0m            [1, 2, 3]])\n\u001b[0;32m    181\u001b[0m     \"\"\"\n\u001b[1;32m--> 182\u001b[1;33m     \u001b[1;32mreturn\u001b[0m \u001b[0m_broadcast_to\u001b[0m\u001b[1;33m(\u001b[0m\u001b[0marray\u001b[0m\u001b[1;33m,\u001b[0m \u001b[0mshape\u001b[0m\u001b[1;33m,\u001b[0m \u001b[0msubok\u001b[0m\u001b[1;33m=\u001b[0m\u001b[0msubok\u001b[0m\u001b[1;33m,\u001b[0m \u001b[0mreadonly\u001b[0m\u001b[1;33m=\u001b[0m\u001b[1;32mTrue\u001b[0m\u001b[1;33m)\u001b[0m\u001b[1;33m\u001b[0m\u001b[1;33m\u001b[0m\u001b[0m\n\u001b[0m\u001b[0;32m    183\u001b[0m \u001b[1;33m\u001b[0m\u001b[0m\n\u001b[0;32m    184\u001b[0m \u001b[1;33m\u001b[0m\u001b[0m\n",
      "\u001b[1;32mD:\\Anaconda3\\lib\\site-packages\\numpy\\lib\\stride_tricks.py\u001b[0m in \u001b[0;36m_broadcast_to\u001b[1;34m(array, shape, subok, readonly)\u001b[0m\n\u001b[0;32m    127\u001b[0m     it = np.nditer(\n\u001b[0;32m    128\u001b[0m         \u001b[1;33m(\u001b[0m\u001b[0marray\u001b[0m\u001b[1;33m,\u001b[0m\u001b[1;33m)\u001b[0m\u001b[1;33m,\u001b[0m \u001b[0mflags\u001b[0m\u001b[1;33m=\u001b[0m\u001b[1;33m[\u001b[0m\u001b[1;34m'multi_index'\u001b[0m\u001b[1;33m,\u001b[0m \u001b[1;34m'refs_ok'\u001b[0m\u001b[1;33m,\u001b[0m \u001b[1;34m'zerosize_ok'\u001b[0m\u001b[1;33m]\u001b[0m \u001b[1;33m+\u001b[0m \u001b[0mextras\u001b[0m\u001b[1;33m,\u001b[0m\u001b[1;33m\u001b[0m\u001b[1;33m\u001b[0m\u001b[0m\n\u001b[1;32m--> 129\u001b[1;33m         op_flags=[op_flag], itershape=shape, order='C')\n\u001b[0m\u001b[0;32m    130\u001b[0m     \u001b[1;32mwith\u001b[0m \u001b[0mit\u001b[0m\u001b[1;33m:\u001b[0m\u001b[1;33m\u001b[0m\u001b[1;33m\u001b[0m\u001b[0m\n\u001b[0;32m    131\u001b[0m         \u001b[1;31m# never really has writebackifcopy semantics\u001b[0m\u001b[1;33m\u001b[0m\u001b[1;33m\u001b[0m\u001b[1;33m\u001b[0m\u001b[0m\n",
      "\u001b[1;31mValueError\u001b[0m: input operand has more dimensions than allowed by the axis remapping"
     ]
    },
    {
     "data": {
      "image/png": "[encoded data removed]",
      "text/plain": [
       "<Figure size 432x288 with 1 Axes>"
      ]
     },
     "metadata": {
      "needs_background": "light"
     },
     "output_type": "display_data"
    }
   ],
   "source": [
    "#绘制线性模型以及数据\n",
    "fig = plt.figure()\n",
    "ax = Axes3D(fig)\n",
    "\n",
    "#x1 = np.linspace(data2.Size.min(),data2.Size.max(),100)\n",
    "#x2 = np.linspace(data2.Population.min(),data2.Population.max(),100)\n",
    "\n",
    "f= np.sum(np.multiply(np.matrix(data2.iloc[:,0:3]),g2),axis=1)\n",
    "\n",
    "ax.scatter(data2.iloc[:,1],data2.iloc[:,2],data2.iloc[:,3],color = 'b',label='Traning Data')\n",
    "ax.plot(np.array(data2.iloc[:,1]),np.array(data2.iloc[:,2]),f[:,0].reshape(47,1),color = 'r',label='Prediction')\n",
    "#ax.plot(x1,x2,f,color = 'r',label='Prediction')  \n",
    "ax.legend(loc=2)\n",
    "# 添加坐标轴(顺序是Z, Y, X)\n",
    "ax.set_zlabel('Profit')\n",
    "ax.set_ylabel('Population')\n",
    "ax.set_xlabel('Size')\n",
    "ax.set_title('Predicted Profit vs. Population Size')\n",
    "plt.show()"
   ]
  },
  {
   "cell_type": "code",
   "execution_count": 175,
   "metadata": {},
   "outputs": [
    {
     "data": {
      "image/png": "[encoded data removed]",
      "text/plain": [
       "<Figure size 864x576 with 1 Axes>"
      ]
     },
     "metadata": {
      "needs_background": "light"
     },
     "output_type": "display_data"
    }
   ],
   "source": [
    "#查看训练过程\n",
    "fig, ax = plt.subplots(figsize=(12,8))\n",
    "ax.plot(np.arange(iters), cost2, 'r')\n",
    "ax.set_xlabel('Iterations')\n",
    "ax.set_ylabel('Cost')\n",
    "ax.set_title('Error vs. Training Epoch')\n",
    "plt.show()"
   ]
  },
  {
   "cell_type": "code",
   "execution_count": 176,
   "metadata": {},
   "outputs": [],
   "source": [
    "f = g2[0,0] + (g2[0,1]*0.13001) + (g2[0,2]*-0.223675)"
   ]
  },
  {
   "cell_type": "code",
   "execution_count": 135,
   "metadata": {},
   "outputs": [
    {
     "data": {
      "text/plain": [
       "0.12470834308850583"
      ]
     },
     "execution_count": 135,
     "metadata": {},
     "output_type": "execute_result"
    }
   ],
   "source": [
    "f"
   ]
  },
  {
   "cell_type": "code",
   "execution_count": 145,
   "metadata": {},
   "outputs": [
    {
     "data": {
      "text/plain": [
       "matrix([[ 1.00000000e+00,  1.30009869e-01, -2.23675187e-01],\n",
       "        [ 1.00000000e+00, -5.04189838e-01, -2.23675187e-01],\n",
       "        [ 1.00000000e+00,  5.02476364e-01, -2.23675187e-01],\n",
       "        [ 1.00000000e+00, -7.35723065e-01, -1.53776691e+00],\n",
       "        [ 1.00000000e+00,  1.25747602e+00,  1.09041654e+00],\n",
       "        [ 1.00000000e+00, -1.97317285e-02,  1.09041654e+00],\n",
       "        [ 1.00000000e+00, -5.87239800e-01, -2.23675187e-01],\n",
       "        [ 1.00000000e+00, -7.21881404e-01, -2.23675187e-01],\n",
       "        [ 1.00000000e+00, -7.81023044e-01, -2.23675187e-01],\n",
       "        [ 1.00000000e+00, -6.37573110e-01, -2.23675187e-01],\n",
       "        [ 1.00000000e+00, -7.63567023e-02,  1.09041654e+00],\n",
       "        [ 1.00000000e+00, -8.56737193e-04, -2.23675187e-01],\n",
       "        [ 1.00000000e+00, -1.39273340e-01, -2.23675187e-01],\n",
       "        [ 1.00000000e+00,  3.11729182e+00,  2.40450826e+00],\n",
       "        [ 1.00000000e+00, -9.21956312e-01, -2.23675187e-01],\n",
       "        [ 1.00000000e+00,  3.76643089e-01,  1.09041654e+00],\n",
       "        [ 1.00000000e+00, -8.56523009e-01, -1.53776691e+00],\n",
       "        [ 1.00000000e+00, -9.62222960e-01, -2.23675187e-01],\n",
       "        [ 1.00000000e+00,  7.65467909e-01,  1.09041654e+00],\n",
       "        [ 1.00000000e+00,  1.29648433e+00,  1.09041654e+00],\n",
       "        [ 1.00000000e+00, -2.94048269e-01, -2.23675187e-01],\n",
       "        [ 1.00000000e+00, -1.41790005e-01, -1.53776691e+00],\n",
       "        [ 1.00000000e+00, -4.99156507e-01, -2.23675187e-01],\n",
       "        [ 1.00000000e+00, -4.86733818e-02,  1.09041654e+00],\n",
       "        [ 1.00000000e+00,  2.37739217e+00, -2.23675187e-01],\n",
       "        [ 1.00000000e+00, -1.13335621e+00, -2.23675187e-01],\n",
       "        [ 1.00000000e+00, -6.82873089e-01, -2.23675187e-01],\n",
       "        [ 1.00000000e+00,  6.61026291e-01, -2.23675187e-01],\n",
       "        [ 1.00000000e+00,  2.50809813e-01, -2.23675187e-01],\n",
       "        [ 1.00000000e+00,  8.00701226e-01, -2.23675187e-01],\n",
       "        [ 1.00000000e+00, -2.03448310e-01, -1.53776691e+00],\n",
       "        [ 1.00000000e+00, -1.25918949e+00, -2.85185864e+00],\n",
       "        [ 1.00000000e+00,  4.94765729e-02,  1.09041654e+00],\n",
       "        [ 1.00000000e+00,  1.42986760e+00, -2.23675187e-01],\n",
       "        [ 1.00000000e+00, -2.38681627e-01,  1.09041654e+00],\n",
       "        [ 1.00000000e+00, -7.09298077e-01, -2.23675187e-01],\n",
       "        [ 1.00000000e+00, -9.58447962e-01, -2.23675187e-01],\n",
       "        [ 1.00000000e+00,  1.65243186e-01,  1.09041654e+00],\n",
       "        [ 1.00000000e+00,  2.78635031e+00,  1.09041654e+00],\n",
       "        [ 1.00000000e+00,  2.02993169e-01,  1.09041654e+00],\n",
       "        [ 1.00000000e+00, -4.23656542e-01, -1.53776691e+00],\n",
       "        [ 1.00000000e+00,  2.98626458e-01, -2.23675187e-01],\n",
       "        [ 1.00000000e+00,  7.12617934e-01,  1.09041654e+00],\n",
       "        [ 1.00000000e+00, -1.00752294e+00, -2.23675187e-01],\n",
       "        [ 1.00000000e+00, -1.44542274e+00, -1.53776691e+00],\n",
       "        [ 1.00000000e+00, -1.87089985e-01,  1.09041654e+00],\n",
       "        [ 1.00000000e+00, -1.00374794e+00, -2.23675187e-01]])"
      ]
     },
     "execution_count": 145,
     "metadata": {},
     "output_type": "execute_result"
    }
   ],
   "source": [
    "np.matrix(data2.iloc[:,0:3])"
   ]
  },
  {
   "cell_type": "code",
   "execution_count": 167,
   "metadata": {},
   "outputs": [],
   "source": [
    "b =cnp.sum(np.multiply(np.matrix(data2.iloc[:,0:3]),np.matrix(g2)),axis=1)\n",
    "b = np.array(b)"
   ]
  },
  {
   "cell_type": "code",
   "execution_count": 168,
   "metadata": {},
   "outputs": [
    {
     "data": {
      "text/plain": [
       "array([[ 0.12470824],\n",
       "       [-0.43243852],\n",
       "       [ 0.45192141],\n",
       "       [-0.57418852],\n",
       "       [ 1.05353857],\n",
       "       [-0.06849309],\n",
       "       [-0.50539822],\n",
       "       [-0.62368136],\n",
       "       [-0.6756375 ],\n",
       "       [-0.54961621],\n",
       "       [-0.11823834],\n",
       "       [ 0.00974145],\n",
       "       [-0.11185805],\n",
       "       [ 2.62574076],\n",
       "       [-0.7994479 ],\n",
       "       [ 0.27972363],\n",
       "       [-0.68031171],\n",
       "       [-0.83482229],\n",
       "       [ 0.62130766],\n",
       "       [ 1.08780752],\n",
       "       [-0.24782839],\n",
       "       [-0.05241615],\n",
       "       [-0.42801672],\n",
       "       [-0.09391844],\n",
       "       [ 2.09904179],\n",
       "       [-0.98516348],\n",
       "       [-0.58941241],\n",
       "       [ 0.5912081 ],\n",
       "       [ 0.23083143],\n",
       "       [ 0.71391304],\n",
       "       [-0.1065832 ],\n",
       "       [-0.97240289],\n",
       "       [-0.00769335],\n",
       "       [ 1.266638  ],\n",
       "       [-0.26084138],\n",
       "       [-0.61262686],\n",
       "       [-0.83150594],\n",
       "       [ 0.09400804],\n",
       "       [ 2.39666022],\n",
       "       [ 0.12717154],\n",
       "       [-0.30003694],\n",
       "       [ 0.27283853],\n",
       "       [ 0.57487876],\n",
       "       [-0.87461849],\n",
       "       [-1.19766227],\n",
       "       [-0.21551793],\n",
       "       [-0.87130214]])"
      ]
     },
     "execution_count": 168,
     "metadata": {},
     "output_type": "execute_result"
    }
   ],
   "source": [
    "b"
   ]
  },
  {
   "cell_type": "code",
   "execution_count": 187,
   "metadata": {},
   "outputs": [
    {
     "data": {
      "text/plain": [
       "array([[ 0.12470824],\n",
       "       [-0.43243852],\n",
       "       [ 0.45192141],\n",
       "       [-0.57418852],\n",
       "       [ 1.05353857],\n",
       "       [-0.06849309],\n",
       "       [-0.50539822],\n",
       "       [-0.62368136],\n",
       "       [-0.6756375 ],\n",
       "       [-0.54961621],\n",
       "       [-0.11823834],\n",
       "       [ 0.00974145],\n",
       "       [-0.11185805],\n",
       "       [ 2.62574076],\n",
       "       [-0.7994479 ],\n",
       "       [ 0.27972363],\n",
       "       [-0.68031171],\n",
       "       [-0.83482229],\n",
       "       [ 0.62130766],\n",
       "       [ 1.08780752],\n",
       "       [-0.24782839],\n",
       "       [-0.05241615],\n",
       "       [-0.42801672],\n",
       "       [-0.09391844],\n",
       "       [ 2.09904179],\n",
       "       [-0.98516348],\n",
       "       [-0.58941241],\n",
       "       [ 0.5912081 ],\n",
       "       [ 0.23083143],\n",
       "       [ 0.71391304],\n",
       "       [-0.1065832 ],\n",
       "       [-0.97240289],\n",
       "       [-0.00769335],\n",
       "       [ 1.266638  ],\n",
       "       [-0.26084138],\n",
       "       [-0.61262686],\n",
       "       [-0.83150594],\n",
       "       [ 0.09400804],\n",
       "       [ 2.39666022],\n",
       "       [ 0.12717154],\n",
       "       [-0.30003694],\n",
       "       [ 0.27283853],\n",
       "       [ 0.57487876],\n",
       "       [-0.87461849],\n",
       "       [-1.19766227],\n",
       "       [-0.21551793],\n",
       "       [-0.87130214]])"
      ]
     },
     "execution_count": 187,
     "metadata": {},
     "output_type": "execute_result"
    }
   ],
   "source": [
    "b[:,0].reshape(47,1)"
   ]
  },
  {
   "cell_type": "code",
   "execution_count": 189,
   "metadata": {},
   "outputs": [
    {
     "data": {
      "text/plain": [
       "0     0.130010\n",
       "1    -0.504190\n",
       "2     0.502476\n",
       "3    -0.735723\n",
       "4     1.257476\n",
       "5    -0.019732\n",
       "6    -0.587240\n",
       "7    -0.721881\n",
       "8    -0.781023\n",
       "9    -0.637573\n",
       "10   -0.076357\n",
       "11   -0.000857\n",
       "12   -0.139273\n",
       "13    3.117292\n",
       "14   -0.921956\n",
       "15    0.376643\n",
       "16   -0.856523\n",
       "17   -0.962223\n",
       "18    0.765468\n",
       "19    1.296484\n",
       "20   -0.294048\n",
       "21   -0.141790\n",
       "22   -0.499157\n",
       "23   -0.048673\n",
       "24    2.377392\n",
       "25   -1.133356\n",
       "26   -0.682873\n",
       "27    0.661026\n",
       "28    0.250810\n",
       "29    0.800701\n",
       "30   -0.203448\n",
       "31   -1.259189\n",
       "32    0.049477\n",
       "33    1.429868\n",
       "34   -0.238682\n",
       "35   -0.709298\n",
       "36   -0.958448\n",
       "37    0.165243\n",
       "38    2.786350\n",
       "39    0.202993\n",
       "40   -0.423657\n",
       "41    0.298626\n",
       "42    0.712618\n",
       "43   -1.007523\n",
       "44   -1.445423\n",
       "45   -0.187090\n",
       "46   -1.003748\n",
       "Name: Size, dtype: float64"
      ]
     },
     "execution_count": 189,
     "metadata": {},
     "output_type": "execute_result"
    }
   ],
   "source": [
    "data2.iloc[:,1]"
   ]
  },
  {
   "cell_type": "code",
   "execution_count": null,
   "metadata": {},
   "outputs": [],
   "source": []
  }
 ],
 "metadata": {
  "kernelspec": {
   "display_name": "Python 3",
   "language": "python",
   "name": "python3"
  },
  "language_info": {
   "codemirror_mode": {
    "name": "ipython",
    "version": 3
   },
   "file_extension": ".py",
   "mimetype": "text/x-python",
   "name": "python",
   "nbconvert_exporter": "python",
   "pygments_lexer": "ipython3",
   "version": "3.7.3"
  }
 },
 "nbformat": 4,
 "nbformat_minor": 2
}
